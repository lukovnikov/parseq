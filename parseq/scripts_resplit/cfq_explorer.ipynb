{
 "cells": [
  {
   "cell_type": "code",
   "execution_count": 0,
   "metadata": {
    "collapsed": true
   },
   "outputs": [],
   "source": []
  },
  {
   "cell_type": "code",
   "execution_count": 1,
   "outputs": [],
   "source": [
    "import itertools\n",
    "import json\n",
    "import math\n",
    "from itertools import combinations\n",
    "from nltk import Tree\n",
    "from parseq.datasets import CFQDatasetLoader\n",
    "from parseq.grammar import taglisp_to_tree\n",
    "from tqdm import tqdm"
   ],
   "metadata": {
    "collapsed": false,
    "pycharm": {
     "name": "#%%\n"
    }
   }
  },
  {
   "cell_type": "code",
   "execution_count": 2,
   "outputs": [
    {
     "name": "stdout",
     "output_type": "stream",
     "text": [
      "CFQDatasetLoader: make data\n",
      "CFQDatasetLoader: make data in 0.0 sec\n",
      "loading split 'mcd1'\n",
      "splitting off a random 10% of 'train' for 'iidvalid' using seed 42\n"
     ]
    },
    {
     "ename": "KeyboardInterrupt",
     "evalue": "",
     "output_type": "error",
     "traceback": [
      "\u001B[1;31m---------------------------------------------------------------------------\u001B[0m",
      "\u001B[1;31mKeyboardInterrupt\u001B[0m                         Traceback (most recent call last)",
      "\u001B[1;32m<ipython-input-2-c3cdb57bfa13>\u001B[0m in \u001B[0;36m<module>\u001B[1;34m\u001B[0m\n\u001B[1;32m----> 1\u001B[1;33m \u001B[0mds\u001B[0m \u001B[1;33m=\u001B[0m \u001B[0mCFQDatasetLoader\u001B[0m\u001B[1;33m(\u001B[0m\u001B[1;33m)\u001B[0m\u001B[1;33m.\u001B[0m\u001B[0mload\u001B[0m\u001B[1;33m(\u001B[0m\u001B[1;34m\"mcd1/modent\"\u001B[0m\u001B[1;33m)\u001B[0m\u001B[1;33m\u001B[0m\u001B[1;33m\u001B[0m\u001B[0m\n\u001B[0m\u001B[0;32m      2\u001B[0m \u001B[1;33m\u001B[0m\u001B[0m\n",
      "\u001B[1;32m~\\PycharmProjects\\parseq\\parseq\\datasets.py\u001B[0m in \u001B[0;36mload\u001B[1;34m(self, split, validfrac, seed, verbose, lispify)\u001B[0m\n\u001B[0;32m   1209\u001B[0m             \u001B[0msplitidxs\u001B[0m\u001B[1;33m[\u001B[0m\u001B[1;34m\"oodvalid\"\u001B[0m\u001B[1;33m]\u001B[0m \u001B[1;33m=\u001B[0m \u001B[0msplitidxs\u001B[0m\u001B[1;33m[\u001B[0m\u001B[1;34m\"iidvalid\"\u001B[0m\u001B[1;33m]\u001B[0m\u001B[1;33m\u001B[0m\u001B[1;33m\u001B[0m\u001B[0m\n\u001B[0;32m   1210\u001B[0m \u001B[1;33m\u001B[0m\u001B[0m\n\u001B[1;32m-> 1211\u001B[1;33m         \u001B[0mall_lines\u001B[0m \u001B[1;33m=\u001B[0m \u001B[0mopen\u001B[0m\u001B[1;33m(\u001B[0m\u001B[0mos\u001B[0m\u001B[1;33m.\u001B[0m\u001B[0mpath\u001B[0m\u001B[1;33m.\u001B[0m\u001B[0mjoin\u001B[0m\u001B[1;33m(\u001B[0m\u001B[0mself\u001B[0m\u001B[1;33m.\u001B[0m\u001B[0mp\u001B[0m\u001B[1;33m,\u001B[0m \u001B[1;34m\"_data.jsonl\"\u001B[0m\u001B[1;33m)\u001B[0m\u001B[1;33m)\u001B[0m\u001B[1;33m.\u001B[0m\u001B[0mreadlines\u001B[0m\u001B[1;33m(\u001B[0m\u001B[1;33m)\u001B[0m\u001B[1;33m\u001B[0m\u001B[1;33m\u001B[0m\u001B[0m\n\u001B[0m\u001B[0;32m   1212\u001B[0m         \u001B[0mall_lines\u001B[0m \u001B[1;33m=\u001B[0m \u001B[1;33m[\u001B[0m\u001B[0mx\u001B[0m\u001B[1;33m.\u001B[0m\u001B[0mstrip\u001B[0m\u001B[1;33m(\u001B[0m\u001B[1;33m)\u001B[0m \u001B[1;32mfor\u001B[0m \u001B[0mx\u001B[0m \u001B[1;32min\u001B[0m \u001B[0mall_lines\u001B[0m\u001B[1;33m]\u001B[0m\u001B[1;33m\u001B[0m\u001B[1;33m\u001B[0m\u001B[0m\n\u001B[0;32m   1213\u001B[0m         \u001B[1;32mfor\u001B[0m \u001B[0msubsetname\u001B[0m \u001B[1;32min\u001B[0m \u001B[0msplitidxs\u001B[0m\u001B[1;33m:\u001B[0m\u001B[1;33m\u001B[0m\u001B[1;33m\u001B[0m\u001B[0m\n",
      "\u001B[1;32mc:\\users\\denis\\miniconda3\\envs\\dev\\lib\\encodings\\cp1252.py\u001B[0m in \u001B[0;36mdecode\u001B[1;34m(self, input, final)\u001B[0m\n\u001B[0;32m     20\u001B[0m \u001B[1;33m\u001B[0m\u001B[0m\n\u001B[0;32m     21\u001B[0m \u001B[1;32mclass\u001B[0m \u001B[0mIncrementalDecoder\u001B[0m\u001B[1;33m(\u001B[0m\u001B[0mcodecs\u001B[0m\u001B[1;33m.\u001B[0m\u001B[0mIncrementalDecoder\u001B[0m\u001B[1;33m)\u001B[0m\u001B[1;33m:\u001B[0m\u001B[1;33m\u001B[0m\u001B[1;33m\u001B[0m\u001B[0m\n\u001B[1;32m---> 22\u001B[1;33m     \u001B[1;32mdef\u001B[0m \u001B[0mdecode\u001B[0m\u001B[1;33m(\u001B[0m\u001B[0mself\u001B[0m\u001B[1;33m,\u001B[0m \u001B[0minput\u001B[0m\u001B[1;33m,\u001B[0m \u001B[0mfinal\u001B[0m\u001B[1;33m=\u001B[0m\u001B[1;32mFalse\u001B[0m\u001B[1;33m)\u001B[0m\u001B[1;33m:\u001B[0m\u001B[1;33m\u001B[0m\u001B[1;33m\u001B[0m\u001B[0m\n\u001B[0m\u001B[0;32m     23\u001B[0m         \u001B[1;32mreturn\u001B[0m \u001B[0mcodecs\u001B[0m\u001B[1;33m.\u001B[0m\u001B[0mcharmap_decode\u001B[0m\u001B[1;33m(\u001B[0m\u001B[0minput\u001B[0m\u001B[1;33m,\u001B[0m\u001B[0mself\u001B[0m\u001B[1;33m.\u001B[0m\u001B[0merrors\u001B[0m\u001B[1;33m,\u001B[0m\u001B[0mdecoding_table\u001B[0m\u001B[1;33m)\u001B[0m\u001B[1;33m[\u001B[0m\u001B[1;36m0\u001B[0m\u001B[1;33m]\u001B[0m\u001B[1;33m\u001B[0m\u001B[1;33m\u001B[0m\u001B[0m\n\u001B[0;32m     24\u001B[0m \u001B[1;33m\u001B[0m\u001B[0m\n",
      "\u001B[1;31mKeyboardInterrupt\u001B[0m: "
     ]
    }
   ],
   "source": [
    "ds = CFQDatasetLoader().load(\"mcd1/modent\")"
   ],
   "metadata": {
    "collapsed": false,
    "pycharm": {
     "name": "#%%\n"
    }
   }
  },
  {
   "cell_type": "code",
   "execution_count": 3,
   "outputs": [
    {
     "name": "stdout",
     "output_type": "stream",
     "text": [
      "('Which character was influenced by a writer of M1', '(@R@ (@QUERY (@SELECT distinct ?x0 ) (@WHERE (@COND ?x0 a ns:fictional_universe.fictional_character ) (@COND ?x0 ns:influence.influence_node.influenced_by ?x1 ) (@COND ?x1 ns:film.writer.film m1 ) ) ) )', 'train')\n",
      "(@R@\n",
      "  (@QUERY\n",
      "    (@SELECT (distinct ) (?x0 ))\n",
      "    (@WHERE\n",
      "      (@COND\n",
      "        (?x0 )\n",
      "        (a )\n",
      "        (ns:fictional_universe.fictional_character ))\n",
      "      (@COND\n",
      "        (?x0 )\n",
      "        (ns:influence.influence_node.influenced_by )\n",
      "        (?x1 ))\n",
      "      (@COND (?x1 ) (ns:film.writer.film ) (m1 )))))\n",
      "('Who was a executive producer , producer , director , art director , star , writer , and editor of M1', '(@R@ (@QUERY (@SELECT distinct ?x0 ) (@WHERE (@COND ?x0 a ns:people.person ) (@COND ?x0 ns:film.actor.film/ns:film.performance.film m1 ) (@COND ?x0 ns:film.director.film m1 ) (@COND ?x0 ns:film.editor.film m1 ) (@COND ?x0 ns:film.film_art_director.films_art_directed m1 ) (@COND ?x0 ns:film.producer.films_executive_produced m1 ) (@COND ?x0 (@OR ns:film.producer.film ns:film.production_company.films ) m1 ) (@COND ?x0 ns:film.writer.film m1 ) ) ) )', 'oodvalid')\n",
      "(@R@\n",
      "  (@QUERY\n",
      "    (@SELECT (distinct ) (?x0 ))\n",
      "    (@WHERE\n",
      "      (@COND (?x0 ) (a ) (ns:people.person ))\n",
      "      (@COND\n",
      "        (?x0 )\n",
      "        (ns:film.actor.film/ns:film.performance.film )\n",
      "        (m1 ))\n",
      "      (@COND (?x0 ) (ns:film.director.film ) (m1 ))\n",
      "      (@COND (?x0 ) (ns:film.editor.film ) (m1 ))\n",
      "      (@COND\n",
      "        (?x0 )\n",
      "        (ns:film.film_art_director.films_art_directed )\n",
      "        (m1 ))\n",
      "      (@COND\n",
      "        (?x0 )\n",
      "        (ns:film.producer.films_executive_produced )\n",
      "        (m1 ))\n",
      "      (@COND\n",
      "        (?x0 )\n",
      "        (@OR\n",
      "          (ns:film.producer.film )\n",
      "          (ns:film.production_company.films ))\n",
      "        (m1 ))\n",
      "      (@COND (?x0 ) (ns:film.writer.film ) (m1 )))))\n"
     ]
    }
   ],
   "source": [
    "print(ds[11])\n",
    "print(taglisp_to_tree(ds[11][1]))\n",
    "print(ds[-21])\n",
    "print(taglisp_to_tree(ds[-21][1]))"
   ],
   "metadata": {
    "collapsed": false,
    "pycharm": {
     "name": "#%%\n"
    }
   }
  },
  {
   "cell_type": "code",
   "execution_count": 140,
   "outputs": [
    {
     "name": "stdout",
     "output_type": "stream",
     "text": [
      "(@R@\n",
      "  (@QUERY\n",
      "    (@SELECT (count (* )))\n",
      "    (@WHERE\n",
      "      (filter (m0 ) (!= ) (m2 ))\n",
      "      (filter (m0 ) (!= ) (m3 ))\n",
      "      (@COND (m0 ) (a ) (ns:film.film_art_director ))\n",
      "      (@COND\n",
      "        (m0 )\n",
      "        (@OR\n",
      "          (ns:people.person.spouse_s/ns:people.marriage.spouse )\n",
      "          (ns:fictional_universe.fictional_character.married_to/ns:fictional_universe.marriage_of_fictional_characters.spouses))\n",
      "        (m2 ))\n",
      "      (@COND\n",
      "        (m0 )\n",
      "        (@OR\n",
      "          (ns:people.person.spouse_s/ns:people.marriage.spouse )\n",
      "          (ns:fictional_universe.fictional_character.married_to/ns:fictional_universe.marriage_of_fictional_characters.spouses))\n",
      "        (m3 )))))\n",
      "(@R@\n",
      "  (@QUERY\n",
      "    (@SELECT (distinct ) (?x0 ))\n",
      "    (@WHERE\n",
      "      (@COND (?x0 ) (ns:film.film.directed_by ) (?x1 ))\n",
      "      (@COND (?x0 ) (ns:film.film.edited_by ) (?x1 ))\n",
      "      (@COND\n",
      "        (?x0 )\n",
      "        (@OR\n",
      "          (ns:film.film.produced_by )\n",
      "          (ns:film.film.production_companies ))\n",
      "        (?x1 ))\n",
      "      (@COND\n",
      "        (?x1 )\n",
      "        (@OR\n",
      "          (ns:people.person.parents )\n",
      "          (ns:fictional_universe.fictional_character.parents )\n",
      "          (ns:organization.organization.parent/ns:organization.organization_relationship.parent))\n",
      "        (m0 )))))\n",
      "(@R@\n",
      "  (@QUERY\n",
      "    (@SELECT (count (* )))\n",
      "    (@WHERE\n",
      "      (filter (m0 ) (!= ) (m1 ))\n",
      "      (@COND (m0 ) (ns:people.person.nationality ) (ns:m.0d060g ))\n",
      "      (@COND\n",
      "        (m0 )\n",
      "        (@OR\n",
      "          (ns:people.person.sibling_s/ns:people.sibling_relationship.sibling)\n",
      "          (ns:fictional_universe.fictional_character.siblings/ns:fictional_universe.sibling_relationship_of_fictional_characters.siblings))\n",
      "        (m1 )))))\n",
      "(@R@\n",
      "  (@QUERY\n",
      "    (@SELECT (distinct ) (?x0 ))\n",
      "    (@WHERE\n",
      "      (@COND (?x0 ) (a ) (ns:people.person ))\n",
      "      (@COND (?x0 ) (ns:film.writer.film ) (m1 ))\n",
      "      (@COND (?x0 ) (ns:people.person.nationality ) (ns:m.09c7w0 )))))\n"
     ]
    }
   ],
   "source": [
    "c = 0\n",
    "for ex in ds:\n",
    "    print(taglisp_to_tree(ex[1]))\n",
    "    c += 1\n",
    "    if c >= 4:\n",
    "        break\n"
   ],
   "metadata": {
    "collapsed": false,
    "pycharm": {
     "name": "#%%\n"
    }
   }
  },
  {
   "cell_type": "code",
   "execution_count": 116,
   "outputs": [],
   "source": [
    "class DivergenceComputer():\n",
    "\n",
    "    orderless = {\"@QUERY\", \"@AND\", \"@OR\", \"@WHERE\"}\n",
    "    variablesize = {\"@AND\", \"@OR\", \"@WHERE\"}\n",
    "\n",
    "    def __init__(self, verbose=False):\n",
    "        super(DivergenceComputer, self).__init__()\n",
    "        self.verbose = verbose\n",
    "\n",
    "    def _extract_atom(self, x:Tree):\n",
    "        if x.label() in self.orderless:\n",
    "            if x.label() in self.variablesize:\n",
    "                childstr = \"ARG*\"\n",
    "            else:\n",
    "                childstr = \" \".join([\"ARG\" for _ in range(len(x))])\n",
    "        else:\n",
    "            childstr = \" \".join([f\"ARG{i+1}\" for i in range(len(x))])\n",
    "        ret = f\"({x.label()} {childstr})\"\n",
    "        return ret\n",
    "\n",
    "    def extract_atoms(self, x:Tree):\n",
    "        ret = []\n",
    "        for child in x:\n",
    "            ret = ret + self.extract_atoms(child)\n",
    "        ret.append(self._extract_atom(x))\n",
    "        return ret\n",
    "\n",
    "    def extract_compounds(self, x:Tree):\n",
    "        \"\"\" This method extracts simple compounds that consist of two elements: parent and child \"\"\"\n",
    "        if len(x) == 0:     # leaf\n",
    "            retcomps = []\n",
    "            retatom = self._extract_atom(x)\n",
    "            retcomps += [retatom, \"<>\"]\n",
    "            return retcomps, retatom\n",
    "        else:\n",
    "            compounds = []\n",
    "            xstr = self._extract_atom(x)\n",
    "            childgroups = []\n",
    "            for i, child in enumerate(x):\n",
    "                childcomps, childatom = self.extract_compounds(child)\n",
    "                compounds = compounds + childcomps\n",
    "                if x.label() in self.orderless:\n",
    "                    connectstr = \"ARG\"\n",
    "                else:\n",
    "                    connectstr = f\"ARG-{i}\"\n",
    "                for childcomp in childcomps:\n",
    "                    childgroups.append((childcomp, connectstr))\n",
    "            # TODO\n",
    "            raise NotImplemented()\n",
    "                # compounds.append(f\"{xstr} - {connectstr} -> {childatom}\")\n",
    "            return compounds, xstr\n",
    "\n",
    "    def extract_coocs(self, x:Tree):\n",
    "        \"\"\" This method extracts co-occurrences across the entire tree \"\"\"\n",
    "        atoms = self.extract_atoms(x)\n",
    "        coocs = []\n",
    "        for i, atom in enumerate(atoms):\n",
    "            for j, atom2 in enumerate(atoms):\n",
    "                if i != j:\n",
    "                    coocs.append(f\"{atom},{atom2}\")\n",
    "        return coocs\n",
    "\n",
    "    @staticmethod\n",
    "    def compute_chernoff_coeff(dist1, dist2, alpha=0.5, weights=None):\n",
    "        acc = 0\n",
    "        for k in dist1:\n",
    "            v1 = dist1[k]\n",
    "            if k not in dist2:\n",
    "                v2 = 0\n",
    "            else:\n",
    "                v2 = dist2[k]\n",
    "            contrib = math.pow(v1, alpha) * math.pow(v2, 1 - alpha)\n",
    "            if weights is not None:\n",
    "                if k in weights:\n",
    "                    contrib = contrib * weights[k]\n",
    "            acc += contrib\n",
    "        return acc\n",
    "\n",
    "    def compute_atom_distributions(self, ds):\n",
    "        atomses = dict()\n",
    "        c = 100000000000\n",
    "        for example in tqdm(ds):\n",
    "            # print(example)\n",
    "            atoms = self.extract_atoms(taglisp_to_tree(example[1]))\n",
    "            # print(atoms)\n",
    "            if example[2] not in atomses:\n",
    "                atomses[example[2]] = dict()\n",
    "            for atom in atoms:\n",
    "                if atom not in atomses[example[2]]:\n",
    "                    atomses[example[2]][atom] = 0\n",
    "                atomses[example[2]][atom] += 1\n",
    "            if c <= 0:\n",
    "                break\n",
    "            c -= 1\n",
    "        for k, atoms in atomses.items():\n",
    "            total = sum(atoms.values())\n",
    "            for atoms_k in atoms:\n",
    "                atoms[atoms_k] = atoms[atoms_k] / total\n",
    "        return atomses\n",
    "\n",
    "    def compute_compound_distributions(self, ds):\n",
    "        compoundses = dict()\n",
    "        c = 100000000000\n",
    "        for example in tqdm(ds):\n",
    "            # print(example)\n",
    "            compounds = self.extract_compounds(taglisp_to_tree(example[1]))\n",
    "            # print(atoms)\n",
    "            if example[2] not in compoundses:\n",
    "                compoundses[example[2]] = dict()\n",
    "            for compound in compounds:\n",
    "                if compound not in compoundses[example[2]]:\n",
    "                    compoundses[example[2]][compound] = 0\n",
    "                compoundses[example[2]][compound] += 1\n",
    "            if c <= 0:\n",
    "                break\n",
    "            c -= 1\n",
    "        for k, compounds in compoundses.items():\n",
    "            total = sum(compounds.values())\n",
    "            for compounds_k in compounds:\n",
    "                compounds[compounds_k] = compounds[compounds_k] / total\n",
    "        return compoundses\n",
    "\n",
    "    def compute_cooc_distributions(self, ds):\n",
    "        compoundses = dict()\n",
    "        weights = dict()\n",
    "        c = 100000000000\n",
    "        totalex = 0\n",
    "        for example in tqdm(ds):\n",
    "            # print(example)\n",
    "            compounds = self.extract_coocs(taglisp_to_tree(example[1]))\n",
    "            # print(atoms)\n",
    "            if example[2] not in compoundses:\n",
    "                compoundses[example[2]] = dict()\n",
    "            for compound in compounds:\n",
    "                if compound not in compoundses[example[2]]:\n",
    "                    compoundses[example[2]][compound] = 0\n",
    "                compoundses[example[2]][compound] += 1\n",
    "            for compound in set(compounds):\n",
    "                if compound not in weights:\n",
    "                    weights[compound] = 0\n",
    "                weights[compound] += 1\n",
    "            if c <= 0:\n",
    "                break\n",
    "            c -= 1\n",
    "            totalex += 1\n",
    "        for k in weights:\n",
    "            weights[k] = 1/weights[k]     # inverse example frequency\n",
    "        totalweight = sum(weights.values())\n",
    "        for k in weights:\n",
    "            weights[k] = weights[k] * totalex / totalweight\n",
    "        for k, compounds in compoundses.items():\n",
    "            total = sum(compounds.values())\n",
    "            for compounds_k in compounds:\n",
    "                compounds[compounds_k] = compounds[compounds_k] / total\n",
    "        return compoundses, weights\n",
    "\n",
    "    def _compute_atom_divergences(self, dists):\n",
    "        divergences = dict()\n",
    "        for subsetname in dists:\n",
    "            for subsetname2 in dists:\n",
    "                if self.verbose:\n",
    "                    print(f\"computing divergence between {subsetname} and {subsetname2}\")\n",
    "                divergences[subsetname + \"-\" + subsetname2] = 1 - self.compute_chernoff_coeff(dists[subsetname], dists[subsetname2], 0.5)\n",
    "        return divergences\n",
    "\n",
    "    def compute_atom_divergences(self, ds):\n",
    "        dists = self.compute_atom_distributions(ds)\n",
    "        return self._compute_atom_divergences(dists)\n",
    "\n",
    "    def _compute_compound_divergences(self, dists):\n",
    "        divergences = dict()\n",
    "        for subsetname in dists:\n",
    "            for subsetname2 in dists:\n",
    "                if self.verbose:\n",
    "                    print(f\"computing divergence between {subsetname} and {subsetname2}\")\n",
    "                divergences[subsetname + \"-\" + subsetname2] = 1 - self.compute_chernoff_coeff(dists[subsetname], dists[subsetname2], 0.1)\n",
    "        return divergences\n",
    "\n",
    "    def compute_compound_divergences(self, ds):\n",
    "        dists = self.compute_compound_distributions(ds)\n",
    "        return self._compute_compound_divergences(dists)\n",
    "\n",
    "    def _compute_cooc_divergences(self, dists, fs):\n",
    "        \"\"\" dists contains distributions per subset, fs contains in what proportion of examples a co-occurrence occurs\"\"\"\n",
    "        divergences = dict()\n",
    "        for subsetname in dists:\n",
    "            for subsetname2 in dists:\n",
    "                if self.verbose:\n",
    "                    print(f\"computing divergence between {subsetname} and {subsetname2}\")\n",
    "                divergences[subsetname + \"-\" + subsetname2] = 1 - self.compute_chernoff_coeff(dists[subsetname], dists[subsetname2], 0.1, weights=fs)\n",
    "        return divergences\n",
    "\n",
    "    def compute_cooc_divergences(self, ds):\n",
    "        dists, dfs = self.compute_cooc_distributions(ds)\n",
    "        return self._compute_cooc_divergences(dists, dfs)"
   ],
   "metadata": {
    "collapsed": false,
    "pycharm": {
     "name": "#%%\n"
    }
   }
  },
  {
   "cell_type": "code",
   "execution_count": 117,
   "outputs": [],
   "source": [
    "dc = DivergenceComputer()"
   ],
   "metadata": {
    "collapsed": false,
    "pycharm": {
     "name": "#%%\n"
    }
   }
  },
  {
   "cell_type": "code",
   "execution_count": 107,
   "outputs": [
    {
     "name": "stderr",
     "output_type": "stream",
     "text": [
      "100%|██████████| 119679/119679 [00:31<00:00, 3801.52it/s]\n"
     ]
    },
    {
     "name": "stdout",
     "output_type": "stream",
     "text": [
      "{'train': {'(* )': 0.0205044498853523, '(count ARG1)': 0.0205044498853523, '(@SELECT ARG1)': 0.0205044498853523, '(m0 )': 0.023357449236943356, '(!= )': 0.012561133508833294, '(m2 )': 0.028554129874061394, '(filter ARG1 ARG2 ARG3)': 0.012561133508833294, '(m3 )': 0.012529633515992383, '(a )': 0.028569266234257675, '(ns:film.film_art_director )': 0.0016204087226343812, '(@COND ARG1 ARG2 ARG3)': 0.16829955265919258, '(ns:people.person.spouse_s/ns:people.marriage.spouse )': 0.008771725279153346, '(ns:fictional_universe.fictional_character.married_to/ns:fictional_universe.marriage_of_fictional_characters.spouses )': 0.008771725279153346, '(@OR ARG*)': 0.029727811425497404, '(@WHERE ARG*)': 0.03525094653387579, '(@QUERY ARG ARG)': 0.03525094653387579, '(@R@ ARG1)': 0.03525094653387579, '(distinct )': 0.01474649664852349, '(?x0 )': 0.1354606055771351, '(@SELECT ARG1 ARG2)': 0.01474649664852349, '(ns:film.film.directed_by )': 0.008037407264225622, '(?x1 )': 0.06743575740096423, '(ns:film.film.edited_by )': 0.007727725516426019, '(ns:film.film.produced_by )': 0.007689680070527257, '(ns:film.film.production_companies )': 0.007689680070527257, '(ns:people.person.parents )': 0.002747044830217084, '(ns:fictional_universe.fictional_character.parents )': 0.002747044830217084, '(ns:organization.organization.parent/ns:organization.organization_relationship.parent )': 0.002747044830217084, '(m1 )': 0.04017353632419629, '(ns:people.person.nationality )': 0.009789543229649266, '(ns:m.0d060g )': 0.0009184088821797995, '(ns:people.person.sibling_s/ns:people.sibling_relationship.sibling )': 0.003789408229679948, '(ns:fictional_universe.fictional_character.siblings/ns:fictional_universe.sibling_relationship_of_fictional_characters.siblings )': 0.003789408229679948, '(ns:people.person )': 0.006200998590682139, '(ns:film.writer.film )': 0.004069635438719218, '(ns:m.09c7w0 )': 0.0005984998639773036, '(ns:film.editor.film )': 0.0042238626763948465, '(ns:film.producer.films_executive_produced )': 0.0038634536673968936, '(?x2 )': 0.015002587499411931, '(ns:film.film.sequel )': 0.0010934997514773293, '(?x3 )': 0.0017770905052067033, '(ns:film.film )': 0.0029937265923348656, '(ns:film.film.prequel )': 0.0010288634025310448, '(ns:people.person.gender )': 0.004071680892799797, '(ns:m.02zsn )': 0.0021027267948348196, '(ns:film.film.executive_produced_by )': 0.008584361685372344, '(ns:film.film.written_by )': 0.007914680019390904, '(ns:film.actor.film/ns:film.performance.film )': 0.0026709539384195593, '(ns:film.actor.film/ns:film.performance.character )': 0.002141590422365813, '(ns:film.cinematographer.film )': 0.002156317691745979, '(ns:film.film_costumer_designer.costume_design_for_film )': 0.0017750450511261247, '(ns:m.0345h )': 0.0006582271231301993, '(ns:fictional_universe.fictional_character )': 0.0010349997647727807, '(ns:influence.influence_node.influenced_by )': 0.00789218002450454, '(ns:m.0d05w3 )': 0.0007969089097934295, '(ns:film.film.starring/ns:film.performance.actor )': 0.0020564995326137424, '(ns:film.cinematographer )': 0.0019202722908472066, '(ns:influence.influence_node.influenced )': 0.0043641808263225395, '(ns:people.person.children )': 0.0028489084434298994, '(ns:fictional_universe.fictional_character.children )': 0.0028489084434298994, '(ns:organization.organization.child/ns:organization.organization_relationship.child )': 0.0028489084434298994, '(ns:people.person.employment_history/ns:business.employment_tenure.company )': 0.004785135276105619, '(ns:film.producer )': 0.002441863081394754, '(ns:film.director.film )': 0.0036724082562708507, '(ns:m.03_3d )': 0.0008480452618078951, '(ns:organization.organization.companies_acquired/ns:business.acquisition.company_acquired )': 0.000717954382283095, '(ns:film.producer.film )': 0.00388104457248987, '(ns:film.production_company.films )': 0.00388104457248987, '(ns:m.059j2 )': 0.0007052725669835075, '(ns:film.film_costumer_designer )': 0.001589726911425702, '(ns:film.actor )': 0.0020074086346798556, '(ns:film.writer )': 0.0020184540867149805, '(ns:organization.organization_founder.organizations_founded )': 0.003969817279586982, '(ns:film.film_distributor )': 0.0008959088872934347, '(ns:organization.organization.founders )': 0.00432777174368824, '(m4 )': 0.005631544174649051, '(ns:film.editor )': 0.0019840904581612594, '(ns:film.film_art_director.films_art_directed )': 0.0018924541153513374, '(ns:m.0d0vqn )': 0.0007707270975620233, '(m5 )': 0.0026873175710641884, '(ns:m.07ssc )': 0.0008975452505578976, '(ns:m.05zppz )': 0.001968954097964978, '(ns:film.director )': 0.0020315449928306833, '(ns:m.06mkj )': 0.0008562270781302095, '(ns:business.employer.employees/ns:business.employment_tenure.person )': 0.0031397720136881785, '(ns:business.employer )': 0.0009584997821591404, '(ns:m.0b90_r )': 0.0008374089005888862, '(ns:film.film_distributor.films_distributed/ns:film.film_film_distributor_relationship.film )': 0.000953181601549636, '(ns:film.production_company )': 0.0008713634383264913, '(ns:m.0f8l9c )': 0.0010010452270351757, '(^ns:people.person.nationality )': 0.0003771817324586972, '(ns:organization.organization.acquired_by/ns:business.acquisition.acquiring_company )': 0.0009216816087087253, '(ns:film.film.distributors/ns:film.film_film_distributor_relationship.distributor )': 0.0016126359971281824, '(ns:m.03rjj )': 0.0008881361617872359, '(m6 )': 0.0009462270576756687, '(^ns:people.person.gender )': 0.00010718179382231958, '(m7 )': 0.0003154090192252229, '(ns:film.film.cinematography )': 2.24999948863648e-05, '(?x4 )': 0.00015545451012397498, '(ns:film.film.costume_design_by )': 1.5545451012397498e-05, '(m8 )': 1.472726938016605e-05, '(ns:film.film.film_art_direction_by )': 2.5772721415290587e-05, '(?x5 )': 8.590907138430197e-06, '(m9 )': 4.090908161157236e-07}, 'test': {'(* )': 0.012558951633565185, '(count ARG1)': 0.012558951633565185, '(@SELECT ARG1)': 0.012558951633565185, '(?x0 )': 0.18074072668267177, '(ns:film.cinematographer.film )': 0.00548238330660543, '(m0 )': 0.050949868574627785, '(@COND ARG1 ARG2 ARG3)': 0.18438932275604225, '(ns:film.director.film )': 0.015220671265763928, '(ns:film.editor.film )': 0.013837620868641052, '(ns:film.producer.film )': 0.010174791000445993, '(ns:film.production_company.films )': 0.010174791000445993, '(@OR ARG*)': 0.026944573602953038, '(ns:film.writer.film )': 0.013690538322120267, '(ns:influence.influence_node.influenced )': 0.003309357296717687, '(m1 )': 0.047998728447662335, '(ns:people.person.spouse_s/ns:people.marriage.spouse )': 0.006400463072791626, '(ns:fictional_universe.fictional_character.married_to/ns:fictional_universe.marriage_of_fictional_characters.spouses )': 0.006400463072791626, '(!= )': 0.008618562766290578, '(filter ARG1 ARG2 ARG3)': 0.008618562766290578, '(@WHERE ARG*)': 0.028391676076786578, '(@QUERY ARG ARG)': 0.028391676076786578, '(@R@ ARG1)': 0.028391676076786578, '(a )': 0.015998785382841635, '(ns:film.film_art_director )': 0.000849283091200668, '(ns:film.film.starring/ns:film.performance.actor )': 0.0007425296300162265, '(m2 )': 0.031710522570053995, '(ns:film.producer.films_executive_produced )': 0.010041942248749798, '(m3 )': 0.023988688877712723, '(m6 )': 0.0027210271106345428, '(m4 )': 0.013389256331666398, '(m5 )': 0.0063435278934932575, '(ns:people.person.gender )': 0.003375781672565784, '(ns:m.05zppz )': 0.0017080553789510643, '(ns:film.film_art_director.films_art_directed )': 0.0034754182363379293, '(ns:m.02zsn )': 0.0016677262936147196, '(ns:people.person.nationality )': 0.008684987142138676, '(ns:m.09c7w0 )': 0.0005574902972965279, '(ns:film.actor )': 0.0009963656377214541, '(ns:m.03_3d )': 0.0007425296300162265, '(ns:business.employer.employees/ns:business.employment_tenure.person )': 0.0014233794824592202, '(ns:film.actor.film/ns:film.performance.film )': 0.006597363901198486, '(ns:film.film_costumer_designer.costume_design_for_film )': 0.0022702902745224563, '(ns:film.editor )': 0.0011908941669908808, '(ns:film.cinematographer )': 0.000977387244621998, '(ns:m.0d05w3 )': 0.0006950836472675859, '(ns:film.film_costumer_designer )': 0.0008730060825749884, '(ns:film.director )': 0.0010366947230577986, '(ns:film.producer )': 0.0013616997048859873, '(ns:organization.organization_founder.organizations_founded )': 0.005655561143637968, '(?x1 )': 0.01497869675374586, '(ns:people.person.employment_history/ns:business.employment_tenure.company )': 0.006514333431388364, '(ns:film.film_distributor )': 0.00041278004991317387, '(ns:film.actor.film/ns:film.performance.character )': 0.002234705787460976, '(ns:people.person.children )': 0.001912073104770219, '(ns:fictional_universe.fictional_character.children )': 0.001912073104770219, '(ns:organization.organization.child/ns:organization.organization_relationship.child )': 0.001912073104770219, '(ns:m.03rjj )': 0.0008255600998263477, '(ns:people.person )': 0.004002068644847841, '(ns:m.059j2 )': 0.0005598625964339599, '(ns:m.07ssc )': 0.0007852310144900031, '(ns:film.production_company )': 0.0004365030412874942, '(ns:m.0345h )': 0.0006855944507178578, '(ns:m.06mkj )': 0.0007140620403670421, '(ns:m.0b90_r )': 0.0006215423740071928, '(m7 )': 0.0007401573308787945, '(ns:fictional_universe.fictional_character )': 0.0006025639809077365, '(ns:m.0f8l9c )': 0.0008919844756744447, '(ns:people.person.parents )': 0.0018171811392729378, '(ns:fictional_universe.fictional_character.parents )': 0.0018171811392729378, '(ns:organization.organization.parent/ns:organization.organization_relationship.parent )': 0.0018171811392729378, '(ns:people.person.sibling_s/ns:people.sibling_relationship.sibling )': 0.0022180996934989513, '(ns:fictional_universe.fictional_character.siblings/ns:fictional_universe.sibling_relationship_of_fictional_characters.siblings )': 0.0022180996934989513, '(ns:film.film )': 0.0014447301746961085, '(ns:m.0d060g )': 0.0009418027575605174, '(ns:m.0d0vqn )': 0.0006594991602061053, '(ns:film.writer )': 0.0013000199273127545, '(ns:organization.organization.companies_acquired/ns:business.acquisition.company_acquired )': 0.0005764686903959842, '(ns:film.film_distributor.films_distributed/ns:film.film_film_distributor_relationship.film )': 0.0006500099636563772, '(ns:business.employer )': 0.0005147889128227513, '(ns:organization.organization.founders )': 0.001836159532372394, '(ns:film.film.cinematography )': 9.489196549728135e-06, '(m8 )': 6.167977757323287e-05, '(m9 )': 4.744598274864067e-06, '(?x2 )': 0.00016606093962024236, '(ns:influence.influence_node.influenced_by )': 0.006433675260715675, '(ns:film.film.prequel )': 0.0008136986041391875, '(ns:film.film.sequel )': 0.0009251966635984931, '(ns:organization.organization.acquired_by/ns:business.acquisition.acquiring_company )': 0.0010414393213326629, '(ns:film.film.distributors/ns:film.film_film_distributor_relationship.distributor )': 0.0010366947230577986, '(ns:film.film.produced_by )': 0.00442196559217331, '(ns:film.film.production_companies )': 0.00442196559217331, '(^ns:people.person.nationality )': 0.0003202603835533245, '(ns:film.film.directed_by )': 0.006464515149502291, '(ns:film.film.edited_by )': 0.0065760132089615975, '(ns:film.film.executive_produced_by )': 0.004860840932598237, '(ns:film.film.written_by )': 0.007154854198495013, '(distinct )': 0.015832724443221393, '(@SELECT ARG1 ARG2)': 0.015832724443221393, '(^ns:people.person.gender )': 0.00018741163185713065, '(ns:film.film.costume_design_by )': 2.3722991374320337e-06}, 'iidvalid': {'(* )': 0.020432399737403094, '(count ARG1)': 0.020432399737403094, '(@SELECT ARG1)': 0.020432399737403094, '(?x0 )': 0.1351857725586233, '(ns:business.employer.employees/ns:business.employment_tenure.person )': 0.0031312468189630374, '(?x1 )': 0.06869564575972383, '(@COND ARG1 ARG2 ARG3)': 0.16782597791530512, '(m0 )': 0.022966164831192973, '(ns:film.film_distributor.films_distributed/ns:film.film_film_distributor_relationship.film )': 0.001028996304464885, '(m1 )': 0.04037427435475662, '(ns:film.writer.film )': 0.004127049694251636, '(m2 )': 0.027369826435246995, '(ns:people.person.nationality )': 0.009626094461123119, '(ns:m.07ssc )': 0.0007966423002308788, '(@WHERE ARG*)': 0.03531043232597423, '(@QUERY ARG ARG)': 0.03531043232597423, '(@R@ ARG1)': 0.03531043232597423, '(a )': 0.028424639851293437, '(ns:film.film )': 0.003127558660165672, '(ns:film.film.executive_produced_by )': 0.00863766790342925, '(ns:film.film.starring/ns:film.performance.actor )': 0.0018071978107089379, '(distinct )': 0.014878032588571134, '(@SELECT ARG1 ARG2)': 0.014878032588571134, '(ns:film.film_distributor )': 0.0009035989053544689, '(ns:organization.organization.founders )': 0.004197124711401574, '(ns:film.film_costumer_designer )': 0.0016891767291932521, '(ns:film.producer.film )': 0.004034845724317507, '(ns:film.production_company.films )': 0.004034845724317507, '(@OR ARG*)': 0.030508449571804763, '(ns:film.film.cinematography )': 2.9505270378921434e-05, '(ns:film.film.directed_by )': 0.007914788779145674, '(ns:film.film.film_art_direction_by )': 3.319342917628662e-05, '(ns:film.film.written_by )': 0.00780414401522472, '(ns:film.actor.film/ns:film.performance.film )': 0.0025227006173977828, '(ns:film.cinematographer.film )': 0.002146508420066534, '(ns:film.editor.film )': 0.004138114170643731, '(ns:people.person.gender )': 0.00411598521785954, '(ns:m.05zppz )': 0.0019252188922246236, '(ns:people.person.sibling_s/ns:people.sibling_relationship.sibling )': 0.0037324167029335613, '(ns:fictional_universe.fictional_character.siblings/ns:fictional_universe.sibling_relationship_of_fictional_characters.siblings )': 0.0037324167029335613, '(ns:fictional_universe.fictional_character )': 0.0010990713216148234, '(!= )': 0.012451224099904845, '(filter ARG1 ARG2 ARG3)': 0.012451224099904845, '(ns:film.film.prequel )': 0.0010253081456675199, '(ns:people.person )': 0.00626618179672344, '(ns:influence.influence_node.influenced_by )': 0.007678746616114303, '(ns:m.03_3d )': 0.0008113949354203395, '(ns:film.director.film )': 0.003684470638567814, '(ns:film.writer )': 0.0020026702269692926, '(ns:m.0d0vqn )': 0.0008187712530150698, '(ns:film.editor )': 0.0019399715274140844, '(ns:organization.organization_founder.organizations_founded )': 0.004112297059062175, '(ns:people.person.children )': 0.0029025809735263963, '(ns:fictional_universe.fictional_character.children )': 0.0029025809735263963, '(ns:organization.organization.child/ns:organization.organization_relationship.child )': 0.0029025809735263963, '(?x2 )': 0.015412815614189085, '(ns:film.producer )': 0.002460001917842575, '(ns:film.film.produced_by )': 0.00801068090787717, '(ns:film.film.production_companies )': 0.00801068090787717, '(m3 )': 0.01212666612573671, '(ns:film.film.sequel )': 0.0011359529095884753, '(ns:film.film.distributors/ns:film.film_film_distributor_relationship.distributor )': 0.001770316222735286, '(ns:m.0b90_r )': 0.0007966423002308788, '(ns:people.person.spouse_s/ns:people.marriage.spouse )': 0.008718807396971284, '(ns:fictional_universe.fictional_character.married_to/ns:fictional_universe.marriage_of_fictional_characters.spouses )': 0.008718807396971284, '(ns:film.actor )': 0.0019289070510219888, '(ns:m.06mkj )': 0.000822459411812435, '(ns:film.director )': 0.0019657886389956407, '(ns:people.person.employment_history/ns:business.employment_tenure.company )': 0.004672897196261682, '(ns:m.0d05w3 )': 0.000822459411812435, '(ns:film.production_company )': 0.0008740936349755476, '(ns:people.person.parents )': 0.0031091178661788463, '(ns:fictional_universe.fictional_character.parents )': 0.0031091178661788463, '(ns:organization.organization.parent/ns:organization.organization_relationship.parent )': 0.0031091178661788463, '(ns:film.film.edited_by )': 0.0077045637276958595, '(ns:business.employer )': 0.0009404804933281207, '(?x3 )': 0.0017924451755194771, '(ns:film.film_art_director.films_art_directed )': 0.0019399715274140844, '(ns:organization.organization.acquired_by/ns:business.acquisition.acquiring_company )': 0.0009552331285175814, '(ns:organization.organization.companies_acquired/ns:business.acquisition.company_acquired )': 0.0006306751543494457, '(ns:film.actor.film/ns:film.performance.character )': 0.002142820261269169, '(m4 )': 0.005657635595158185, '(ns:m.0d060g )': 0.0009035989053544689, '(ns:m.02zsn )': 0.0021907663256349164, '(ns:film.producer.films_executive_produced )': 0.0036475890505941622, '(ns:influence.influence_node.influenced )': 0.004149178647035827, '(m5 )': 0.0025005716646135916, '(m6 )': 0.0007892659826361484, '(ns:film.cinematographer )': 0.0017813806991273816, '(ns:film.film_art_director )': 0.0014457582485671503, '(ns:m.0345h )': 0.0006823093775125582, '(ns:m.0f8l9c )': 0.000966297604909677, '(ns:film.film_costumer_designer.costume_design_for_film )': 0.001829326763493129, '(ns:m.059j2 )': 0.0006454277895389064, '(ns:m.09c7w0 )': 0.0005901054075784287, '(ns:m.03rjj )': 0.0009589212873149466, '(^ns:people.person.nationality )': 0.0003872566737233438, '(?x4 )': 0.0001770316222735286, '(m7 )': 0.00021022505144981522, '(^ns:people.person.gender )': 0.00015859082828670272, '(?x5 )': 1.4752635189460717e-05, '(ns:film.film.costume_design_by )': 7.3763175947303585e-06, '(m8 )': 3.6881587973651792e-06}, 'oodvalid': {'(* )': 0.012562274472599232, '(count ARG1)': 0.012562274472599232, '(@SELECT ARG1)': 0.012562274472599232, '(?x0 )': 0.17869912137238658, '(ns:film.actor.film/ns:film.performance.film )': 0.006376717194244434, '(m3 )': 0.024291469311753505, '(@COND ARG1 ARG2 ARG3)': 0.18423095893837807, '(ns:film.cinematographer.film )': 0.005767837462151516, '(ns:film.director.film )': 0.015219633303361346, '(m0 )': 0.05200021711990447, '(m1 )': 0.04830917874396135, '(m2 )': 0.031685346058447736, '(ns:film.editor.film )': 0.014056153815292322, '(ns:film.writer.film )': 0.01410335379452433, '(@WHERE ARG*)': 0.02824446757243427, '(@QUERY ARG ARG)': 0.02824446757243427, '(@R@ ARG1)': 0.02824446757243427, '(ns:film.producer.films_executive_produced )': 0.01038635543000361, '(ns:film.producer.film )': 0.010527955367699638, '(ns:film.production_company.films )': 0.010527955367699638, '(@OR ARG*)': 0.02743498792860531, '(m6 )': 0.0027800787767653383, '(m4 )': 0.013442554085276202, '(m5 )': 0.006058117334428373, '(ns:people.person.gender )': 0.003197798592968619, '(ns:m.05zppz )': 0.0015953592980419088, '(ns:organization.organization_founder.organizations_founded )': 0.005744237472535512, '(a )': 0.015889873008455877, '(ns:film.film_costumer_designer )': 0.0008425196292913631, '(ns:film.film.starring/ns:film.performance.actor )': 0.0007174396843265388, '(ns:film.film_distributor.films_distributed/ns:film.film_film_distributor_relationship.film )': 0.000599439736246516, '(ns:organization.organization.companies_acquired/ns:business.acquisition.company_acquired )': 0.0004932397829744955, '(ns:film.producer )': 0.0014655593551538837, '(ns:business.employer.employees/ns:business.employment_tenure.person )': 0.0017015592513139294, '(m7 )': 0.0006678797061329293, '(ns:influence.influence_node.influenced )': 0.0031246386251590048, '(ns:people.person.nationality )': 0.008762676144422497, '(ns:m.0d05w3 )': 0.0006796797009409316, '(ns:m.0f8l9c )': 0.0009038796022929749, '(ns:people.person.spouse_s/ns:people.marriage.spouse )': 0.006553717116364469, '(ns:fictional_universe.fictional_character.married_to/ns:fictional_universe.marriage_of_fictional_characters.spouses )': 0.006553717116364469, '(!= )': 0.00872963615896009, '(filter ARG1 ARG2 ARG3)': 0.00872963615896009, '(ns:film.film_art_director.films_art_directed )': 0.0034007585036662583, '(?x1 )': 0.01554767315902381, '(ns:people.person )': 0.004113478190069597, '(ns:m.0345h )': 0.0007056396895185367, '(ns:m.07ssc )': 0.0008637596199457672, '(ns:people.person.employment_history/ns:business.employment_tenure.company )': 0.007087076881686172, '(ns:m.059j2 )': 0.0005309997663601028, '(ns:people.person.sibling_s/ns:people.sibling_relationship.sibling )': 0.002175919042595621, '(ns:fictional_universe.fictional_character.siblings/ns:fictional_universe.sibling_relationship_of_fictional_characters.siblings )': 0.002175919042595621, '(ns:film.director )': 0.0010147995534881965, '(ns:film.film )': 0.0014348793686530777, '(ns:film.film.distributors/ns:film.film_film_distributor_relationship.distributor )': 0.0011304395026066189, '(ns:film.editor )': 0.0010360395441426007, '(ns:m.06mkj )': 0.0007882396531745526, '(ns:film.production_company )': 0.0004932397829744955, '(ns:people.person.children )': 0.001972959131897982, '(ns:fictional_universe.fictional_character.children )': 0.001972959131897982, '(ns:organization.organization.child/ns:organization.organization_relationship.child )': 0.001972959131897982, '(ns:film.film_costumer_designer.costume_design_for_film )': 0.002312798982368448, '(ns:people.person.parents )': 0.0018478791869331577, '(ns:fictional_universe.fictional_character.parents )': 0.0018478791869331577, '(ns:organization.organization.parent/ns:organization.organization_relationship.parent )': 0.0018478791869331577, '(ns:film.writer )': 0.0011068395129906143, '(ns:film.actor )': 0.0010313195462193997, '(ns:m.03rjj )': 0.0008047596459057558, '(ns:m.03_3d )': 0.000682039699902532, '(ns:m.0d0vqn )': 0.0006749597030177307, '(ns:business.employer )': 0.0005239197694753015, '(ns:film.cinematographer )': 0.0010100795555649956, '(ns:m.0d060g )': 0.000821279638636959, '(ns:film.actor.film/ns:film.performance.character )': 0.002123999065440411, '(ns:influence.influence_node.influenced_by )': 0.006246917251356409, '(ns:film.film_distributor )': 0.00044839980270408683, '(ns:m.02zsn )': 0.0016024392949267102, '(ns:m.09c7w0 )': 0.0006442797165169248, '(ns:m.0b90_r )': 0.0006607997092481279, '(ns:film.film_art_director )': 0.0008023996469441553, '(ns:fictional_universe.fictional_character )': 0.0005663997507841097, '(ns:organization.organization.founders )': 0.0018266391962787536, '(ns:film.film.sequel )': 0.0009652395752945868, '(?x2 )': 0.00020767990862084022, '(ns:film.film.directed_by )': 0.00614543729600759, '(ns:film.film.edited_by )': 0.006058117334428373, '(ns:film.film.executive_produced_by )': 0.004467478034309665, '(ns:film.film.produced_by )': 0.004356558083114443, '(ns:film.film.production_companies )': 0.004356558083114443, '(ns:film.film.written_by )': 0.006563157112210871, '(ns:film.film.prequel )': 0.0007835196552513516, '(ns:organization.organization.acquired_by/ns:business.acquisition.acquiring_company )': 0.0011186395077986166, '(^ns:people.person.nationality )': 0.00026195988473765074, '(ns:film.film.costume_design_by )': 4.7199979232009136e-06, '(m8 )': 6.371997196321234e-05, '(^ns:people.person.gender )': 0.00015103993354242923, '(ns:film.film.film_art_direction_by )': 7.07999688480137e-06, '(distinct )': 0.015682193099835037, '(@SELECT ARG1 ARG2)': 0.015682193099835037, '(m9 )': 2.3599989616004568e-06}}\n"
     ]
    },
    {
     "data": {
      "text/plain": "{'train-train': 6.661338147750939e-16,\n 'train-test': 0.03815403533540007,\n 'train-iidvalid': 8.371979439303345e-05,\n 'train-oodvalid': 0.03827450782468789,\n 'test-train': 0.03815403533539985,\n 'test-test': -4.440892098500626e-16,\n 'test-iidvalid': 0.03915245174573945,\n 'test-oodvalid': 9.497392817781058e-05,\n 'iidvalid-train': 8.371979439314448e-05,\n 'iidvalid-test': 0.039152451745739336,\n 'iidvalid-iidvalid': 2.220446049250313e-16,\n 'iidvalid-oodvalid': 0.03924798371011462,\n 'oodvalid-train': 0.038274507824687776,\n 'oodvalid-test': 9.497392817769956e-05,\n 'oodvalid-iidvalid': 0.03924798371011473,\n 'oodvalid-oodvalid': 1.1102230246251565e-16}"
     },
     "execution_count": 107,
     "metadata": {},
     "output_type": "execute_result"
    }
   ],
   "source": [
    "atom_dists = dc.compute_atom_distributions(ds)\n",
    "print(atom_dists)\n",
    "divs = dc._compute_atom_divergences(atom_dists)\n",
    "divs\n",
    "\n",
    "\n"
   ],
   "metadata": {
    "collapsed": false,
    "pycharm": {
     "name": "#%%\n"
    }
   }
  },
  {
   "cell_type": "code",
   "execution_count": 109,
   "outputs": [
    {
     "name": "stderr",
     "output_type": "stream",
     "text": [
      "100%|██████████| 119679/119679 [00:35<00:00, 3361.10it/s]\n"
     ]
    },
    {
     "name": "stdout",
     "output_type": "stream",
     "text": [
      "{'train': {'(count ARG1) - ARG-0 -> (* )': 0.021253661573115274, '(@SELECT ARG1) - ARG-0 -> (count ARG1)': 0.021253661573115274, '(@QUERY ARG ARG) - ARG -> (@SELECT ARG1)': 0.021253661573115274, '(filter ARG1 ARG2 ARG3) - ARG-0 -> (m0 )': 0.000251030837781498, '(filter ARG1 ARG2 ARG3) - ARG-1 -> (!= )': 0.01302010451702854, '(filter ARG1 ARG2 ARG3) - ARG-2 -> (m2 )': 0.0011949407109261173, '(@WHERE ARG*) - ARG -> (filter ARG1 ARG2 ARG3)': 0.01302010451702854, '(filter ARG1 ARG2 ARG3) - ARG-2 -> (m3 )': 0.0005614270763897016, '(@COND ARG1 ARG2 ARG3) - ARG-0 -> (m0 )': 0.004968035972040592, '(@COND ARG1 ARG2 ARG3) - ARG-1 -> (a )': 0.029613158086670092, '(@COND ARG1 ARG2 ARG3) - ARG-2 -> (ns:film.film_art_director )': 0.001679616804818435, '(@WHERE ARG*) - ARG -> (@COND ARG1 ARG2 ARG3)': 0.17444904667647043, '(@OR ARG*) - ARG -> (ns:people.person.spouse_s/ns:people.marriage.spouse )': 0.009092235175187298, '(@OR ARG*) - ARG -> (ns:fictional_universe.fictional_character.married_to/ns:fictional_universe.marriage_of_fictional_characters.spouses )': 0.009092235175187298, '(@COND ARG1 ARG2 ARG3) - ARG-1 -> (@OR ARG*)': 0.03081403533767888, '(@COND ARG1 ARG2 ARG3) - ARG-2 -> (m2 )': 0.01301883240129654, '(@COND ARG1 ARG2 ARG3) - ARG-2 -> (m3 )': 0.007285406797168779, '(@QUERY ARG ARG) - ARG -> (@WHERE ARG*)': 0.03653898017025997, '(@R@ ARG1) - ARG-0 -> (@QUERY ARG ARG)': 0.03653898017025997, '(@SELECT ARG1 ARG2) - ARG-0 -> (distinct )': 0.015285318597144694, '(@SELECT ARG1 ARG2) - ARG-1 -> (?x0 )': 0.015285318597144694, '(@QUERY ARG ARG) - ARG -> (@SELECT ARG1 ARG2)': 0.015285318597144694, '(@COND ARG1 ARG2 ARG3) - ARG-0 -> (?x0 )': 0.0821519618568819, '(@COND ARG1 ARG2 ARG3) - ARG-1 -> (ns:film.film.directed_by )': 0.008331085928873464, '(@COND ARG1 ARG2 ARG3) - ARG-2 -> (?x1 )': 0.03053077756802003, '(@COND ARG1 ARG2 ARG3) - ARG-1 -> (ns:film.film.edited_by )': 0.008010088725831921, '(@OR ARG*) - ARG -> (ns:film.film.produced_by )': 0.007970653138139895, '(@OR ARG*) - ARG -> (ns:film.film.production_companies )': 0.007970653138139895, '(@COND ARG1 ARG2 ARG3) - ARG-0 -> (?x1 )': 0.032501708875466655, '(@OR ARG*) - ARG -> (ns:people.person.parents )': 0.0028474190467952013, '(@OR ARG*) - ARG -> (ns:fictional_universe.fictional_character.parents )': 0.0028474190467952013, '(@OR ARG*) - ARG -> (ns:organization.organization.parent/ns:organization.organization_relationship.parent )': 0.0028474190467952013, '(@COND ARG1 ARG2 ARG3) - ARG-2 -> (m0 )': 0.017539083635672838, '(filter ARG1 ARG2 ARG3) - ARG-2 -> (m1 )': 0.0016982745022211141, '(@COND ARG1 ARG2 ARG3) - ARG-1 -> (ns:people.person.nationality )': 0.010147243155593323, '(@COND ARG1 ARG2 ARG3) - ARG-2 -> (ns:m.0d060g )': 0.0009519666061139578, '(@OR ARG*) - ARG -> (ns:people.person.sibling_s/ns:people.sibling_relationship.sibling )': 0.003927869341841243, '(@OR ARG*) - ARG -> (ns:fictional_universe.fictional_character.siblings/ns:fictional_universe.sibling_relationship_of_fictional_characters.siblings )': 0.003927869341841243, '(@COND ARG1 ARG2 ARG3) - ARG-2 -> (m1 )': 0.018220089590870618, '(@COND ARG1 ARG2 ARG3) - ARG-2 -> (ns:people.person )': 0.006427576755222883, '(@COND ARG1 ARG2 ARG3) - ARG-1 -> (ns:film.writer.film )': 0.004218335767314767, '(@COND ARG1 ARG2 ARG3) - ARG-2 -> (ns:m.09c7w0 )': 0.0006203684386390737, '(@COND ARG1 ARG2 ARG3) - ARG-1 -> (ns:film.editor.film )': 0.004378198310969539, '(@COND ARG1 ARG2 ARG3) - ARG-1 -> (ns:film.producer.films_executive_produced )': 0.004004620324338627, '(@COND ARG1 ARG2 ARG3) - ARG-2 -> (?x2 )': 0.006446234452625562, '(@COND ARG1 ARG2 ARG3) - ARG-1 -> (ns:film.film.sequel )': 0.0011334551172127436, '(@COND ARG1 ARG2 ARG3) - ARG-2 -> (?x3 )': 0.0007853194452218485, '(@COND ARG1 ARG2 ARG3) - ARG-0 -> (?x2 )': 0.00706702692984197, '(@COND ARG1 ARG2 ARG3) - ARG-2 -> (ns:film.film )': 0.003103114308927369, '(@COND ARG1 ARG2 ARG3) - ARG-0 -> (?x3 )': 0.0008027050268925265, '(@COND ARG1 ARG2 ARG3) - ARG-1 -> (ns:film.film.prequel )': 0.001066457021994033, '(@COND ARG1 ARG2 ARG3) - ARG-1 -> (ns:people.person.gender )': 0.004220455960201435, '(@COND ARG1 ARG2 ARG3) - ARG-2 -> (ns:m.02zsn )': 0.002179558287494763, '(@COND ARG1 ARG2 ARG3) - ARG-0 -> (m2 )': 0.014516536656438856, '(@COND ARG1 ARG2 ARG3) - ARG-2 -> (?x0 )': 0.03398669197328896, '(@COND ARG1 ARG2 ARG3) - ARG-1 -> (ns:film.film.executive_produced_by )': 0.008898025506768504, '(@COND ARG1 ARG2 ARG3) - ARG-1 -> (ns:film.film.written_by )': 0.008203874355673381, '(@COND ARG1 ARG2 ARG3) - ARG-0 -> (m3 )': 0.004868386906367194, '(@COND ARG1 ARG2 ARG3) - ARG-1 -> (ns:film.actor.film/ns:film.performance.film )': 0.0027685478714111495, '(@COND ARG1 ARG2 ARG3) - ARG-1 -> (ns:film.actor.film/ns:film.performance.character )': 0.0022198419523414563, '(@COND ARG1 ARG2 ARG3) - ARG-1 -> (ns:film.cinematographer.film )': 0.002235107341125466, '(@COND ARG1 ARG2 ARG3) - ARG-1 -> (ns:film.film_costumer_designer.costume_design_for_film )': 0.0018399033870505402, '(filter ARG1 ARG2 ARG3) - ARG-0 -> (?x0 )': 0.006995364410272589, '(filter ARG1 ARG2 ARG3) - ARG-2 -> (?x1 )': 0.004154729980714726, '(@COND ARG1 ARG2 ARG3) - ARG-2 -> (ns:m.0345h )': 0.000682278070929781, '(filter ARG1 ARG2 ARG3) - ARG-2 -> (?x2 )': 0.0015464686915356812, '(@COND ARG1 ARG2 ARG3) - ARG-2 -> (ns:fictional_universe.fictional_character )': 0.0010728176006540371, '(@COND ARG1 ARG2 ARG3) - ARG-1 -> (ns:influence.influence_node.influenced_by )': 0.008180552233920033, '(@COND ARG1 ARG2 ARG3) - ARG-2 -> (ns:m.0d05w3 )': 0.0008260271486458752, '(@COND ARG1 ARG2 ARG3) - ARG-1 -> (ns:film.film.starring/ns:film.performance.actor )': 0.002131641928256065, '(@COND ARG1 ARG2 ARG3) - ARG-2 -> (ns:film.cinematographer )': 0.0019904370820039725, '(@COND ARG1 ARG2 ARG3) - ARG-1 -> (ns:influence.influence_node.influenced )': 0.0045236435429949675, '(@OR ARG*) - ARG -> (ns:people.person.children )': 0.0029530046525512704, '(@OR ARG*) - ARG -> (ns:fictional_universe.fictional_character.children )': 0.0029530046525512704, '(@OR ARG*) - ARG -> (ns:organization.organization.child/ns:organization.organization_relationship.child )': 0.0029530046525512704, '(filter ARG1 ARG2 ARG3) - ARG-0 -> (?x2 )': 0.0004910366725523221, '(filter ARG1 ARG2 ARG3) - ARG-2 -> (m0 )': 0.001452756165944953, '(@COND ARG1 ARG2 ARG3) - ARG-1 -> (ns:people.person.employment_history/ns:business.employment_tenure.company )': 0.004959979239071254, '(@COND ARG1 ARG2 ARG3) - ARG-2 -> (ns:film.producer )': 0.002531086268104327, '(@COND ARG1 ARG2 ARG3) - ARG-0 -> (m1 )': 0.02042297000011873, '(@COND ARG1 ARG2 ARG3) - ARG-1 -> (ns:film.director.film )': 0.0038065943087238303, '(@COND ARG1 ARG2 ARG3) - ARG-2 -> (ns:m.03_3d )': 0.0008790319708125767, '(filter ARG1 ARG2 ARG3) - ARG-0 -> (m2 )': 0.0008671588906472356, '(filter ARG1 ARG2 ARG3) - ARG-2 -> (?x0 )': 0.001990861120581306, '(@COND ARG1 ARG2 ARG3) - ARG-1 -> (ns:organization.organization.companies_acquired/ns:business.acquisition.company_acquired )': 0.0007441877032204882, '(@OR ARG*) - ARG -> (ns:film.producer.film )': 0.004022853983163972, '(@OR ARG*) - ARG -> (ns:film.production_company.films )': 0.004022853983163972, '(filter ARG1 ARG2 ARG3) - ARG-0 -> (m1 )': 0.0013001022781048528, '(@COND ARG1 ARG2 ARG3) - ARG-2 -> (ns:m.059j2 )': 0.0007310425073231463, '(@COND ARG1 ARG2 ARG3) - ARG-2 -> (ns:film.film_costumer_designer )': 0.0016478139115184143, '(@COND ARG1 ARG2 ARG3) - ARG-2 -> (ns:film.actor )': 0.002080757298976032, '(@COND ARG1 ARG2 ARG3) - ARG-2 -> (ns:film.writer )': 0.0020922063405640393, '(filter ARG1 ARG2 ARG3) - ARG-2 -> (?x3 )': 0.0002179558287494763, '(@COND ARG1 ARG2 ARG3) - ARG-1 -> (ns:organization.organization_founder.organizations_founded )': 0.004114870354445366, '(@COND ARG1 ARG2 ARG3) - ARG-2 -> (ns:film.film_distributor )': 0.0009286444843606092, '(@COND ARG1 ARG2 ARG3) - ARG-1 -> (ns:organization.organization.founders )': 0.0044859041096122765, '(@COND ARG1 ARG2 ARG3) - ARG-0 -> (m4 )': 0.0032922355144181597, '(@COND ARG1 ARG2 ARG3) - ARG-2 -> (ns:film.editor )': 0.002056587100068016, '(@COND ARG1 ARG2 ARG3) - ARG-1 -> (ns:film.film_art_director.films_art_directed )': 0.0019616024587452868, '(@COND ARG1 ARG2 ARG3) - ARG-2 -> (ns:m.0d0vqn )': 0.0007988886796965241, '(@COND ARG1 ARG2 ARG3) - ARG-2 -> (m5 )': 0.00028325776965885247, '(@COND ARG1 ARG2 ARG3) - ARG-2 -> (ns:m.07ssc )': 0.0009303406386699436, '(filter ARG1 ARG2 ARG3) - ARG-0 -> (?x1 )': 0.0027125747792031128, '(@COND ARG1 ARG2 ARG3) - ARG-2 -> (ns:m.05zppz )': 0.0020408976727066723, '(@COND ARG1 ARG2 ARG3) - ARG-2 -> (m4 )': 0.002308466015004181, '(@COND ARG1 ARG2 ARG3) - ARG-2 -> (ns:film.director )': 0.002105775575038715, '(@COND ARG1 ARG2 ARG3) - ARG-0 -> (m5 )': 0.0024619679799989485, '(@COND ARG1 ARG2 ARG3) - ARG-2 -> (ns:m.06mkj )': 0.0008875127423592489, '(@COND ARG1 ARG2 ARG3) - ARG-1 -> (ns:business.employer.employees/ns:business.employment_tenure.person )': 0.0032544960810354682, '(@COND ARG1 ARG2 ARG3) - ARG-2 -> (ns:business.employer )': 0.0009935223866926518, '(@COND ARG1 ARG2 ARG3) - ARG-2 -> (ns:m.0b90_r )': 0.0008680069678019028, '(@COND ARG1 ARG2 ARG3) - ARG-1 -> (ns:film.film_distributor.films_distributed/ns:film.film_film_distributor_relationship.film )': 0.0009880098851873147, '(@COND ARG1 ARG2 ARG3) - ARG-2 -> (ns:film.production_company )': 0.0009032021697205925, '(@COND ARG1 ARG2 ARG3) - ARG-2 -> (ns:m.0f8l9c )': 0.0010376223987353475, '(@COND ARG1 ARG2 ARG3) - ARG-1 -> (^ns:people.person.nationality )': 0.0003909635683015898, '(@COND ARG1 ARG2 ARG3) - ARG-1 -> (ns:organization.organization.acquired_by/ns:business.acquisition.acquiring_company )': 0.0009553589147326267, '(@COND ARG1 ARG2 ARG3) - ARG-1 -> (ns:film.film.distributors/ns:film.film_film_distributor_relationship.distributor )': 0.0016715600718490964, '(@COND ARG1 ARG2 ARG3) - ARG-2 -> (ns:m.03rjj )': 0.0009205877513912705, '(filter ARG1 ARG2 ARG3) - ARG-0 -> (m3 )': 0.0002722327666481786, '(@COND ARG1 ARG2 ARG3) - ARG-0 -> (m6 )': 0.0009740166121353056, '(@COND ARG1 ARG2 ARG3) - ARG-1 -> (^ns:people.person.gender )': 0.00011109810726140622, '(@COND ARG1 ARG2 ARG3) - ARG-0 -> (m7 )': 0.00032693374312421446, '(filter ARG1 ARG2 ARG3) - ARG-0 -> (m5 )': 2.1201928866680575e-05, '(filter ARG1 ARG2 ARG3) - ARG-0 -> (?x3 )': 3.604327907335698e-05, '(@COND ARG1 ARG2 ARG3) - ARG-1 -> (ns:film.film.cinematography )': 2.3322121753348632e-05, '(@COND ARG1 ARG2 ARG3) - ARG-2 -> (?x4 )': 6.869424952804507e-05, '(@COND ARG1 ARG2 ARG3) - ARG-0 -> (?x4 )': 7.463078961071562e-05, '(filter ARG1 ARG2 ARG3) - ARG-2 -> (?x4 )': 1.6961543093344462e-05, '(filter ARG1 ARG2 ARG3) - ARG-0 -> (?x4 )': 8.48077154667223e-07, '(filter ARG1 ARG2 ARG3) - ARG-2 -> (m4 )': 0.0001662231223147757, '(@COND ARG1 ARG2 ARG3) - ARG-2 -> (m6 )': 4.664424350669726e-06, '(filter ARG1 ARG2 ARG3) - ARG-0 -> (m4 )': 7.039040383737951e-05, '(@COND ARG1 ARG2 ARG3) - ARG-1 -> (ns:film.film.costume_design_by )': 1.6113465938677238e-05, '(@COND ARG1 ARG2 ARG3) - ARG-0 -> (m8 )': 1.5265388784010015e-05, '(filter ARG1 ARG2 ARG3) - ARG-2 -> (m5 )': 1.908173598001252e-05, '(filter ARG1 ARG2 ARG3) - ARG-0 -> (m6 )': 2.1201928866680577e-06, '(@COND ARG1 ARG2 ARG3) - ARG-1 -> (ns:film.film.film_art_direction_by )': 2.6714430372017526e-05, '(@COND ARG1 ARG2 ARG3) - ARG-2 -> (?x5 )': 4.2403857733361154e-06, '(@COND ARG1 ARG2 ARG3) - ARG-0 -> (?x5 )': 4.2403857733361154e-06, '(filter ARG1 ARG2 ARG3) - ARG-2 -> (?x5 )': 4.240385773336115e-07, '(@COND ARG1 ARG2 ARG3) - ARG-0 -> (m9 )': 4.240385773336115e-07}, 'test': {'(count ARG1) - ARG-0 -> (* )': 0.012925940756511803, '(@SELECT ARG1) - ARG-0 -> (count ARG1)': 0.012925940756511803, '(@QUERY ARG ARG) - ARG -> (@SELECT ARG1)': 0.012925940756511803, '(@COND ARG1 ARG2 ARG3) - ARG-0 -> (?x0 )': 0.15931331855338848, '(@COND ARG1 ARG2 ARG3) - ARG-1 -> (ns:film.cinematographer.film )': 0.005642585774140305, '(@COND ARG1 ARG2 ARG3) - ARG-2 -> (m0 )': 0.031076950122569367, '(@WHERE ARG*) - ARG -> (@COND ARG1 ARG2 ARG3)': 0.18977742184371674, '(@COND ARG1 ARG2 ARG3) - ARG-1 -> (ns:film.director.film )': 0.015665439345254953, '(@COND ARG1 ARG2 ARG3) - ARG-1 -> (ns:film.editor.film )': 0.014241974392280572, '(@OR ARG*) - ARG -> (ns:film.producer.film )': 0.01047211180670176, '(@OR ARG*) - ARG -> (ns:film.production_company.films )': 0.01047211180670176, '(@COND ARG1 ARG2 ARG3) - ARG-1 -> (@OR ARG*)': 0.027731929564121845, '(@COND ARG1 ARG2 ARG3) - ARG-1 -> (ns:film.writer.film )': 0.01409059389985448, '(@COND ARG1 ARG2 ARG3) - ARG-1 -> (ns:influence.influence_node.influenced )': 0.003406061079587073, '(@COND ARG1 ARG2 ARG3) - ARG-2 -> (m1 )': 0.04415915461319843, '(@OR ARG*) - ARG -> (ns:people.person.spouse_s/ns:people.marriage.spouse )': 0.00658749304138059, '(@OR ARG*) - ARG -> (ns:fictional_universe.fictional_character.married_to/ns:fictional_universe.marriage_of_fictional_characters.spouses )': 0.00658749304138059, '(filter ARG1 ARG2 ARG3) - ARG-0 -> (?x0 )': 0.0082258206287662, '(filter ARG1 ARG2 ARG3) - ARG-1 -> (!= )': 0.008870408531999883, '(filter ARG1 ARG2 ARG3) - ARG-2 -> (m1 )': 0.000986414821615181, '(@WHERE ARG*) - ARG -> (filter ARG1 ARG2 ARG3)': 0.008870408531999883, '(@QUERY ARG ARG) - ARG -> (@WHERE ARG*)': 0.029221318279926946, '(@R@ ARG1) - ARG-0 -> (@QUERY ARG ARG)': 0.029221318279926946, '(@COND ARG1 ARG2 ARG3) - ARG-1 -> (a )': 0.016466290982605894, '(@COND ARG1 ARG2 ARG3) - ARG-2 -> (ns:film.film_art_director )': 0.000874100262718403, '(@COND ARG1 ARG2 ARG3) - ARG-0 -> (m1 )': 0.003933451182232813, '(@COND ARG1 ARG2 ARG3) - ARG-1 -> (ns:film.film.starring/ns:film.performance.actor )': 0.0007642273246672071, '(@COND ARG1 ARG2 ARG3) - ARG-2 -> (?x0 )': 0.0019069058803996444, '(@COND ARG1 ARG2 ARG3) - ARG-2 -> (m2 )': 0.031186823060620563, '(@COND ARG1 ARG2 ARG3) - ARG-1 -> (ns:film.producer.films_executive_produced )': 0.010335381039349162, '(@COND ARG1 ARG2 ARG3) - ARG-2 -> (m3 )': 0.02357873250578664, '(@COND ARG1 ARG2 ARG3) - ARG-2 -> (m6 )': 0.0024489457081188775, '(@COND ARG1 ARG2 ARG3) - ARG-2 -> (m4 )': 0.012562139250520065, '(@COND ARG1 ARG2 ARG3) - ARG-2 -> (m5 )': 0.0059575548632204, '(@COND ARG1 ARG2 ARG3) - ARG-1 -> (ns:people.person.gender )': 0.0034744264632633726, '(@COND ARG1 ARG2 ARG3) - ARG-2 -> (ns:m.05zppz )': 0.0017579670088191345, '(@COND ARG1 ARG2 ARG3) - ARG-1 -> (ns:film.film_art_director.films_art_directed )': 0.0035769745387778224, '(@COND ARG1 ARG2 ARG3) - ARG-2 -> (ns:m.02zsn )': 0.0017164594544442384, '(@COND ARG1 ARG2 ARG3) - ARG-1 -> (ns:people.person.nationality )': 0.008938773915676183, '(@COND ARG1 ARG2 ARG3) - ARG-2 -> (ns:m.09c7w0 )': 0.0005737808987118008, '(filter ARG1 ARG2 ARG3) - ARG-2 -> (m3 )': 0.0010181558926077488, '(filter ARG1 ARG2 ARG3) - ARG-2 -> (m4 )': 0.0008252678458067603, '(@COND ARG1 ARG2 ARG3) - ARG-2 -> (ns:film.actor )': 0.0010254807551444952, '(@COND ARG1 ARG2 ARG3) - ARG-2 -> (ns:m.03_3d )': 0.0007642273246672071, '(@COND ARG1 ARG2 ARG3) - ARG-0 -> (m2 )': 0.0004956490316531726, '(@COND ARG1 ARG2 ARG3) - ARG-1 -> (ns:business.employer.employees/ns:business.employment_tenure.person )': 0.0014649725073492788, '(@COND ARG1 ARG2 ARG3) - ARG-1 -> (ns:film.actor.film/ns:film.performance.film )': 0.006790147571563907, '(@COND ARG1 ARG2 ARG3) - ARG-1 -> (ns:film.film_costumer_designer.costume_design_for_film )': 0.0023366311492220996, '(filter ARG1 ARG2 ARG3) - ARG-2 -> (m2 )': 0.0008985164711742243, '(filter ARG1 ARG2 ARG3) - ARG-2 -> (m5 )': 0.0005640144153294724, '(@COND ARG1 ARG2 ARG3) - ARG-2 -> (ns:film.editor )': 0.0012256936644822298, '(@COND ARG1 ARG2 ARG3) - ARG-2 -> (ns:film.cinematographer )': 0.001005947788379838, '(@COND ARG1 ARG2 ARG3) - ARG-2 -> (ns:m.0d05w3 )': 0.0007153949077555645, '(@COND ARG1 ARG2 ARG3) - ARG-0 -> (m3 )': 8.54567295953746e-05, '(@COND ARG1 ARG2 ARG3) - ARG-2 -> (ns:film.film_costumer_designer )': 0.0008985164711742243, '(filter ARG1 ARG2 ARG3) - ARG-0 -> (m2 )': 5.615727944838902e-05, '(filter ARG1 ARG2 ARG3) - ARG-2 -> (?x0 )': 0.0002807863972419451, '(@COND ARG1 ARG2 ARG3) - ARG-0 -> (m0 )': 0.01877606430252659, '(@COND ARG1 ARG2 ARG3) - ARG-2 -> (ns:film.director )': 0.0010669883095193913, '(filter ARG1 ARG2 ARG3) - ARG-0 -> (m1 )': 0.00032229395161684134, '(@COND ARG1 ARG2 ARG3) - ARG-2 -> (ns:film.producer )': 0.0014014903653641433, '(@COND ARG1 ARG2 ARG3) - ARG-1 -> (ns:organization.organization_founder.organizations_founded )': 0.005820824095867801, '(@COND ARG1 ARG2 ARG3) - ARG-2 -> (?x1 )': 0.0072198728403863625, '(@COND ARG1 ARG2 ARG3) - ARG-1 -> (ns:people.person.employment_history/ns:business.employment_tenure.company )': 0.006704690841968532, '(@COND ARG1 ARG2 ARG3) - ARG-0 -> (?x1 )': 0.006709574083659697, '(@COND ARG1 ARG2 ARG3) - ARG-2 -> (ns:film.film_distributor )': 0.00042484202713129085, '(filter ARG1 ARG2 ARG3) - ARG-2 -> (?x1 )': 0.0014429979197390396, '(@COND ARG1 ARG2 ARG3) - ARG-1 -> (ns:film.actor.film/ns:film.performance.character )': 0.0023000068365383675, '(@OR ARG*) - ARG -> (ns:people.person.children )': 0.0019679464015391977, '(@OR ARG*) - ARG -> (ns:fictional_universe.fictional_character.children )': 0.0019679464015391977, '(@OR ARG*) - ARG -> (ns:organization.organization.child/ns:organization.organization_relationship.child )': 0.0019679464015391977, '(@COND ARG1 ARG2 ARG3) - ARG-2 -> (ns:m.03rjj )': 0.0008496840542625817, '(filter ARG1 ARG2 ARG3) - ARG-0 -> (m4 )': 2.441620845582131e-06, '(@COND ARG1 ARG2 ARG3) - ARG-0 -> (m4 )': 0.000390659335293141, '(@COND ARG1 ARG2 ARG3) - ARG-2 -> (ns:people.person )': 0.004119014366497056, '(@COND ARG1 ARG2 ARG3) - ARG-2 -> (ns:m.059j2 )': 0.0005762225195573829, '(@COND ARG1 ARG2 ARG3) - ARG-2 -> (ns:m.07ssc )': 0.0008081764998876855, '(@COND ARG1 ARG2 ARG3) - ARG-2 -> (ns:film.production_company )': 0.00044925823558711217, '(@COND ARG1 ARG2 ARG3) - ARG-2 -> (ns:m.0345h )': 0.0007056284243732359, '(@COND ARG1 ARG2 ARG3) - ARG-2 -> (ns:m.06mkj )': 0.0007349278745202216, '(@COND ARG1 ARG2 ARG3) - ARG-2 -> (ns:m.0b90_r )': 0.0006397046615425184, '(@COND ARG1 ARG2 ARG3) - ARG-2 -> (m7 )': 0.0006738873533806682, '(@COND ARG1 ARG2 ARG3) - ARG-2 -> (ns:fictional_universe.fictional_character )': 0.0006201716947778613, '(@COND ARG1 ARG2 ARG3) - ARG-2 -> (ns:m.0f8l9c )': 0.0009180494379388813, '(@OR ARG*) - ARG -> (ns:people.person.parents )': 0.0018702815677159126, '(@OR ARG*) - ARG -> (ns:fictional_universe.fictional_character.parents )': 0.0018702815677159126, '(@OR ARG*) - ARG -> (ns:organization.organization.parent/ns:organization.organization_relationship.parent )': 0.0018702815677159126, '(@OR ARG*) - ARG -> (ns:people.person.sibling_s/ns:people.sibling_relationship.sibling )': 0.0022829154906192925, '(@OR ARG*) - ARG -> (ns:fictional_universe.fictional_character.siblings/ns:fictional_universe.sibling_relationship_of_fictional_characters.siblings )': 0.0022829154906192925, '(filter ARG1 ARG2 ARG3) - ARG-2 -> (m0 )': 0.002378138703596996, '(@COND ARG1 ARG2 ARG3) - ARG-2 -> (ns:film.film )': 0.0014869470949595179, '(@COND ARG1 ARG2 ARG3) - ARG-2 -> (ns:m.0d060g )': 0.0009693234756961061, '(filter ARG1 ARG2 ARG3) - ARG-2 -> (m6 )': 0.0003515934017638269, '(@COND ARG1 ARG2 ARG3) - ARG-2 -> (ns:m.0d0vqn )': 0.0006787705950718325, '(@COND ARG1 ARG2 ARG3) - ARG-2 -> (ns:film.writer )': 0.001338008223379008, '(filter ARG1 ARG2 ARG3) - ARG-2 -> (m7 )': 8.789835044095672e-05, '(filter ARG1 ARG2 ARG3) - ARG-0 -> (m0 )': 0.00020753777187448115, '(@COND ARG1 ARG2 ARG3) - ARG-1 -> (ns:organization.organization.companies_acquired/ns:business.acquisition.company_acquired )': 0.0005933138654764579, '(@COND ARG1 ARG2 ARG3) - ARG-1 -> (ns:film.film_distributor.films_distributed/ns:film.film_film_distributor_relationship.film )': 0.000669004111689504, '(@COND ARG1 ARG2 ARG3) - ARG-2 -> (ns:business.employer )': 0.0005298317234913224, '(@COND ARG1 ARG2 ARG3) - ARG-0 -> (m5 )': 4.883241691164262e-06, '(filter ARG1 ARG2 ARG3) - ARG-0 -> (m3 )': 7.324862536746394e-06, '(filter ARG1 ARG2 ARG3) - ARG-0 -> (m5 )': 2.441620845582131e-06, '(filter ARG1 ARG2 ARG3) - ARG-0 -> (?x1 )': 4.394917522047836e-05, '(@COND ARG1 ARG2 ARG3) - ARG-1 -> (ns:organization.organization.founders )': 0.0018898145344805697, '(@COND ARG1 ARG2 ARG3) - ARG-1 -> (ns:film.film.cinematography )': 9.766483382328525e-06, '(@COND ARG1 ARG2 ARG3) - ARG-2 -> (m8 )': 5.127403775722475e-05, '(@COND ARG1 ARG2 ARG3) - ARG-2 -> (m9 )': 4.883241691164262e-06, '(@COND ARG1 ARG2 ARG3) - ARG-2 -> (?x2 )': 7.569024621304607e-05, '(@COND ARG1 ARG2 ARG3) - ARG-0 -> (?x2 )': 6.836538367629968e-05, '(@COND ARG1 ARG2 ARG3) - ARG-1 -> (ns:influence.influence_node.influenced_by )': 0.00662167573321874, '(filter ARG1 ARG2 ARG3) - ARG-2 -> (?x2 )': 2.441620845582131e-05, '(@COND ARG1 ARG2 ARG3) - ARG-1 -> (ns:film.film.prequel )': 0.000837475950034671, '(@COND ARG1 ARG2 ARG3) - ARG-1 -> (ns:film.film.sequel )': 0.0009522321297770311, '(@COND ARG1 ARG2 ARG3) - ARG-1 -> (ns:organization.organization.acquired_by/ns:business.acquisition.acquiring_company )': 0.0010718715512105556, '(@COND ARG1 ARG2 ARG3) - ARG-1 -> (ns:film.film.distributors/ns:film.film_film_distributor_relationship.distributor )': 0.0010669883095193913, '(@OR ARG*) - ARG -> (ns:film.film.produced_by )': 0.004551181256165092, '(@OR ARG*) - ARG -> (ns:film.film.production_companies )': 0.004551181256165092, '(@COND ARG1 ARG2 ARG3) - ARG-1 -> (^ns:people.person.nationality )': 0.0003296188141535877, '(@COND ARG1 ARG2 ARG3) - ARG-1 -> (ns:film.film.directed_by )': 0.0066534168042113075, '(@COND ARG1 ARG2 ARG3) - ARG-1 -> (ns:film.film.edited_by )': 0.006768172983953668, '(@COND ARG1 ARG2 ARG3) - ARG-1 -> (ns:film.film.executive_produced_by )': 0.005002881112597787, '(@COND ARG1 ARG2 ARG3) - ARG-1 -> (ns:film.film.written_by )': 0.007363928470275708, '(filter ARG1 ARG2 ARG3) - ARG-2 -> (m8 )': 1.2208104227910656e-05, '(@SELECT ARG1 ARG2) - ARG-0 -> (distinct )': 0.016295377523415144, '(@SELECT ARG1 ARG2) - ARG-1 -> (?x0 )': 0.016295377523415144, '(@QUERY ARG ARG) - ARG -> (@SELECT ARG1 ARG2)': 0.016295377523415144, '(@COND ARG1 ARG2 ARG3) - ARG-1 -> (^ns:people.person.gender )': 0.00019288804680098838, '(@COND ARG1 ARG2 ARG3) - ARG-1 -> (ns:film.film.costume_design_by )': 2.441620845582131e-06, '(filter ARG1 ARG2 ARG3) - ARG-0 -> (?x2 )': 2.441620845582131e-06}, 'iidvalid': {'(count ARG1) - ARG-0 -> (* )': 0.021180284748665717, '(@SELECT ARG1) - ARG-0 -> (count ARG1)': 0.021180284748665717, '(@QUERY ARG ARG) - ARG -> (@SELECT ARG1)': 0.021180284748665717, '(@COND ARG1 ARG2 ARG3) - ARG-0 -> (?x0 )': 0.08198375923292196, '(@COND ARG1 ARG2 ARG3) - ARG-1 -> (ns:business.employer.employees/ns:business.employment_tenure.person )': 0.003245859521952562, '(@COND ARG1 ARG2 ARG3) - ARG-2 -> (?x1 )': 0.03131164839198055, '(@WHERE ARG*) - ARG -> (@COND ARG1 ARG2 ARG3)': 0.17396889480203698, '(@COND ARG1 ARG2 ARG3) - ARG-2 -> (m0 )': 0.017445061246960592, '(@COND ARG1 ARG2 ARG3) - ARG-1 -> (ns:film.film_distributor.films_distributed/ns:film.film_film_distributor_relationship.film )': 0.0010666605496169198, '(@COND ARG1 ARG2 ARG3) - ARG-2 -> (m1 )': 0.018263216650609412, '(@COND ARG1 ARG2 ARG3) - ARG-0 -> (?x1 )': 0.032905904482268204, '(@COND ARG1 ARG2 ARG3) - ARG-1 -> (ns:film.writer.film )': 0.00427811166674313, '(@COND ARG1 ARG2 ARG3) - ARG-2 -> (m2 )': 0.01242525729840498, '(@COND ARG1 ARG2 ARG3) - ARG-1 -> (ns:people.person.nationality )': 0.009978437399642152, '(@COND ARG1 ARG2 ARG3) - ARG-2 -> (ns:m.07ssc )': 0.000825801715832454, '(@QUERY ARG ARG) - ARG -> (@WHERE ARG*)': 0.03660289642305516, '(@R@ ARG1) - ARG-0 -> (@QUERY ARG ARG)': 0.03660289642305516, '(@COND ARG1 ARG2 ARG3) - ARG-0 -> (m0 )': 0.004820999831781132, '(@COND ARG1 ARG2 ARG3) - ARG-1 -> (a )': 0.029465063999632977, '(@COND ARG1 ARG2 ARG3) - ARG-2 -> (ns:film.film )': 0.0032420363658607456, '(@COND ARG1 ARG2 ARG3) - ARG-1 -> (ns:film.film.executive_produced_by )': 0.00895383156703522, '(@COND ARG1 ARG2 ARG3) - ARG-1 -> (ns:film.film.starring/ns:film.performance.actor )': 0.0018733464849902892, '(@SELECT ARG1 ARG2) - ARG-0 -> (distinct )': 0.015422611674389441, '(@SELECT ARG1 ARG2) - ARG-1 -> (?x0 )': 0.015422611674389441, '(@QUERY ARG ARG) - ARG -> (@SELECT ARG1 ARG2)': 0.015422611674389441, '(@COND ARG1 ARG2 ARG3) - ARG-2 -> (ns:film.film_distributor )': 0.0009366732424951446, '(@COND ARG1 ARG2 ARG3) - ARG-1 -> (ns:organization.organization.founders )': 0.004350751632487652, '(@COND ARG1 ARG2 ARG3) - ARG-2 -> (ns:film.film_costumer_designer )': 0.0017510054900521479, '(@OR ARG*) - ARG -> (ns:film.producer.film )': 0.004182532764447707, '(@OR ARG*) - ARG -> (ns:film.production_company.films )': 0.004182532764447707, '(@COND ARG1 ARG2 ARG3) - ARG-1 -> (@OR ARG*)': 0.03162514719150954, '(@COND ARG1 ARG2 ARG3) - ARG-0 -> (m2 )': 0.013866587145019958, '(@COND ARG1 ARG2 ARG3) - ARG-1 -> (ns:film.film.cinematography )': 3.0585248734535335e-05, '(@COND ARG1 ARG2 ARG3) - ARG-2 -> (?x0 )': 0.033815815632120626, '(@COND ARG1 ARG2 ARG3) - ARG-1 -> (ns:film.film.directed_by )': 0.008204492973039103, '(@COND ARG1 ARG2 ARG3) - ARG-1 -> (ns:film.film.film_art_direction_by )': 3.440840482635225e-05, '(@COND ARG1 ARG2 ARG3) - ARG-1 -> (ns:film.film.written_by )': 0.008089798290284595, '(@COND ARG1 ARG2 ARG3) - ARG-1 -> (ns:film.actor.film/ns:film.performance.film )': 0.002615038766802771, '(@COND ARG1 ARG2 ARG3) - ARG-1 -> (ns:film.cinematographer.film )': 0.0022250768454374456, '(@COND ARG1 ARG2 ARG3) - ARG-1 -> (ns:film.editor.film )': 0.00428958113501858, '(@COND ARG1 ARG2 ARG3) - ARG-0 -> (m1 )': 0.020679451300637704, '(@COND ARG1 ARG2 ARG3) - ARG-1 -> (ns:people.person.gender )': 0.004266642198467679, '(@COND ARG1 ARG2 ARG3) - ARG-2 -> (ns:m.05zppz )': 0.0019956874799284307, '(@OR ARG*) - ARG -> (ns:people.person.sibling_s/ns:people.sibling_relationship.sibling )': 0.0038690339649187196, '(@OR ARG*) - ARG -> (ns:fictional_universe.fictional_character.siblings/ns:fictional_universe.sibling_relationship_of_fictional_characters.siblings )': 0.0038690339649187196, '(@COND ARG1 ARG2 ARG3) - ARG-2 -> (ns:fictional_universe.fictional_character )': 0.0011393005153614412, '(filter ARG1 ARG2 ARG3) - ARG-0 -> (?x0 )': 0.006862565184811365, '(filter ARG1 ARG2 ARG3) - ARG-1 -> (!= )': 0.01290697496597391, '(filter ARG1 ARG2 ARG3) - ARG-2 -> (?x1 )': 0.004186355920539524, '(@WHERE ARG*) - ARG -> (filter ARG1 ARG2 ARG3)': 0.01290697496597391, '(filter ARG1 ARG2 ARG3) - ARG-2 -> (m0 )': 0.001292226759034118, '(@COND ARG1 ARG2 ARG3) - ARG-1 -> (ns:film.film.prequel )': 0.0010628373935251028, '(filter ARG1 ARG2 ARG3) - ARG-0 -> (?x1 )': 0.002806196571393617, '(filter ARG1 ARG2 ARG3) - ARG-2 -> (m1 )': 0.0016630728999403588, '(@COND ARG1 ARG2 ARG3) - ARG-2 -> (ns:people.person )': 0.006495542199996942, '(@COND ARG1 ARG2 ARG3) - ARG-1 -> (ns:influence.influence_node.influenced_by )': 0.00795981098316282, '(@COND ARG1 ARG2 ARG3) - ARG-2 -> (ns:m.03_3d )': 0.0008410943401997217, '(@COND ARG1 ARG2 ARG3) - ARG-1 -> (ns:film.director.film )': 0.0038193329357250998, '(@COND ARG1 ARG2 ARG3) - ARG-2 -> (ns:film.writer )': 0.0020759737578565857, '(@COND ARG1 ARG2 ARG3) - ARG-2 -> (ns:m.0d0vqn )': 0.0008487406523833555, '(@COND ARG1 ARG2 ARG3) - ARG-2 -> (ns:film.editor )': 0.0020109801042956983, '(@COND ARG1 ARG2 ARG3) - ARG-1 -> (ns:organization.organization_founder.organizations_founded )': 0.0042628190423758625, '(@OR ARG*) - ARG -> (ns:people.person.children )': 0.0030088238442599136, '(@OR ARG*) - ARG -> (ns:fictional_universe.fictional_character.children )': 0.0030088238442599136, '(@OR ARG*) - ARG -> (ns:organization.organization.child/ns:organization.organization_relationship.child )': 0.0030088238442599136, '(@COND ARG1 ARG2 ARG3) - ARG-2 -> (?x2 )': 0.00673257787768959, '(@COND ARG1 ARG2 ARG3) - ARG-0 -> (?x2 )': 0.00717988714043217, '(@COND ARG1 ARG2 ARG3) - ARG-2 -> (ns:film.producer )': 0.0025500451132418832, '(@OR ARG*) - ARG -> (ns:film.film.produced_by )': 0.008303895031426343, '(@OR ARG*) - ARG -> (ns:film.film.production_companies )': 0.008303895031426343, '(@COND ARG1 ARG2 ARG3) - ARG-2 -> (m3 )': 0.006992552491933141, '(@COND ARG1 ARG2 ARG3) - ARG-1 -> (ns:film.film.sequel )': 0.0011775320762796102, '(@COND ARG1 ARG2 ARG3) - ARG-1 -> (ns:film.film.distributors/ns:film.film_film_distributor_relationship.distributor )': 0.00183511492407212, '(@COND ARG1 ARG2 ARG3) - ARG-2 -> (ns:m.0b90_r )': 0.000825801715832454, '(@OR ARG*) - ARG -> (ns:people.person.spouse_s/ns:people.marriage.spouse )': 0.009037941001055191, '(@OR ARG*) - ARG -> (ns:fictional_universe.fictional_character.married_to/ns:fictional_universe.marriage_of_fictional_characters.spouses )': 0.009037941001055191, '(@COND ARG1 ARG2 ARG3) - ARG-2 -> (ns:film.actor )': 0.0019995106360202472, '(@COND ARG1 ARG2 ARG3) - ARG-2 -> (ns:m.06mkj )': 0.0008525638084751724, '(filter ARG1 ARG2 ARG3) - ARG-2 -> (?x2 )': 0.0016019024024712882, '(@COND ARG1 ARG2 ARG3) - ARG-2 -> (ns:film.director )': 0.0020377421969384165, '(@COND ARG1 ARG2 ARG3) - ARG-1 -> (ns:people.person.employment_history/ns:business.employment_tenure.company )': 0.004843938768332033, '(@COND ARG1 ARG2 ARG3) - ARG-2 -> (ns:m.0d05w3 )': 0.0008525638084751724, '(@COND ARG1 ARG2 ARG3) - ARG-2 -> (ns:film.production_company )': 0.0009060879937606093, '(filter ARG1 ARG2 ARG3) - ARG-0 -> (m1 )': 0.001246348885932315, '(filter ARG1 ARG2 ARG3) - ARG-2 -> (?x0 )': 0.0020492116652138675, '(@OR ARG*) - ARG -> (ns:people.person.parents )': 0.003222920585401661, '(@OR ARG*) - ARG -> (ns:fictional_universe.fictional_character.parents )': 0.003222920585401661, '(@OR ARG*) - ARG -> (ns:organization.organization.parent/ns:organization.organization_relationship.parent )': 0.003222920585401661, '(@COND ARG1 ARG2 ARG3) - ARG-1 -> (ns:film.film.edited_by )': 0.00798657307580554, '(@COND ARG1 ARG2 ARG3) - ARG-2 -> (ns:business.employer )': 0.0009749048034133138, '(@COND ARG1 ARG2 ARG3) - ARG-2 -> (?x3 )': 0.0007952164670979187, '(@COND ARG1 ARG2 ARG3) - ARG-0 -> (?x3 )': 0.0008372711841079048, '(@COND ARG1 ARG2 ARG3) - ARG-1 -> (ns:film.film_art_director.films_art_directed )': 0.0020109801042956983, '(filter ARG1 ARG2 ARG3) - ARG-0 -> (?x2 )': 0.00046260188710984694, '(filter ARG1 ARG2 ARG3) - ARG-2 -> (?x3 )': 0.00019498096068266274, '(@COND ARG1 ARG2 ARG3) - ARG-1 -> (ns:organization.organization.acquired_by/ns:business.acquisition.acquiring_company )': 0.0009901974277805815, '(@COND ARG1 ARG2 ARG3) - ARG-1 -> (ns:organization.organization.companies_acquired/ns:business.acquisition.company_acquired )': 0.0006537596917006928, '(@COND ARG1 ARG2 ARG3) - ARG-1 -> (ns:film.actor.film/ns:film.performance.character )': 0.0022212536893456286, '(@COND ARG1 ARG2 ARG3) - ARG-2 -> (m4 )': 0.0021906684406110934, '(@COND ARG1 ARG2 ARG3) - ARG-2 -> (ns:m.0d060g )': 0.0009366732424951446, '(@COND ARG1 ARG2 ARG3) - ARG-2 -> (ns:m.02zsn )': 0.0022709547185392484, '(@COND ARG1 ARG2 ARG3) - ARG-0 -> (m3 )': 0.004824822987872949, '(@COND ARG1 ARG2 ARG3) - ARG-1 -> (ns:film.producer.films_executive_produced )': 0.0037811013748069305, '(@COND ARG1 ARG2 ARG3) - ARG-1 -> (ns:influence.influence_node.influenced )': 0.004301050603294031, '(filter ARG1 ARG2 ARG3) - ARG-2 -> (m2 )': 0.0011813552323714273, '(@COND ARG1 ARG2 ARG3) - ARG-0 -> (m4 )': 0.0034179015460843237, '(@COND ARG1 ARG2 ARG3) - ARG-0 -> (m5 )': 0.0023206557477328683, '(@COND ARG1 ARG2 ARG3) - ARG-0 -> (m6 )': 0.0008181554036488202, '(@COND ARG1 ARG2 ARG3) - ARG-2 -> (ns:film.cinematographer )': 0.0018465843923475707, '(@COND ARG1 ARG2 ARG3) - ARG-2 -> (ns:film.film_art_director )': 0.0014986771879922313, '(@COND ARG1 ARG2 ARG3) - ARG-2 -> (ns:m.0345h )': 0.0007072838769861296, '(@COND ARG1 ARG2 ARG3) - ARG-2 -> (ns:m.0f8l9c )': 0.0010016668960560321, '(@COND ARG1 ARG2 ARG3) - ARG-1 -> (ns:film.film_costumer_designer.costume_design_for_film )': 0.0018962854215411908, '(filter ARG1 ARG2 ARG3) - ARG-0 -> (m2 )': 0.0008984416815769755, '(@COND ARG1 ARG2 ARG3) - ARG-2 -> (ns:m.059j2 )': 0.0006690523160679604, '(@COND ARG1 ARG2 ARG3) - ARG-2 -> (ns:m.09c7w0 )': 0.0006117049746907066, '(@COND ARG1 ARG2 ARG3) - ARG-2 -> (ns:m.03rjj )': 0.0009940205838723983, '(@COND ARG1 ARG2 ARG3) - ARG-2 -> (m5 )': 0.00022174305332538116, '(filter ARG1 ARG2 ARG3) - ARG-2 -> (m4 )': 0.000183511492407212, '(filter ARG1 ARG2 ARG3) - ARG-2 -> (m5 )': 2.29389365509015e-05, '(@COND ARG1 ARG2 ARG3) - ARG-1 -> (^ns:people.person.nationality )': 0.00040143138964077624, '(filter ARG1 ARG2 ARG3) - ARG-0 -> (m3 )': 0.00024085883378446575, '(filter ARG1 ARG2 ARG3) - ARG-0 -> (m4 )': 7.263996574452142e-05, '(filter ARG1 ARG2 ARG3) - ARG-0 -> (m5 )': 2.6762092642718416e-05, '(filter ARG1 ARG2 ARG3) - ARG-2 -> (m3 )': 0.0005123029163034669, '(@COND ARG1 ARG2 ARG3) - ARG-2 -> (?x4 )': 7.263996574452142e-05, '(@COND ARG1 ARG2 ARG3) - ARG-0 -> (?x4 )': 8.410943401997217e-05, '(@COND ARG1 ARG2 ARG3) - ARG-0 -> (m7 )': 0.00021791989723356426, '(@COND ARG1 ARG2 ARG3) - ARG-1 -> (^ns:people.person.gender )': 0.00016439571194812742, '(filter ARG1 ARG2 ARG3) - ARG-0 -> (?x4 )': 1.146946827545075e-05, '(filter ARG1 ARG2 ARG3) - ARG-0 -> (m0 )': 0.0002485051459680996, '(@COND ARG1 ARG2 ARG3) - ARG-2 -> (?x5 )': 3.823156091816917e-06, '(@COND ARG1 ARG2 ARG3) - ARG-0 -> (?x5 )': 7.646312183633834e-06, '(filter ARG1 ARG2 ARG3) - ARG-0 -> (?x3 )': 3.0585248734535335e-05, '(filter ARG1 ARG2 ARG3) - ARG-2 -> (?x4 )': 1.5292624367267667e-05, '(filter ARG1 ARG2 ARG3) - ARG-2 -> (?x5 )': 3.823156091816917e-06, '(@COND ARG1 ARG2 ARG3) - ARG-1 -> (ns:film.film.costume_design_by )': 7.646312183633834e-06, '(@COND ARG1 ARG2 ARG3) - ARG-0 -> (m8 )': 3.823156091816917e-06}, 'oodvalid': {'(count ARG1) - ARG-0 -> (* )': 0.012927402060904262, '(@SELECT ARG1) - ARG-0 -> (count ARG1)': 0.012927402060904262, '(@QUERY ARG ARG) - ARG -> (@SELECT ARG1)': 0.012927402060904262, '(@COND ARG1 ARG2 ARG3) - ARG-0 -> (?x0 )': 0.15714212856487136, '(@COND ARG1 ARG2 ARG3) - ARG-1 -> (ns:film.actor.film/ns:film.performance.film )': 0.006562059058531527, '(@COND ARG1 ARG2 ARG3) - ARG-2 -> (m3 )': 0.023785642642212352, '(@WHERE ARG*) - ARG -> (@COND ARG1 ARG2 ARG3)': 0.18958570627135643, '(@COND ARG1 ARG2 ARG3) - ARG-1 -> (ns:film.cinematographer.film )': 0.005935481990766488, '(@COND ARG1 ARG2 ARG3) - ARG-1 -> (ns:film.director.film )': 0.01566199810084005, '(@COND ARG1 ARG2 ARG3) - ARG-2 -> (m0 )': 0.03071684788020235, '(@COND ARG1 ARG2 ARG3) - ARG-2 -> (m1 )': 0.04442139979259813, '(@COND ARG1 ARG2 ARG3) - ARG-2 -> (m2 )': 0.031068993906659445, '(@COND ARG1 ARG2 ARG3) - ARG-1 -> (ns:film.editor.film )': 0.014464701610885927, '(@COND ARG1 ARG2 ARG3) - ARG-1 -> (ns:film.writer.film )': 0.014513273476604147, '(@QUERY ARG ARG) - ARG -> (@WHERE ARG*)': 0.02906540444578287, '(@R@ ARG1) - ARG-0 -> (@QUERY ARG ARG)': 0.02906540444578287, '(@COND ARG1 ARG2 ARG3) - ARG-1 -> (ns:film.producer.films_executive_produced )': 0.010688239051294318, '(@OR ARG*) - ARG -> (ns:film.producer.film )': 0.010833954648448978, '(@OR ARG*) - ARG -> (ns:film.production_company.films )': 0.010833954648448978, '(@COND ARG1 ARG2 ARG3) - ARG-1 -> (@OR ARG*)': 0.028232396948715394, '(@COND ARG1 ARG2 ARG3) - ARG-2 -> (m6 )': 0.0025524515434924627, '(@COND ARG1 ARG2 ARG3) - ARG-2 -> (m4 )': 0.012383397164860198, '(@COND ARG1 ARG2 ARG3) - ARG-2 -> (m5 )': 0.005707194221890854, '(@COND ARG1 ARG2 ARG3) - ARG-1 -> (ns:people.person.gender )': 0.0032907439024094072, '(@COND ARG1 ARG2 ARG3) - ARG-2 -> (ns:m.05zppz )': 0.0016417290612758372, '(@COND ARG1 ARG2 ARG3) - ARG-1 -> (ns:organization.organization_founder.organizations_founded )': 0.005911196057907378, '(@COND ARG1 ARG2 ARG3) - ARG-1 -> (a )': 0.016351718594038774, '(@COND ARG1 ARG2 ARG3) - ARG-2 -> (ns:film.film_costumer_designer )': 0.0008670078030702277, '(@COND ARG1 ARG2 ARG3) - ARG-0 -> (m1 )': 0.003929463936604001, '(@COND ARG1 ARG2 ARG3) - ARG-1 -> (ns:film.film.starring/ns:film.performance.actor )': 0.0007382923589169445, '(@COND ARG1 ARG2 ARG3) - ARG-2 -> (?x0 )': 0.0019647319683020006, '(@COND ARG1 ARG2 ARG3) - ARG-1 -> (ns:film.film_distributor.films_distributed/ns:film.film_film_distributor_relationship.film )': 0.0006168626946213944, '(@COND ARG1 ARG2 ARG3) - ARG-1 -> (ns:organization.organization.companies_acquired/ns:business.acquisition.company_acquired )': 0.0005075759967553994, '(@COND ARG1 ARG2 ARG3) - ARG-2 -> (ns:film.producer )': 0.001508156430550732, '(@COND ARG1 ARG2 ARG3) - ARG-1 -> (ns:business.employer.employees/ns:business.employment_tenure.person )': 0.0017510157591418324, '(@COND ARG1 ARG2 ARG3) - ARG-2 -> (m7 )': 0.0006120055080495725, '(@COND ARG1 ARG2 ARG3) - ARG-1 -> (ns:influence.influence_node.influenced )': 0.0032154575105461662, '(@COND ARG1 ARG2 ARG3) - ARG-1 -> (ns:people.person.nationality )': 0.009017366870587549, '(@COND ARG1 ARG2 ARG3) - ARG-2 -> (ns:m.0d05w3 )': 0.0006994348663423685, '(@COND ARG1 ARG2 ARG3) - ARG-2 -> (ns:m.0f8l9c )': 0.0009301512285039136, '(@OR ARG*) - ARG -> (ns:people.person.spouse_s/ns:people.marriage.spouse )': 0.0067442035549748515, '(@OR ARG*) - ARG -> (ns:fictional_universe.fictional_character.married_to/ns:fictional_universe.marriage_of_fictional_characters.spouses )': 0.0067442035549748515, '(filter ARG1 ARG2 ARG3) - ARG-0 -> (?x0 )': 0.00838593261625069, '(filter ARG1 ARG2 ARG3) - ARG-1 -> (!= )': 0.008983366564584795, '(filter ARG1 ARG2 ARG3) - ARG-2 -> (m3 )': 0.0011098671316613277, '(@WHERE ARG*) - ARG -> (filter ARG1 ARG2 ARG3)': 0.008983366564584795, '(@COND ARG1 ARG2 ARG3) - ARG-1 -> (ns:film.film_art_director.films_art_directed )': 0.0034996029249977534, '(filter ARG1 ARG2 ARG3) - ARG-2 -> (m1 )': 0.0010418665196558197, '(filter ARG1 ARG2 ARG3) - ARG-2 -> (m2 )': 0.0009835802807939558, '(filter ARG1 ARG2 ARG3) - ARG-2 -> (m4 )': 0.0008548648366406726, '(filter ARG1 ARG2 ARG3) - ARG-2 -> (m5 )': 0.0005197189631849544, '(@COND ARG1 ARG2 ARG3) - ARG-2 -> (?x1 )': 0.007555353712469126, '(@COND ARG1 ARG2 ARG3) - ARG-0 -> (?x1 )': 0.006996777256709596, '(@COND ARG1 ARG2 ARG3) - ARG-2 -> (ns:people.person )': 0.004233038097342876, '(filter ARG1 ARG2 ARG3) - ARG-2 -> (?x1 )': 0.00138186957968336, '(@COND ARG1 ARG2 ARG3) - ARG-2 -> (ns:m.0345h )': 0.0007261493924873895, '(@COND ARG1 ARG2 ARG3) - ARG-2 -> (ns:m.07ssc )': 0.0008888651426434267, '(@COND ARG1 ARG2 ARG3) - ARG-0 -> (m0 )': 0.020252039411211845, '(@COND ARG1 ARG2 ARG3) - ARG-0 -> (m4 )': 0.0005950053550481954, '(@COND ARG1 ARG2 ARG3) - ARG-1 -> (ns:people.person.employment_history/ns:business.employment_tenure.company )': 0.0072930656375907385, '(@COND ARG1 ARG2 ARG3) - ARG-2 -> (ns:m.059j2 )': 0.0005464334893299754, '(@COND ARG1 ARG2 ARG3) - ARG-0 -> (m3 )': 9.228654486461807e-05, '(@OR ARG*) - ARG -> (ns:people.person.sibling_s/ns:people.sibling_relationship.sibling )': 0.0022391630096099437, '(@OR ARG*) - ARG -> (ns:fictional_universe.fictional_character.siblings/ns:fictional_universe.sibling_relationship_of_fictional_characters.siblings )': 0.0022391630096099437, '(filter ARG1 ARG2 ARG3) - ARG-2 -> (m0 )': 0.0024140217261955357, '(@COND ARG1 ARG2 ARG3) - ARG-2 -> (ns:film.director )': 0.0010442951129417308, '(filter ARG1 ARG2 ARG3) - ARG-0 -> (m2 )': 7.285779857733005e-05, '(filter ARG1 ARG2 ARG3) - ARG-2 -> (?x0 )': 0.00026228807487838816, '(@COND ARG1 ARG2 ARG3) - ARG-0 -> (m2 )': 0.0004808614706103784, '(@COND ARG1 ARG2 ARG3) - ARG-2 -> (ns:film.film )': 0.001476584717833889, '(@COND ARG1 ARG2 ARG3) - ARG-1 -> (ns:film.film.distributors/ns:film.film_film_distributor_relationship.distributor )': 0.0011632961839513698, '(@COND ARG1 ARG2 ARG3) - ARG-2 -> (ns:film.editor )': 0.0010661524525149297, '(@COND ARG1 ARG2 ARG3) - ARG-2 -> (ns:m.06mkj )': 0.0008111501574942746, '(filter ARG1 ARG2 ARG3) - ARG-0 -> (m1 )': 0.0003205743137402522, '(@COND ARG1 ARG2 ARG3) - ARG-2 -> (ns:film.production_company )': 0.0005075759967553994, '(@OR ARG*) - ARG -> (ns:people.person.children )': 0.0020303039870215975, '(@OR ARG*) - ARG -> (ns:fictional_universe.fictional_character.children )': 0.0020303039870215975, '(@OR ARG*) - ARG -> (ns:organization.organization.child/ns:organization.organization_relationship.child )': 0.0020303039870215975, '(@COND ARG1 ARG2 ARG3) - ARG-1 -> (ns:film.film_costumer_designer.costume_design_for_film )': 0.0023800214201927816, '(@OR ARG*) - ARG -> (ns:people.person.parents )': 0.0019015885428683144, '(@OR ARG*) - ARG -> (ns:fictional_universe.fictional_character.parents )': 0.0019015885428683144, '(@OR ARG*) - ARG -> (ns:organization.organization.parent/ns:organization.organization_relationship.parent )': 0.0019015885428683144, '(@COND ARG1 ARG2 ARG3) - ARG-2 -> (ns:film.writer )': 0.0011390102510922598, '(@COND ARG1 ARG2 ARG3) - ARG-2 -> (ns:film.actor )': 0.0010612952659431077, '(@COND ARG1 ARG2 ARG3) - ARG-2 -> (ns:m.03rjj )': 0.0008281503104956516, '(@COND ARG1 ARG2 ARG3) - ARG-2 -> (ns:m.03_3d )': 0.0007018634596282795, '(@COND ARG1 ARG2 ARG3) - ARG-2 -> (ns:m.0d0vqn )': 0.0006945776797705465, '(@COND ARG1 ARG2 ARG3) - ARG-2 -> (ns:business.employer )': 0.0005391477094722424, '(@COND ARG1 ARG2 ARG3) - ARG-2 -> (ns:film.cinematographer )': 0.0010394379263699088, '(@COND ARG1 ARG2 ARG3) - ARG-2 -> (ns:m.0d060g )': 0.0008451504634970287, '(@COND ARG1 ARG2 ARG3) - ARG-1 -> (ns:film.actor.film/ns:film.performance.character )': 0.0021857339573199018, '(@COND ARG1 ARG2 ARG3) - ARG-1 -> (ns:influence.influence_node.influenced_by )': 0.006428486427806422, '(@COND ARG1 ARG2 ARG3) - ARG-2 -> (ns:film.film_distributor )': 0.00046143272432309034, '(filter ARG1 ARG2 ARG3) - ARG-2 -> (m6 )': 0.0003084313473106972, '(@COND ARG1 ARG2 ARG3) - ARG-0 -> (m7 )': 2.4285932859110017e-06, '(@COND ARG1 ARG2 ARG3) - ARG-2 -> (ns:m.02zsn )': 0.0016490148411335702, '(@COND ARG1 ARG2 ARG3) - ARG-2 -> (ns:m.09c7w0 )': 0.0006630059670537034, '(@COND ARG1 ARG2 ARG3) - ARG-2 -> (ns:m.0b90_r )': 0.0006800061200550805, '(@COND ARG1 ARG2 ARG3) - ARG-2 -> (ns:film.film_art_director )': 0.0008257217172097406, '(filter ARG1 ARG2 ARG3) - ARG-2 -> (m7 )': 7.285779857733005e-05, '(filter ARG1 ARG2 ARG3) - ARG-0 -> (m3 )': 9.714373143644007e-06, '(filter ARG1 ARG2 ARG3) - ARG-0 -> (m0 )': 0.00012871544415328308, '(@COND ARG1 ARG2 ARG3) - ARG-2 -> (ns:fictional_universe.fictional_character )': 0.0005828623886186404, '(@COND ARG1 ARG2 ARG3) - ARG-1 -> (ns:organization.organization.founders )': 0.0018797312032951153, '(@COND ARG1 ARG2 ARG3) - ARG-1 -> (ns:film.film.sequel )': 0.0009932946539375996, '(@COND ARG1 ARG2 ARG3) - ARG-2 -> (?x2 )': 9.714373143644008e-05, '(@COND ARG1 ARG2 ARG3) - ARG-0 -> (?x2 )': 8.742935829279606e-05, '(@COND ARG1 ARG2 ARG3) - ARG-1 -> (ns:film.film.directed_by )': 0.006324056916512249, '(@COND ARG1 ARG2 ARG3) - ARG-1 -> (ns:film.film.edited_by )': 0.006234198964933542, '(@COND ARG1 ARG2 ARG3) - ARG-1 -> (ns:film.film.executive_produced_by )': 0.004597327090229526, '(@OR ARG*) - ARG -> (ns:film.film.produced_by )': 0.004483183205791709, '(@OR ARG*) - ARG -> (ns:film.film.production_companies )': 0.004483183205791709, '(@COND ARG1 ARG2 ARG3) - ARG-1 -> (ns:film.film.written_by )': 0.006753917928118496, '(@COND ARG1 ARG2 ARG3) - ARG-1 -> (ns:film.film.prequel )': 0.0008062929709224526, '(@COND ARG1 ARG2 ARG3) - ARG-1 -> (ns:organization.organization.acquired_by/ns:business.acquisition.acquiring_company )': 0.0011511532175218148, '(@COND ARG1 ARG2 ARG3) - ARG-1 -> (^ns:people.person.nationality )': 0.0002695738547361212, '(filter ARG1 ARG2 ARG3) - ARG-0 -> (?x1 )': 6.557201871959704e-05, '(@COND ARG1 ARG2 ARG3) - ARG-1 -> (ns:film.film.costume_design_by )': 4.8571865718220035e-06, '(@COND ARG1 ARG2 ARG3) - ARG-0 -> (m5 )': 7.285779857733005e-06, '(@COND ARG1 ARG2 ARG3) - ARG-2 -> (m8 )': 6.0714832147775046e-05, '(@COND ARG1 ARG2 ARG3) - ARG-1 -> (^ns:people.person.gender )': 0.0001554299702983041, '(@COND ARG1 ARG2 ARG3) - ARG-1 -> (ns:film.film.film_art_direction_by )': 7.285779857733005e-06, '(@SELECT ARG1 ARG2) - ARG-0 -> (distinct )': 0.016138002384878607, '(@SELECT ARG1 ARG2) - ARG-1 -> (?x0 )': 0.016138002384878607, '(@QUERY ARG ARG) - ARG -> (@SELECT ARG1 ARG2)': 0.016138002384878607, '(filter ARG1 ARG2 ARG3) - ARG-2 -> (?x2 )': 2.914311943093202e-05, '(filter ARG1 ARG2 ARG3) - ARG-2 -> (m8 )': 4.8571865718220035e-06, '(@COND ARG1 ARG2 ARG3) - ARG-2 -> (m9 )': 2.4285932859110017e-06}}\n"
     ]
    },
    {
     "data": {
      "text/plain": "{'train-train': 0.0,\n 'train-test': 0.027289698313615274,\n 'train-iidvalid': 3.7102500061059196e-05,\n 'train-oodvalid': 0.027258467050785606,\n 'test-train': 0.03638324704032758,\n 'test-test': 1.1102230246251565e-16,\n 'test-iidvalid': 0.03647307007538281,\n 'test-oodvalid': 5.5925304399462306e-05,\n 'iidvalid-train': 4.2381988419548655e-05,\n 'iidvalid-test': 0.02900700934426903,\n 'iidvalid-iidvalid': 4.440892098500626e-16,\n 'iidvalid-oodvalid': 0.029018909420546857,\n 'oodvalid-train': 0.03601000591537773,\n 'oodvalid-test': 6.160699638446676e-05,\n 'oodvalid-iidvalid': 0.03613289254487739,\n 'oodvalid-oodvalid': 8.881784197001252e-16}"
     },
     "execution_count": 109,
     "metadata": {},
     "output_type": "execute_result"
    }
   ],
   "source": [
    "# dc.extract_compounds(taglisp_to_tree(ds[0][1]))\n",
    "comp_dists = dc.compute_compound_distributions(ds)\n",
    "# print(comp_dists)\n",
    "divs = dc._compute_compound_divergences(comp_dists)\n",
    "divs"
   ],
   "metadata": {
    "collapsed": false,
    "pycharm": {
     "name": "#%%\n"
    }
   }
  },
  {
   "cell_type": "code",
   "execution_count": 119,
   "outputs": [],
   "source": [
    "# print(json.dumps(comp_dists, indent=3))"
   ],
   "metadata": {
    "collapsed": false,
    "pycharm": {
     "name": "#%%\n"
    }
   }
  },
  {
   "cell_type": "code",
   "execution_count": 124,
   "outputs": [
    {
     "name": "stderr",
     "output_type": "stream",
     "text": [
      " 32%|███▏      | 38246/119679 [00:48<01:17, 1054.96it/s]"
     ]
    },
    {
     "ename": "KeyboardInterrupt",
     "evalue": "",
     "output_type": "error",
     "traceback": [
      "\u001B[1;31m---------------------------------------------------------------------------\u001B[0m",
      "\u001B[1;31mKeyboardInterrupt\u001B[0m                         Traceback (most recent call last)",
      "\u001B[1;32m<ipython-input-124-ed293289c8f7>\u001B[0m in \u001B[0;36m<module>\u001B[1;34m\u001B[0m\n\u001B[0;32m      1\u001B[0m \u001B[1;31m# dc.extract_compounds(taglisp_to_tree(ds[0][1]))\u001B[0m\u001B[1;33m\u001B[0m\u001B[1;33m\u001B[0m\u001B[1;33m\u001B[0m\u001B[0m\n\u001B[1;32m----> 2\u001B[1;33m \u001B[0mcooc_dists\u001B[0m\u001B[1;33m,\u001B[0m \u001B[0mcooc_fs\u001B[0m \u001B[1;33m=\u001B[0m \u001B[0mdc\u001B[0m\u001B[1;33m.\u001B[0m\u001B[0mcompute_cooc_distributions\u001B[0m\u001B[1;33m(\u001B[0m\u001B[0mds\u001B[0m\u001B[1;33m)\u001B[0m\u001B[1;33m\u001B[0m\u001B[1;33m\u001B[0m\u001B[0m\n\u001B[0m\u001B[0;32m      3\u001B[0m \u001B[1;31m# print(cooc_dists)\u001B[0m\u001B[1;33m\u001B[0m\u001B[1;33m\u001B[0m\u001B[1;33m\u001B[0m\u001B[0m\n\u001B[0;32m      4\u001B[0m \u001B[0mdivs\u001B[0m \u001B[1;33m=\u001B[0m \u001B[0mdc\u001B[0m\u001B[1;33m.\u001B[0m\u001B[0m_compute_cooc_divergences\u001B[0m\u001B[1;33m(\u001B[0m\u001B[0mcooc_dists\u001B[0m\u001B[1;33m,\u001B[0m \u001B[0mcooc_fs\u001B[0m\u001B[1;33m)\u001B[0m\u001B[1;33m\u001B[0m\u001B[1;33m\u001B[0m\u001B[0m\n\u001B[0;32m      5\u001B[0m \u001B[0mdivs\u001B[0m\u001B[1;33m\u001B[0m\u001B[1;33m\u001B[0m\u001B[0m\n",
      "\u001B[1;32m<ipython-input-116-5e0709185e18>\u001B[0m in \u001B[0;36mcompute_cooc_distributions\u001B[1;34m(self, ds)\u001B[0m\n\u001B[0;32m    127\u001B[0m         \u001B[1;32mfor\u001B[0m \u001B[0mexample\u001B[0m \u001B[1;32min\u001B[0m \u001B[0mtqdm\u001B[0m\u001B[1;33m(\u001B[0m\u001B[0mds\u001B[0m\u001B[1;33m)\u001B[0m\u001B[1;33m:\u001B[0m\u001B[1;33m\u001B[0m\u001B[1;33m\u001B[0m\u001B[0m\n\u001B[0;32m    128\u001B[0m             \u001B[1;31m# print(example)\u001B[0m\u001B[1;33m\u001B[0m\u001B[1;33m\u001B[0m\u001B[1;33m\u001B[0m\u001B[0m\n\u001B[1;32m--> 129\u001B[1;33m             \u001B[0mcompounds\u001B[0m \u001B[1;33m=\u001B[0m \u001B[0mself\u001B[0m\u001B[1;33m.\u001B[0m\u001B[0mextract_coocs\u001B[0m\u001B[1;33m(\u001B[0m\u001B[0mtaglisp_to_tree\u001B[0m\u001B[1;33m(\u001B[0m\u001B[0mexample\u001B[0m\u001B[1;33m[\u001B[0m\u001B[1;36m1\u001B[0m\u001B[1;33m]\u001B[0m\u001B[1;33m)\u001B[0m\u001B[1;33m)\u001B[0m\u001B[1;33m\u001B[0m\u001B[1;33m\u001B[0m\u001B[0m\n\u001B[0m\u001B[0;32m    130\u001B[0m             \u001B[1;31m# print(atoms)\u001B[0m\u001B[1;33m\u001B[0m\u001B[1;33m\u001B[0m\u001B[1;33m\u001B[0m\u001B[0m\n\u001B[0;32m    131\u001B[0m             \u001B[1;32mif\u001B[0m \u001B[0mexample\u001B[0m\u001B[1;33m[\u001B[0m\u001B[1;36m2\u001B[0m\u001B[1;33m]\u001B[0m \u001B[1;32mnot\u001B[0m \u001B[1;32min\u001B[0m \u001B[0mcompoundses\u001B[0m\u001B[1;33m:\u001B[0m\u001B[1;33m\u001B[0m\u001B[1;33m\u001B[0m\u001B[0m\n",
      "\u001B[1;32m~\\PycharmProjects\\parseq\\parseq\\grammar.py\u001B[0m in \u001B[0;36mtaglisp_to_tree\u001B[1;34m(x, self, brackets)\u001B[0m\n\u001B[0;32m    184\u001B[0m \u001B[1;33m\u001B[0m\u001B[0m\n\u001B[0;32m    185\u001B[0m \u001B[1;32mdef\u001B[0m \u001B[0mtaglisp_to_tree\u001B[0m\u001B[1;33m(\u001B[0m\u001B[0mx\u001B[0m\u001B[1;33m:\u001B[0m\u001B[0mstr\u001B[0m\u001B[1;33m,\u001B[0m \u001B[0mself\u001B[0m\u001B[1;33m:\u001B[0m\u001B[0mLispToTree\u001B[0m\u001B[1;33m=\u001B[0m\u001B[1;33m-\u001B[0m\u001B[1;36m1\u001B[0m\u001B[1;33m,\u001B[0m \u001B[0mbrackets\u001B[0m\u001B[1;33m=\u001B[0m\u001B[1;34m\"()\"\u001B[0m\u001B[1;33m)\u001B[0m\u001B[1;33m:\u001B[0m\u001B[1;33m\u001B[0m\u001B[1;33m\u001B[0m\u001B[0m\n\u001B[1;32m--> 186\u001B[1;33m     \u001B[1;32mreturn\u001B[0m \u001B[0m_inc_convert_treestr\u001B[0m\u001B[1;33m(\u001B[0m\u001B[0mx\u001B[0m\u001B[1;33m,\u001B[0m \u001B[0mLispToTree\u001B[0m\u001B[1;33m,\u001B[0m \u001B[0mself\u001B[0m\u001B[1;33m=\u001B[0m\u001B[0mself\u001B[0m\u001B[1;33m,\u001B[0m \u001B[0mbrackets\u001B[0m\u001B[1;33m=\u001B[0m\u001B[0mbrackets\u001B[0m\u001B[1;33m)\u001B[0m\u001B[1;33m\u001B[0m\u001B[1;33m\u001B[0m\u001B[0m\n\u001B[0m\u001B[0;32m    187\u001B[0m \u001B[1;33m\u001B[0m\u001B[0m\n\u001B[0;32m    188\u001B[0m \u001B[1;33m\u001B[0m\u001B[0m\n",
      "\u001B[1;32m~\\PycharmProjects\\parseq\\parseq\\grammar.py\u001B[0m in \u001B[0;36m_inc_convert_treestr\u001B[1;34m(x, cls, self, brackets)\u001B[0m\n\u001B[0;32m    164\u001B[0m         \u001B[1;32mreturn\u001B[0m \u001B[0mret\u001B[0m\u001B[1;33m,\u001B[0m \u001B[0mself\u001B[0m\u001B[1;33m\u001B[0m\u001B[1;33m\u001B[0m\u001B[0m\n\u001B[0;32m    165\u001B[0m     \u001B[1;32melse\u001B[0m\u001B[1;33m:\u001B[0m\u001B[1;33m\u001B[0m\u001B[1;33m\u001B[0m\u001B[0m\n\u001B[1;32m--> 166\u001B[1;33m         \u001B[0m_self\u001B[0m \u001B[1;33m=\u001B[0m \u001B[0mcls\u001B[0m\u001B[1;33m(\u001B[0m\u001B[0mx\u001B[0m\u001B[1;33m,\u001B[0m \u001B[0mbrackets\u001B[0m\u001B[1;33m=\u001B[0m\u001B[0mbrackets\u001B[0m\u001B[1;33m)\u001B[0m \u001B[1;32mif\u001B[0m \u001B[1;32mnot\u001B[0m \u001B[0misinstance\u001B[0m\u001B[1;33m(\u001B[0m\u001B[0mself\u001B[0m\u001B[1;33m,\u001B[0m \u001B[0mcls\u001B[0m\u001B[1;33m)\u001B[0m \u001B[1;32melse\u001B[0m \u001B[0mself\u001B[0m\u001B[1;33m\u001B[0m\u001B[1;33m\u001B[0m\u001B[0m\n\u001B[0m\u001B[0;32m    167\u001B[0m         \u001B[0mret\u001B[0m \u001B[1;33m=\u001B[0m \u001B[0m_self\u001B[0m\u001B[1;33m.\u001B[0m\u001B[0mfeed\u001B[0m\u001B[1;33m(\u001B[0m\u001B[1;34m\"\"\u001B[0m\u001B[1;33m)\u001B[0m\u001B[1;33m\u001B[0m\u001B[1;33m\u001B[0m\u001B[0m\n\u001B[0;32m    168\u001B[0m         \u001B[1;32mif\u001B[0m \u001B[0mret\u001B[0m \u001B[1;32mis\u001B[0m \u001B[1;32mNone\u001B[0m\u001B[1;33m:\u001B[0m\u001B[1;33m\u001B[0m\u001B[1;33m\u001B[0m\u001B[0m\n",
      "\u001B[1;32m~\\PycharmProjects\\parseq\\parseq\\grammar.py\u001B[0m in \u001B[0;36m__init__\u001B[1;34m(self, x, brackets)\u001B[0m\n\u001B[0;32m     27\u001B[0m \u001B[1;33m\u001B[0m\u001B[0m\n\u001B[0;32m     28\u001B[0m         \u001B[1;32mif\u001B[0m \u001B[0mx\u001B[0m \u001B[1;32mis\u001B[0m \u001B[1;32mnot\u001B[0m \u001B[1;32mNone\u001B[0m\u001B[1;33m:\u001B[0m\u001B[1;33m\u001B[0m\u001B[1;33m\u001B[0m\u001B[0m\n\u001B[1;32m---> 29\u001B[1;33m             \u001B[0mself\u001B[0m\u001B[1;33m.\u001B[0m\u001B[0mfeed\u001B[0m\u001B[1;33m(\u001B[0m\u001B[0mx\u001B[0m\u001B[1;33m)\u001B[0m\u001B[1;33m\u001B[0m\u001B[1;33m\u001B[0m\u001B[0m\n\u001B[0m\u001B[0;32m     30\u001B[0m \u001B[1;33m\u001B[0m\u001B[0m\n\u001B[0;32m     31\u001B[0m     \u001B[1;33m@\u001B[0m\u001B[0mabstractmethod\u001B[0m\u001B[1;33m\u001B[0m\u001B[1;33m\u001B[0m\u001B[0m\n",
      "\u001B[1;32m~\\PycharmProjects\\parseq\\parseq\\grammar.py\u001B[0m in \u001B[0;36mfeed\u001B[1;34m(self, x)\u001B[0m\n\u001B[0;32m     44\u001B[0m         \u001B[0mxsplits\u001B[0m \u001B[1;33m=\u001B[0m \u001B[0mre\u001B[0m\u001B[1;33m.\u001B[0m\u001B[0msplit\u001B[0m\u001B[1;33m(\u001B[0m\u001B[1;34m\"([\\(\\)\\s'\\\"])\"\u001B[0m\u001B[1;33m,\u001B[0m \u001B[0mx\u001B[0m\u001B[1;33m)\u001B[0m\u001B[1;33m\u001B[0m\u001B[1;33m\u001B[0m\u001B[0m\n\u001B[0;32m     45\u001B[0m         \u001B[0mqueue\u001B[0m \u001B[1;33m=\u001B[0m \u001B[0mlist\u001B[0m\u001B[1;33m(\u001B[0m\u001B[0mxsplits\u001B[0m\u001B[1;33m)\u001B[0m\u001B[1;33m\u001B[0m\u001B[1;33m\u001B[0m\u001B[0m\n\u001B[1;32m---> 46\u001B[1;33m         \u001B[1;32mwhile\u001B[0m \u001B[0mlen\u001B[0m\u001B[1;33m(\u001B[0m\u001B[0mqueue\u001B[0m\u001B[1;33m)\u001B[0m \u001B[1;33m>\u001B[0m \u001B[1;36m0\u001B[0m\u001B[1;33m:\u001B[0m\u001B[1;33m\u001B[0m\u001B[1;33m\u001B[0m\u001B[0m\n\u001B[0m\u001B[0;32m     47\u001B[0m             \u001B[0mnext_token\u001B[0m \u001B[1;33m=\u001B[0m \u001B[0mqueue\u001B[0m\u001B[1;33m.\u001B[0m\u001B[0mpop\u001B[0m\u001B[1;33m(\u001B[0m\u001B[1;36m0\u001B[0m\u001B[1;33m)\u001B[0m\u001B[1;33m\u001B[0m\u001B[1;33m\u001B[0m\u001B[0m\n\u001B[0;32m     48\u001B[0m             \u001B[1;32mif\u001B[0m \u001B[0mself\u001B[0m\u001B[1;33m.\u001B[0m\u001B[0mcurstring\u001B[0m \u001B[1;32mis\u001B[0m \u001B[1;32mnot\u001B[0m \u001B[1;32mNone\u001B[0m\u001B[1;33m:\u001B[0m\u001B[1;33m\u001B[0m\u001B[1;33m\u001B[0m\u001B[0m\n",
      "\u001B[1;31mKeyboardInterrupt\u001B[0m: "
     ]
    }
   ],
   "source": [
    "# dc.extract_compounds(taglisp_to_tree(ds[0][1]))\n",
    "cooc_dists, cooc_fs = dc.compute_cooc_distributions(ds)\n",
    "# print(cooc_dists)\n",
    "divs = dc._compute_cooc_divergences(cooc_dists, cooc_fs)\n",
    "divs\n",
    "\n"
   ],
   "metadata": {
    "collapsed": false,
    "pycharm": {
     "name": "#%%\n"
    }
   }
  },
  {
   "cell_type": "code",
   "execution_count": 10,
   "outputs": [
    {
     "name": "stdout",
     "output_type": "stream",
     "text": [
      "(A (B (C ) (D ) (X ) (Y ) (Z )) (E (F (G ) (H ))))\n"
     ]
    }
   ],
   "source": [
    "x = taglisp_to_tree(\"(A (B C D X Y Z) (E (F G H )))\")\n",
    "print(x)\n"
   ],
   "metadata": {
    "collapsed": false,
    "pycharm": {
     "name": "#%%\n"
    }
   }
  },
  {
   "cell_type": "code",
   "execution_count": 11,
   "outputs": [],
   "source": [
    "def find_all_subgraphs(x:Tree, orderless={\"B\",}, useholes=False):\n",
    "    if len(x) == 0:\n",
    "        rooted = [Tree(x.label(), [])]\n",
    "        if useholes:\n",
    "            rooted = rooted + [Tree(\"*\", [])]\n",
    "        collected = [] + rooted\n",
    "        return collected, rooted\n",
    "    else:\n",
    "        collected = []\n",
    "        rooted = []\n",
    "        childsubgraphses = []       # all subgraphs starting at a child of the current node\n",
    "        for child in x:             # iterate over all children\n",
    "            childsubgraphs, childsubgraphs2 = find_all_subgraphs(child, orderless=orderless, useholes=useholes)   # get their subgraphs\n",
    "            childsubgraphses.append(childsubgraphs2)      # append their subgraphs for later recombination\n",
    "            for xe in childsubgraphs:         # collect subgraphs\n",
    "                collected.append(xe)\n",
    "        # recombine subgraphs, anywhere between none of the children and all\n",
    "        # if x.label() in orderless:   # recombine in all possible orders\n",
    "        if x.label() in orderless:\n",
    "            print(f\"recombining orderless at {x.label()}\")\n",
    "            for permsize in range(1, len(x)+1):\n",
    "                for perm in itertools.permutations(x, permsize):\n",
    "                    for a in ([Tree(\"*\", []), Tree(x.label(), [])] if useholes else [Tree(x.label(), [])]):\n",
    "                        a[:] = perm\n",
    "                        rooted.append(a)\n",
    "                        # prodstr = \" \".join(product)\n",
    "                        # rooted.append(f\"({a} {prodstr})\")\n",
    "            if useholes:\n",
    "                rooted.append(Tree(\"*\", []))\n",
    "            rooted.append(Tree(x.label(), []))\n",
    "            collected += rooted + []\n",
    "            print(collected)\n",
    "            print(rooted)\n",
    "        else:\n",
    "            print(f\"recombining at {x.label()}\")\n",
    "            for product in itertools.product(*childsubgraphses):\n",
    "                # print(product)\n",
    "                for a in ([Tree(\"*\", []), Tree(x.label(), [])] if useholes else [Tree(x.label(), [])]):\n",
    "                    a[:] = product\n",
    "                    rooted.append(a)\n",
    "                    # prodstr = \" \".join(product)\n",
    "                    # rooted.append(f\"({a} {prodstr})\")\n",
    "            if useholes:\n",
    "                rooted.append(Tree(\"*\", []))\n",
    "            rooted.append(Tree(x.label(), []))\n",
    "            collected += rooted + []\n",
    "            print(collected)\n",
    "            print(rooted)\n",
    "        # else:                        # recombine only in given order\n",
    "        # if True:\n",
    "        #     print(f\"recombining at {x.label()}\")\n",
    "        #     for product in itertools.product(*childsubgraphses):\n",
    "        #         # print(product)\n",
    "        #         for a in [\"*\", x.label()]:\n",
    "        #             prodstr = \" \".join(product)\n",
    "        #             rooted.append(f\"({a} {prodstr})\")\n",
    "        #     if useholes:\n",
    "        #         rooted.append(\"*\")\n",
    "        #     rooted.append(x.label())\n",
    "        #     collected += rooted + []\n",
    "        #     print(collected)\n",
    "        #     print(rooted)\n",
    "        return collected, rooted\n",
    "\n",
    "\n",
    "def _find_all_holings(x:Tree):   # (A B C) -> [(A B C), (A B *), (A * C), (A * *), (*, B, *), (*, *, C), (*, *, *)\n",
    "    varret = [\"*\", x.label()]\n",
    "    if len(x) == 0:\n",
    "        return [Tree(varrete, []) for varrete in varret]\n",
    "    else:\n",
    "        childholingses = []\n",
    "        for child in x:\n",
    "            childholingses.append(_find_all_holings(child))\n",
    "        ret = []\n",
    "        for prod in itertools.product(*childholingses):\n",
    "            for varrete in varret:\n",
    "                ret.append(Tree(varrete, prod))\n",
    "        return ret\n",
    "\n",
    "\n",
    "def find_hole_fraq(x):\n",
    "    numholes, numnodes = _find_hole_fraq(x)\n",
    "    # print(numholes, numnodes)\n",
    "    return numholes/numnodes\n",
    "\n",
    "\n",
    "def _find_hole_fraq(x):\n",
    "    numholes = 0\n",
    "    numnodes = 0\n",
    "    # print(x.label(), x.label() == \"*\")\n",
    "    if x.label() == \"*\":\n",
    "        numholes += 1\n",
    "    numnodes += 1\n",
    "    for child in x:\n",
    "        _numholes, _numnodes = _find_hole_fraq(child)\n",
    "        numholes += _numholes\n",
    "        numnodes += _numnodes\n",
    "    return numholes, numnodes\n",
    "\n",
    "\n",
    "def find_all_holings(x:Tree, maxholefraq=0.5):\n",
    "    # filtered holings enumerator\n",
    "    ret = []\n",
    "    for holing in _find_all_holings(x):\n",
    "        if maxholefraq == 1 or find_hole_fraq(holing) <= maxholefraq:\n",
    "            ret.append(holing)\n",
    "    return ret"
   ],
   "metadata": {
    "collapsed": false,
    "pycharm": {
     "name": "#%%\n"
    }
   }
  },
  {
   "cell_type": "code",
   "execution_count": null,
   "outputs": [],
   "source": [
    "ret, _ = find_all_subgraphs(x)\n",
    "for rete in ret:\n",
    "    print(rete)\n",
    "    # print(\"holings\")\n",
    "    # for holing in find_all_holings(rete):\n",
    "    #     print(holing)"
   ],
   "metadata": {
    "collapsed": false,
    "pycharm": {
     "name": "#%%\n",
     "is_executing": true
    }
   }
  },
  {
   "cell_type": "code",
   "execution_count": 9,
   "outputs": [],
   "source": [],
   "metadata": {
    "collapsed": false,
    "pycharm": {
     "name": "#%%\n"
    }
   }
  },
  {
   "cell_type": "code",
   "execution_count": 17,
   "outputs": [],
   "source": [],
   "metadata": {
    "collapsed": false,
    "pycharm": {
     "name": "#%%\n"
    }
   }
  },
  {
   "cell_type": "code",
   "execution_count": null,
   "outputs": [],
   "source": [
    "\n"
   ],
   "metadata": {
    "collapsed": false,
    "pycharm": {
     "name": "#%%\n"
    }
   }
  }
 ],
 "metadata": {
  "kernelspec": {
   "display_name": "Python 3",
   "language": "python",
   "name": "python3"
  },
  "language_info": {
   "codemirror_mode": {
    "name": "ipython",
    "version": 2
   },
   "file_extension": ".py",
   "mimetype": "text/x-python",
   "name": "python",
   "nbconvert_exporter": "python",
   "pygments_lexer": "ipython2",
   "version": "2.7.6"
  }
 },
 "nbformat": 4,
 "nbformat_minor": 0
}