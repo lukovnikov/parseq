{
 "cells": [
  {
   "cell_type": "code",
   "execution_count": null,
   "outputs": [],
   "source": [
    "%load_ext autoreload\n",
    "%autoreload 2"
   ],
   "metadata": {
    "collapsed": false,
    "pycharm": {
     "name": "#%%\n"
    }
   }
  },
  {
   "cell_type": "code",
   "execution_count": null,
   "outputs": [],
   "source": [],
   "metadata": {
    "collapsed": false,
    "pycharm": {
     "name": "#%%\n"
    }
   }
  },
  {
   "cell_type": "code",
   "execution_count": null,
   "outputs": [],
   "source": [
    "import json, math, random\n",
    "from typing import List, Tuple\n",
    "from nltk import Tree\n",
    "from tqdm import tqdm\n",
    "import numpy as np\n",
    "from parseq.datasets import CFQDatasetLoader\n",
    "from parseq.grammar import taglisp_to_tree, tree_size\n",
    "from parseq.scripts_resplit.resplit_cfq import DivergenceComputer, FrequencyDistribution"
   ],
   "metadata": {
    "collapsed": false,
    "pycharm": {
     "name": "#%%\n"
    }
   }
  },
  {
   "cell_type": "code",
   "execution_count": null,
   "outputs": [],
   "source": [
    "# load cfq, including unused examples\n",
    "ds = CFQDatasetLoader().load(\"mcd1/modent\", validfrac=0, loadunused=True, keepids=True)"
   ],
   "metadata": {
    "collapsed": false,
    "pycharm": {
     "name": "#%%\n"
    }
   }
  },
  {
   "cell_type": "code",
   "execution_count": null,
   "outputs": [],
   "source": [
    "# load all examples from all splits into a single list while removing previous split information\n",
    "allexamples = [(x[0], x[1], taglisp_to_tree(x[2])) for x in tqdm(ds)]"
   ],
   "metadata": {
    "collapsed": false,
    "pycharm": {
     "name": "#%%\n"
    }
   }
  },
  {
   "cell_type": "code",
   "execution_count": null,
   "outputs": [],
   "source": [
    "# compute all present compounds\n",
    "def print_stats(xs):\n",
    "    \"\"\" Input is list of examples of the form (id, nl, fltree) \"\"\"\n",
    "    dc = DivergenceComputer()\n",
    "    atomdist = dc.compute_atom_distribution(xs)\n",
    "    compdist = dc.compute_compound_distribution(xs)\n",
    "    sizedist = dc.compute_size_distribution(xs)\n",
    "    print(f\"Number of examples: {len(xs)}\")\n",
    "    print(f\"Atom dist entropy: {atomdist.entropy():.3f}, coverage: {len(atomdist)}\")\n",
    "    print(f\"Compound dist entropy: {compdist.entropy():.3f}, coverage: {len(compdist)}\")\n",
    "    print(f\"Average size: {sizedist.average():.3f}\")\n",
    "    return atomdist, compdist, sizedist"
   ],
   "metadata": {
    "collapsed": false,
    "pycharm": {
     "name": "#%%\n"
    }
   }
  },
  {
   "cell_type": "code",
   "execution_count": null,
   "outputs": [],
   "source": [
    "allatomdist, allcompdist, allsizedist = print_stats(allexamples)"
   ],
   "metadata": {
    "collapsed": false,
    "pycharm": {
     "name": "#%%\n"
    }
   }
  },
  {
   "cell_type": "code",
   "execution_count": null,
   "outputs": [],
   "source": [
    "# get a set of examples that do not share any compounds\n",
    "def get_disjoint_examples(xs, dc=None):\n",
    "    dc = DivergenceComputer() if dc is None else dc\n",
    "    selected = []\n",
    "    remaining = []\n",
    "    presentcompounds = set()\n",
    "    coveredfc = FrequencyDistribution()\n",
    "    for example in tqdm(xs):\n",
    "        add = True\n",
    "        tree = example[1]\n",
    "        comps = dc.extract_compounds(tree)\n",
    "        if len(set(comps) & presentcompounds) == 0:\n",
    "            selected.append(example)\n",
    "            presentcompounds |= set(comps)\n",
    "            for comp in comps:\n",
    "                coveredfc[comp] += 1\n",
    "        else:\n",
    "            remaining.append(example)\n",
    "    return selected"
   ],
   "metadata": {
    "collapsed": false,
    "pycharm": {
     "name": "#%%\n"
    }
   }
  },
  {
   "cell_type": "code",
   "execution_count": null,
   "outputs": [],
   "source": [
    "def get_covering_examples(xs, dc=None):\n",
    "    dc = DivergenceComputer() if dc is None else dc\n",
    "    selected = []\n",
    "    presentcompounds = set()\n",
    "    coveredfc = FrequencyDistribution()\n",
    "    for example in tqdm(xs):\n",
    "        add = True\n",
    "        tree = example[1]\n",
    "        comps = dc.extract_compounds(tree)\n",
    "        if len(set(comps) - presentcompounds) > 0:\n",
    "            selected.append(example)\n",
    "            presentcompounds |= set(comps)\n",
    "            for comp in comps:\n",
    "                coveredfc[comp] += 1\n",
    "    return selected"
   ],
   "metadata": {
    "collapsed": false,
    "pycharm": {
     "name": "#%%\n"
    }
   }
  },
  {
   "cell_type": "code",
   "execution_count": null,
   "outputs": [],
   "source": [
    "if False:\n",
    "    dx = get_disjoint_examples(allexamples)\n",
    "    cx = get_covering_examples(allexamples)"
   ],
   "metadata": {
    "collapsed": false,
    "pycharm": {
     "name": "#%%\n"
    }
   }
  },
  {
   "cell_type": "code",
   "execution_count": null,
   "outputs": [],
   "source": [
    "def smoothendist(dist, perc=0.05):\n",
    "    fd = FrequencyDistribution()\n",
    "    sortedkeys = sorted(allsizedist.keys())\n",
    "    for i, k in enumerate(sortedkeys):\n",
    "        j = 1\n",
    "        acc = dist(k)\n",
    "        div = 1\n",
    "        while True:\n",
    "            if i-j >= 0:\n",
    "                acc += dist(sortedkeys[i-j])\n",
    "                div += 1\n",
    "            if i+j < len(sortedkeys):\n",
    "                acc += dist(sortedkeys[i+j])\n",
    "                div += 1\n",
    "            j += 1\n",
    "            if acc >= perc:\n",
    "                break\n",
    "        fd[k] = acc/div\n",
    "    return fd"
   ],
   "metadata": {
    "collapsed": false,
    "pycharm": {
     "name": "#%%\n"
    }
   }
  },
  {
   "cell_type": "code",
   "execution_count": null,
   "outputs": [],
   "source": [
    "smoothedallsize = smoothendist(allsizedist)\n",
    "for size in sorted(smoothedallsize.keys()):\n",
    "    print(size, smoothedallsize(size))"
   ],
   "metadata": {
    "collapsed": false,
    "pycharm": {
     "name": "#%%\n"
    }
   }
  },
  {
   "cell_type": "code",
   "execution_count": null,
   "outputs": [],
   "source": [
    "for size in sorted(allsizedist.keys()):\n",
    "    print(size, allsizedist(size))"
   ],
   "metadata": {
    "collapsed": false,
    "pycharm": {
     "name": "#%%\n"
    }
   }
  },
  {
   "cell_type": "code",
   "execution_count": null,
   "outputs": [],
   "source": [
    "def compute_overlap(dist, comps):  # how many of the compounds have already been observed?\n",
    "    overlap = 0\n",
    "    unoverlap = 0\n",
    "    total = 0\n",
    "    for comp in comps:\n",
    "        if comp in dist and dist[comp] > 0:\n",
    "            overlap += 1\n",
    "        else:\n",
    "            unoverlap += 1\n",
    "        total += 1\n",
    "    return overlap / total, unoverlap / total\n",
    "\n",
    "\n",
    "def get_minimal_covering_examples(xs, dc=None, N=10000, step=2000, cache=None, targetsizedist=None):\n",
    "    retcache = cache is True\n",
    "    \n",
    "    dc = DivergenceComputer() if dc is None else dc\n",
    "    \n",
    "    # find all compounds and build cache\n",
    "    if cache is None or cache is True or cache is False:\n",
    "        print(\"building compound cache\")\n",
    "        cache = {}\n",
    "        compounds = {}\n",
    "        lastid = 0\n",
    "        for example in tqdm(xs):\n",
    "            tree = example[2]\n",
    "            comps = dc.extract_compounds(tree)\n",
    "            cache[str(tree)] = []\n",
    "            cacheline = []\n",
    "            for comp in comps:\n",
    "                if comp not in compounds:\n",
    "                    compounds[comp] = lastid + 1\n",
    "                    lastid += 1\n",
    "                cacheline.append(compounds[comp])\n",
    "            cache[str(tree)] = cacheline\n",
    "    #             cache[str(tree)].append(compounds[comp])\n",
    "            \n",
    "        print(\"built cache\")\n",
    "            \n",
    "    print(\"finding disjoint examples\")\n",
    "    random.shuffle(allexamples)\n",
    "    selected = []\n",
    "    remaining = []\n",
    "    presentcompounds = set()\n",
    "    dxdist = FrequencyDistribution()\n",
    "    sizedist = FrequencyDistribution()\n",
    "    \n",
    "    for example in tqdm(xs):\n",
    "        add = True\n",
    "        tree = example[2]\n",
    "        comps = cache[str(tree)]\n",
    "        if len(set(comps) & presentcompounds) == 0:\n",
    "            selected.append(example)\n",
    "            presentcompounds |= set(comps)\n",
    "            for comp in comps:\n",
    "                dxdist[comp] += 1\n",
    "            sizedist[tree_size(tree)] += 1\n",
    "        else:\n",
    "            remaining.append(example)\n",
    "\n",
    "    dx, remaining = selected, remaining\n",
    "    # go over all examples and compute their overlaps with dxdist\n",
    "    print(f\"found {len(dx)} disjoint examples\")\n",
    "    \n",
    "    if targetsizedist is not None:\n",
    "        targetsizedist = smoothendist(targetsizedist)\n",
    "    \n",
    "    print(\"iterating\")\n",
    "    iternr = 1\n",
    "    while True:\n",
    "        print(f\"iter {iternr}\")\n",
    "        iternr += 1\n",
    "        overlaps = []\n",
    "        unoverlaps = []\n",
    "        tsizes = []\n",
    "        for x in tqdm(remaining):\n",
    "            comps = cache[str(x[2])]\n",
    "            tsizes.append(tree_size(x[2]))\n",
    "            overlap, unoverlap = compute_overlap(dxdist, comps)\n",
    "            overlaps.append(overlap)\n",
    "            unoverlaps.append(unoverlap)\n",
    "        \n",
    "        # sort by overlap and select N best that overlap least\n",
    "        tosort = zip(remaining, overlaps, unoverlaps, tsizes)\n",
    "        remainingsorted = sorted(tosort, key=lambda x: -x[2])  # small overlap first\n",
    "        print(f\"Top overlap: {remainingsorted[0][1]}, bottom overlap: {remainingsorted[-1][1]}\")\n",
    "        numberwithlargestoverlap = 0\n",
    "        numberwithhalfoverlap = 0\n",
    "        for (i, x) in enumerate(remainingsorted[::-1]):\n",
    "            overlap = x[1]\n",
    "            if overlap >= 0.8:\n",
    "                numberwithlargestoverlap += 1\n",
    "            if overlap >= 0.5:\n",
    "                numberwithhalfoverlap += 1\n",
    "        print(f\"Number of high overlap: {numberwithlargestoverlap} and half overlap: {numberwithhalfoverlap}\")\n",
    "        #remainingsorted = [x[0] for x in remainingsorted]\n",
    "        _step = min(step, len(remainingsorted))\n",
    "        if targetsizedist is None:\n",
    "            selected, remaining = remainingsorted[:_step], remainingsorted[_step:]\n",
    "        else:\n",
    "            selected, remaining = [], []\n",
    "            smoothsizedist = smoothendist(sizedist)\n",
    "            for i, x in enumerate(remainingsorted):\n",
    "                xsize = x[-1]\n",
    "                if smoothsizedist[xsize] < targetsizedist[xsize]:\n",
    "                    selected.append(x)\n",
    "                    sizedist[xsize] += 1\n",
    "                    smoothsizedist = smoothendist(sizedist)\n",
    "                else:\n",
    "                    remaining.append(x)\n",
    "                if len(selected) >= step:\n",
    "                    remaining += remainingsorted[i+1:]\n",
    "                    break\n",
    "            assert(len(selected) + len(remaining) == len(remainingsorted))\n",
    "            \n",
    "        for x, xoverlap, xunoverlap, xsize in selected:\n",
    "            for comp in cache[str(x[2])]:\n",
    "                dxdist[comp] += 1\n",
    "        dx = dx + [x[0] for x in selected]\n",
    "        remaining = [x[0] for x in remaining]\n",
    "        \n",
    "        if len(dx) >= N:\n",
    "            dx = dx[:N]\n",
    "            remaining = remaining + dx[N:]\n",
    "            for x in dx[N:]:\n",
    "                for comp in cache[str(x[2])]:\n",
    "                    dxdist[comp] -= 1\n",
    "                if dxdist[comp] <= 0:\n",
    "                    del dxdist[comp]\n",
    "            break\n",
    "        \n",
    "        print(f\"Number of selected examples: {len(dx)}, number of covered compounds: {len(dxdist)}\")\n",
    "    \n",
    "    if retcache is True:\n",
    "        return dx, remaining, dxdist, cache\n",
    "    else:\n",
    "        return dx, remaining, dxdist"
   ],
   "metadata": {
    "collapsed": false,
    "pycharm": {
     "name": "#%%\n"
    }
   }
  },
  {
   "cell_type": "code",
   "execution_count": null,
   "outputs": [],
   "source": [
    "NN = 5000"
   ],
   "metadata": {
    "collapsed": false,
    "pycharm": {
     "name": "#%%\n"
    }
   }
  },
  {
   "cell_type": "code",
   "execution_count": null,
   "outputs": [],
   "source": [
    "if \"cache\" not in locals() or cache is None:\n",
    "    mcx, _, mcxdist, cache = get_minimal_covering_examples(allexamples, N=NN, step=NN//10, cache=True)\n",
    "else:\n",
    "    mcx, _, mcxdist = get_minimal_covering_examples(allexamples, N=NN, step=NN//10, cache=cache)  # , targetsizedist=allsizedist)"
   ],
   "metadata": {
    "collapsed": false,
    "pycharm": {
     "name": "#%%\n"
    }
   }
  },
  {
   "cell_type": "code",
   "execution_count": null,
   "outputs": [],
   "source": [
    "mcxatom, mcxcomp, mcxsize = print_stats(mcx)\n",
    "print(randsize.compute_chernoff_coeff(smoothendist(mcxsize), smoothendist(allsizedist)))"
   ],
   "metadata": {
    "collapsed": false,
    "pycharm": {
     "name": "#%%\n"
    }
   }
  },
  {
   "cell_type": "code",
   "execution_count": null,
   "outputs": [],
   "source": [
    "mcxatom, mcxcomp, mcxsize = print_stats(mcx)\n",
    "print(randsize.compute_chernoff_coeff(smoothendist(mcxsize), smoothendist(allsizedist)))"
   ],
   "metadata": {
    "collapsed": false,
    "pycharm": {
     "name": "#%%\n"
    }
   }
  },
  {
   "cell_type": "code",
   "execution_count": null,
   "outputs": [],
   "source": [
    "random.shuffle(allexamples)\n",
    "mcx_random = allexamples[:NN]"
   ],
   "metadata": {
    "collapsed": false,
    "pycharm": {
     "name": "#%%\n"
    }
   }
  },
  {
   "cell_type": "code",
   "execution_count": null,
   "outputs": [],
   "source": [
    "randatom, randcomp, randsize = print_stats(mcx_random)\n",
    "print(randsize.compute_chernoff_coeff(smoothendist(randsize), smoothendist(allsizedist)))"
   ],
   "metadata": {
    "collapsed": false,
    "pycharm": {
     "name": "#%%\n"
    }
   }
  },
  {
   "cell_type": "code",
   "execution_count": null,
   "outputs": [],
   "source": [
    "for k in sorted(allsizedist.keys()):\n",
    "    print(f\"{k} {allsizedist(k):.5f} - {randsize(k):.5f} - {mcxsize(k):.5f}\")"
   ],
   "metadata": {
    "collapsed": false,
    "pycharm": {
     "name": "#%%\n"
    }
   }
  },
  {
   "cell_type": "code",
   "execution_count": null,
   "outputs": [],
   "source": [],
   "metadata": {
    "collapsed": false,
    "pycharm": {
     "name": "#%%\n"
    }
   }
  }
 ],
 "metadata": {
  "kernelspec": {
   "display_name": "Python 3 (ipykernel)",
   "language": "python",
   "name": "python3"
  },
  "language_info": {
   "codemirror_mode": {
    "name": "ipython",
    "version": 3
   },
   "file_extension": ".py",
   "mimetype": "text/x-python",
   "name": "python",
   "nbconvert_exporter": "python",
   "pygments_lexer": "ipython3",
   "version": "3.9.7"
  }
 },
 "nbformat": 4,
 "nbformat_minor": 1
}