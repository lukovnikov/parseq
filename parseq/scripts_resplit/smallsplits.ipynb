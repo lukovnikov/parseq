{
 "cells": [
  {
   "cell_type": "code",
   "execution_count": 18,
   "metadata": {
    "pycharm": {
     "name": "#%%\n"
    }
   },
   "outputs": [
    {
     "name": "stdout",
     "output_type": "stream",
     "text": [
      "The autoreload extension is already loaded. To reload it, use:\n",
      "  %reload_ext autoreload\n"
     ]
    }
   ],
   "source": [
    "%load_ext autoreload\n",
    "%autoreload 2"
   ]
  },
  {
   "cell_type": "code",
   "execution_count": null,
   "metadata": {
    "pycharm": {
     "name": "#%%\n"
    }
   },
   "outputs": [],
   "source": []
  },
  {
   "cell_type": "code",
   "execution_count": 2,
   "metadata": {
    "pycharm": {
     "name": "#%%\n"
    }
   },
   "outputs": [],
   "source": [
    "import json, math, random\n",
    "from typing import List, Tuple\n",
    "from nltk import Tree\n",
    "from tqdm import tqdm\n",
    "import numpy as np\n",
    "from parseq.datasets import CFQDatasetLoader\n",
    "from parseq.grammar import taglisp_to_tree, tree_size\n",
    "from parseq.scripts_resplit.resplit_cfq import DivergenceComputer, FrequencyDistribution"
   ]
  },
  {
   "cell_type": "code",
   "execution_count": 3,
   "metadata": {
    "pycharm": {
     "name": "#%%\n"
    }
   },
   "outputs": [
    {
     "name": "stdout",
     "output_type": "stream",
     "text": [
      "CFQDatasetLoader: make data\n",
      "CFQDatasetLoader: make data                                                                                  T: 0.0 sec\n",
      "loading split 'mcd1'\n",
      "doing 'train'\n"
     ]
    },
    {
     "name": "stderr",
     "output_type": "stream",
     "text": [
      "100%|██████████████████████████████████████████████████████████████████████████| 95743/95743 [00:22<00:00, 4296.82it/s]\n"
     ]
    },
    {
     "name": "stdout",
     "output_type": "stream",
     "text": [
      "doing 'test'\n"
     ]
    },
    {
     "name": "stderr",
     "output_type": "stream",
     "text": [
      "100%|██████████████████████████████████████████████████████████████████████████| 11968/11968 [00:03<00:00, 3657.90it/s]\n"
     ]
    },
    {
     "name": "stdout",
     "output_type": "stream",
     "text": [
      "doing 'oodvalid'\n"
     ]
    },
    {
     "name": "stderr",
     "output_type": "stream",
     "text": [
      "100%|██████████████████████████████████████████████████████████████████████████| 11968/11968 [00:03<00:00, 3633.56it/s]\n"
     ]
    },
    {
     "name": "stdout",
     "output_type": "stream",
     "text": [
      "doing 'unused'\n"
     ]
    },
    {
     "name": "stderr",
     "output_type": "stream",
     "text": [
      "100%|████████████████████████████████████████████████████████████████████████| 119678/119678 [00:32<00:00, 3716.37it/s]\n"
     ]
    }
   ],
   "source": [
    "# load cfq, including unused examples\n",
    "ds = CFQDatasetLoader().load(\"mcd1/modent\", validfrac=0, loadunused=True, keepids=True)"
   ]
  },
  {
   "cell_type": "code",
   "execution_count": 4,
   "metadata": {
    "pycharm": {
     "name": "#%%\n"
    }
   },
   "outputs": [
    {
     "name": "stderr",
     "output_type": "stream",
     "text": [
      "100%|████████████████████████████████████████████████████████████████████████| 239357/239357 [00:31<00:00, 7607.74it/s]\n"
     ]
    }
   ],
   "source": [
    "# load all examples from all splits into a single list while removing previous split information\n",
    "allexamples = [(x[0], x[1], taglisp_to_tree(x[2])) for x in tqdm(ds)]"
   ]
  },
  {
   "cell_type": "code",
   "execution_count": 5,
   "metadata": {
    "pycharm": {
     "name": "#%%\n"
    }
   },
   "outputs": [],
   "source": [
    "# compute all present compounds\n",
    "def print_stats(xs):\n",
    "    \"\"\" Input is list of examples of the form (id, nl, fltree) \"\"\"\n",
    "    dc = DivergenceComputer()\n",
    "    atomdist = dc.compute_atom_distribution(xs)\n",
    "    compdist = dc.compute_compound_distribution(xs)\n",
    "    sizedist = dc.compute_size_distribution(xs)\n",
    "    print(f\"Number of examples: {len(xs)}\")\n",
    "    print(f\"Atom dist entropy: {atomdist.entropy():.3f}, coverage: {len(atomdist)}\")\n",
    "    print(f\"Compound dist entropy: {compdist.entropy():.3f}, coverage: {len(compdist)}\")\n",
    "    print(f\"Average size: {sizedist.average():.3f}\")\n",
    "    return atomdist, compdist, sizedist"
   ]
  },
  {
   "cell_type": "code",
   "execution_count": 17,
   "metadata": {
    "pycharm": {
     "name": "#%%\n"
    }
   },
   "outputs": [
    {
     "name": "stderr",
     "output_type": "stream",
     "text": [
      "100%|████████████████████████████████████████████████████████████████████████| 239357/239357 [00:28<00:00, 8350.88it/s]\n",
      "100%|█████████████████████████████████████████████████████████████████████████| 239357/239357 [04:12<00:00, 949.13it/s]\n",
      "100%|███████████████████████████████████████████████████████████████████████| 239357/239357 [00:02<00:00, 87849.78it/s]\n"
     ]
    },
    {
     "name": "stdout",
     "output_type": "stream",
     "text": [
      "Number of examples: 239357\n",
      "Atom dist entropy: 3.465, coverage: 104\n",
      "Compound dist entropy: 11.777, coverage: 1624133\n",
      "Average size: 31.919\n"
     ]
    }
   ],
   "source": [
    "allatomdist, allcompdist, allsizedist = print_stats(allexamples)"
   ]
  },
  {
   "cell_type": "code",
   "execution_count": 6,
   "metadata": {
    "pycharm": {
     "name": "#%%\n"
    }
   },
   "outputs": [],
   "source": [
    "# get a set of examples that do not share any compounds\n",
    "def get_disjoint_examples(xs, dc=None):\n",
    "    dc = DivergenceComputer() if dc is None else dc\n",
    "    selected = []\n",
    "    remaining = []\n",
    "    presentcompounds = set()\n",
    "    coveredfc = FrequencyDistribution()\n",
    "    for example in tqdm(xs):\n",
    "        add = True\n",
    "        tree = example[1]\n",
    "        comps = dc.extract_compounds(tree)\n",
    "        if len(set(comps) & presentcompounds) == 0:\n",
    "            selected.append(example)\n",
    "            presentcompounds |= set(comps)\n",
    "            for comp in comps:\n",
    "                coveredfc[comp] += 1\n",
    "        else:\n",
    "            remaining.append(example)\n",
    "    return selected"
   ]
  },
  {
   "cell_type": "code",
   "execution_count": 7,
   "metadata": {
    "pycharm": {
     "name": "#%%\n"
    }
   },
   "outputs": [],
   "source": [
    "def get_covering_examples(xs, dc=None):\n",
    "    dc = DivergenceComputer() if dc is None else dc\n",
    "    selected = []\n",
    "    presentcompounds = set()\n",
    "    coveredfc = FrequencyDistribution()\n",
    "    for example in tqdm(xs):\n",
    "        add = True\n",
    "        tree = example[1]\n",
    "        comps = dc.extract_compounds(tree)\n",
    "        if len(set(comps) - presentcompounds) > 0:\n",
    "            selected.append(example)\n",
    "            presentcompounds |= set(comps)\n",
    "            for comp in comps:\n",
    "                coveredfc[comp] += 1\n",
    "    return selected"
   ]
  },
  {
   "cell_type": "code",
   "execution_count": 8,
   "metadata": {
    "pycharm": {
     "name": "#%%\n"
    }
   },
   "outputs": [],
   "source": [
    "if False:\n",
    "    dx = get_disjoint_examples(allexamples)\n",
    "    cx = get_covering_examples(allexamples)"
   ]
  },
  {
   "cell_type": "code",
   "execution_count": 9,
   "metadata": {
    "pycharm": {
     "name": "#%%\n"
    }
   },
   "outputs": [],
   "source": [
    "def smoothendist(dist, perc=0.05):\n",
    "    fd = FrequencyDistribution()\n",
    "    sortedkeys = sorted(allsizedist.keys())\n",
    "    for i, k in enumerate(sortedkeys):\n",
    "        j = 1\n",
    "        acc = dist(k)\n",
    "        div = 1\n",
    "        while True:\n",
    "            if i-j >= 0:\n",
    "                acc += dist(sortedkeys[i-j])\n",
    "                div += 1\n",
    "            if i+j < len(sortedkeys):\n",
    "                acc += dist(sortedkeys[i+j])\n",
    "                div += 1\n",
    "            j += 1\n",
    "            if acc >= perc:\n",
    "                break\n",
    "        fd[k] = acc/div\n",
    "    return fd"
   ]
  },
  {
   "cell_type": "code",
   "execution_count": 14,
   "metadata": {
    "pycharm": {
     "name": "#%%\n"
    }
   },
   "outputs": [],
   "source": [
    "def compute_overlap(dist, comps):  # how many of the compounds have already been observed?\n",
    "    overlap = 0\n",
    "    unoverlap = 0\n",
    "    total = 0\n",
    "    for comp in comps:\n",
    "        if comp in dist and dist[comp] > 0:\n",
    "            overlap += 1\n",
    "        else:\n",
    "            unoverlap += 1\n",
    "        total += 1\n",
    "    return overlap / total, unoverlap / total\n",
    "\n",
    "\n",
    "def get_minimal_covering_examples(xs, dc=None, N=10000, step=2000, cache=None, targetsizedist=None):\n",
    "    retcache = cache is True\n",
    "    \n",
    "    dc = DivergenceComputer() if dc is None else dc\n",
    "    \n",
    "    # find all compounds and build cache\n",
    "    if cache is None or cache is True or cache is False:\n",
    "        print(\"building compound cache\")\n",
    "        cache = {}\n",
    "        compounds = {}\n",
    "        lastid = 0\n",
    "        for example in tqdm(xs):\n",
    "            tree = example[2]\n",
    "            comps = dc.extract_compounds(tree)\n",
    "            cache[str(tree)] = []\n",
    "            cacheline = []\n",
    "            for comp in comps:\n",
    "                if comp not in compounds:\n",
    "                    compounds[comp] = lastid + 1\n",
    "                    lastid += 1\n",
    "                cacheline.append(compounds[comp])\n",
    "            cache[str(tree)] = cacheline\n",
    "    #             cache[str(tree)].append(compounds[comp])\n",
    "            \n",
    "        print(\"built cache\")\n",
    "            \n",
    "    print(\"randomly selecting initial examples\")\n",
    "    random.shuffle(xs)\n",
    "    NUMINIT = 200\n",
    "    selected = xs[:NUMINIT]\n",
    "    remaining = xs[NUMINIT:]\n",
    "    dxdist = FrequencyDistribution()\n",
    "    sizedist = FrequencyDistribution()\n",
    "    \n",
    "    for example in selected:\n",
    "        tree = example[2]\n",
    "        comps = cache[str(tree)]\n",
    "        for comp in comps:\n",
    "            dxdist[comp] += 1\n",
    "        sizedist[tree_size(tree)] += 1\n",
    "\n",
    "    dx, remaining = selected, remaining\n",
    "    # go over all examples and compute their overlaps with dxdist\n",
    "    print(f\"randomly chosen {len(dx)} examples\")\n",
    "    \n",
    "#     print(\"finding disjoint examples\")\n",
    "#     random.shuffle(xs)\n",
    "#     selected = []\n",
    "#     remaining = []\n",
    "#     presentcompounds = set()\n",
    "#     dxdist = FrequencyDistribution()\n",
    "#     sizedist = FrequencyDistribution()\n",
    "    \n",
    "#     for example in tqdm(xs):\n",
    "#         add = True\n",
    "#         tree = example[2]\n",
    "#         comps = cache[str(tree)]\n",
    "#         if len(set(comps) & presentcompounds) == 0:\n",
    "#             selected.append(example)\n",
    "#             presentcompounds |= set(comps)\n",
    "#             for comp in comps:\n",
    "#                 dxdist[comp] += 1\n",
    "#             sizedist[tree_size(tree)] += 1\n",
    "#         else:\n",
    "#             remaining.append(example)\n",
    "\n",
    "#     dx, remaining = selected, remaining\n",
    "#     # go over all examples and compute their overlaps with dxdist\n",
    "#     print(f\"found {len(dx)} disjoint examples\")\n",
    "    \n",
    "    if targetsizedist is not None:\n",
    "        targetsizedist = smoothendist(targetsizedist)\n",
    "    \n",
    "    print(\"iterating\")\n",
    "    iternr = 1\n",
    "    while True:\n",
    "        print(f\"iter {iternr}\")\n",
    "        iternr += 1\n",
    "        overlaps = []\n",
    "        unoverlaps = []\n",
    "        tsizes = []\n",
    "        for x in tqdm(remaining):\n",
    "            comps = cache[str(x[2])]\n",
    "            tsizes.append(tree_size(x[2]))\n",
    "            overlap, unoverlap = compute_overlap(dxdist, comps)\n",
    "            overlaps.append(overlap)\n",
    "            unoverlaps.append(unoverlap)\n",
    "        \n",
    "        # sort by overlap and select N best that overlap least\n",
    "        tosort = zip(remaining, overlaps, unoverlaps, tsizes)\n",
    "        remainingsorted = sorted(tosort, key=lambda x: -x[2])  # small overlap first\n",
    "        print(f\"Top overlap: {remainingsorted[0][1]}, bottom overlap: {remainingsorted[-1][1]}\")\n",
    "        numberwithlargestoverlap = 0\n",
    "        numberwithhalfoverlap = 0\n",
    "        for (i, x) in enumerate(remainingsorted[::-1]):\n",
    "            overlap = x[1]\n",
    "            if overlap >= 0.8:\n",
    "                numberwithlargestoverlap += 1\n",
    "            if overlap >= 0.5:\n",
    "                numberwithhalfoverlap += 1\n",
    "        print(f\"Number of high overlap: {numberwithlargestoverlap} and half overlap: {numberwithhalfoverlap}\")\n",
    "        #remainingsorted = [x[0] for x in remainingsorted]\n",
    "        _step = min(step, len(remainingsorted))\n",
    "        if targetsizedist is None:\n",
    "            selected, remaining = remainingsorted[:_step], remainingsorted[_step:]\n",
    "        else:\n",
    "            selected, remaining = [], []\n",
    "            smoothsizedist = smoothendist(sizedist)\n",
    "            for i, x in enumerate(remainingsorted):\n",
    "                xsize = x[-1]\n",
    "                if smoothsizedist[xsize] < targetsizedist[xsize]:\n",
    "                    selected.append(x)\n",
    "                    sizedist[xsize] += 1\n",
    "                    smoothsizedist = smoothendist(sizedist)\n",
    "                else:\n",
    "                    remaining.append(x)\n",
    "                if len(selected) >= step:\n",
    "                    remaining += remainingsorted[i+1:]\n",
    "                    break\n",
    "            assert(len(selected) + len(remaining) == len(remainingsorted))\n",
    "            \n",
    "        for x, xoverlap, xunoverlap, xsize in selected:\n",
    "            for comp in cache[str(x[2])]:\n",
    "                dxdist[comp] += 1\n",
    "        dx = dx + [x[0] for x in selected]\n",
    "        remaining = [x[0] for x in remaining]\n",
    "        \n",
    "        if len(dx) >= N:\n",
    "            dx = dx[:N]\n",
    "            remaining = remaining + dx[N:]\n",
    "            for x in dx[N:]:\n",
    "                for comp in cache[str(x[2])]:\n",
    "                    dxdist[comp] -= 1\n",
    "                if dxdist[comp] <= 0:\n",
    "                    del dxdist[comp]\n",
    "            break\n",
    "        \n",
    "        print(f\"Number of selected examples: {len(dx)}, number of covered compounds: {len(dxdist)}\")\n",
    "    \n",
    "    if retcache is True:\n",
    "        return dx, remaining, dxdist, cache\n",
    "    else:\n",
    "        return dx, remaining, dxdist"
   ]
  },
  {
   "cell_type": "code",
   "execution_count": 32,
   "metadata": {
    "pycharm": {
     "name": "#%%\n"
    }
   },
   "outputs": [],
   "source": [
    "NN = 10000"
   ]
  },
  {
   "cell_type": "code",
   "execution_count": 33,
   "metadata": {
    "pycharm": {
     "name": "#%%\n"
    }
   },
   "outputs": [
    {
     "name": "stdout",
     "output_type": "stream",
     "text": [
      "randomly selecting initial examples\n",
      "randomly chosen 200 examples\n",
      "iterating\n",
      "iter 1\n"
     ]
    },
    {
     "name": "stderr",
     "output_type": "stream",
     "text": [
      "100%|████████████████████████████████████████████████████████████████████████| 239157/239157 [00:33<00:00, 7142.73it/s]\n"
     ]
    },
    {
     "name": "stdout",
     "output_type": "stream",
     "text": [
      "Top overlap: 0.0012004801920768306, bottom overlap: 1.0\n",
      "Number of high overlap: 12315 and half overlap: 63100\n",
      "Number of selected examples: 1200, number of covered compounds: 79080\n",
      "iter 2\n"
     ]
    },
    {
     "name": "stderr",
     "output_type": "stream",
     "text": [
      "100%|████████████████████████████████████████████████████████████████████████| 238157/238157 [00:33<00:00, 7142.73it/s]\n"
     ]
    },
    {
     "name": "stdout",
     "output_type": "stream",
     "text": [
      "Top overlap: 0.016778523489932886, bottom overlap: 1.0\n",
      "Number of high overlap: 17824 and half overlap: 78234\n",
      "Number of selected examples: 2200, number of covered compounds: 200243\n",
      "iter 3\n"
     ]
    },
    {
     "name": "stderr",
     "output_type": "stream",
     "text": [
      "100%|████████████████████████████████████████████████████████████████████████| 237157/237157 [00:33<00:00, 7109.44it/s]\n"
     ]
    },
    {
     "name": "stdout",
     "output_type": "stream",
     "text": [
      "Top overlap: 0.07142857142857142, bottom overlap: 1.0\n",
      "Number of high overlap: 24364 and half overlap: 120739\n",
      "Number of selected examples: 3200, number of covered compounds: 297142\n",
      "iter 4\n"
     ]
    },
    {
     "name": "stderr",
     "output_type": "stream",
     "text": [
      "100%|████████████████████████████████████████████████████████████████████████| 236157/236157 [00:33<00:00, 7064.57it/s]\n"
     ]
    },
    {
     "name": "stdout",
     "output_type": "stream",
     "text": [
      "Top overlap: 0.1645021645021645, bottom overlap: 1.0\n",
      "Number of high overlap: 40381 and half overlap: 173414\n",
      "Number of selected examples: 4200, number of covered compounds: 380580\n",
      "iter 5\n"
     ]
    },
    {
     "name": "stderr",
     "output_type": "stream",
     "text": [
      "100%|████████████████████████████████████████████████████████████████████████| 235157/235157 [00:33<00:00, 7071.33it/s]\n"
     ]
    },
    {
     "name": "stdout",
     "output_type": "stream",
     "text": [
      "Top overlap: 0.25396825396825395, bottom overlap: 1.0\n",
      "Number of high overlap: 50022 and half overlap: 203281\n",
      "Number of selected examples: 5200, number of covered compounds: 459601\n",
      "iter 6\n"
     ]
    },
    {
     "name": "stderr",
     "output_type": "stream",
     "text": [
      "100%|████████████████████████████████████████████████████████████████████████| 234157/234157 [00:33<00:00, 7045.48it/s]\n"
     ]
    },
    {
     "name": "stdout",
     "output_type": "stream",
     "text": [
      "Top overlap: 0.3314285714285714, bottom overlap: 1.0\n",
      "Number of high overlap: 65860 and half overlap: 220498\n",
      "Number of selected examples: 6200, number of covered compounds: 522058\n",
      "iter 7\n"
     ]
    },
    {
     "name": "stderr",
     "output_type": "stream",
     "text": [
      "100%|████████████████████████████████████████████████████████████████████████| 233157/233157 [00:33<00:00, 6995.66it/s]\n"
     ]
    },
    {
     "name": "stdout",
     "output_type": "stream",
     "text": [
      "Top overlap: 0.38961038961038963, bottom overlap: 1.0\n",
      "Number of high overlap: 79834 and half overlap: 227227\n",
      "Number of selected examples: 7200, number of covered compounds: 581131\n",
      "iter 8\n"
     ]
    },
    {
     "name": "stderr",
     "output_type": "stream",
     "text": [
      "100%|████████████████████████████████████████████████████████████████████████| 232157/232157 [00:33<00:00, 6973.08it/s]\n"
     ]
    },
    {
     "name": "stdout",
     "output_type": "stream",
     "text": [
      "Top overlap: 0.43902439024390244, bottom overlap: 1.0\n",
      "Number of high overlap: 91448 and half overlap: 229979\n",
      "Number of selected examples: 8200, number of covered compounds: 635014\n",
      "iter 9\n"
     ]
    },
    {
     "name": "stderr",
     "output_type": "stream",
     "text": [
      "100%|████████████████████████████████████████████████████████████████████████| 231157/231157 [00:33<00:00, 6963.49it/s]\n"
     ]
    },
    {
     "name": "stdout",
     "output_type": "stream",
     "text": [
      "Top overlap: 0.4782608695652174, bottom overlap: 1.0\n",
      "Number of high overlap: 104483 and half overlap: 230700\n",
      "Number of selected examples: 9200, number of covered compounds: 681095\n",
      "iter 10\n"
     ]
    },
    {
     "name": "stderr",
     "output_type": "stream",
     "text": [
      "100%|████████████████████████████████████████████████████████████████████████| 230157/230157 [00:33<00:00, 6954.59it/s]\n"
     ]
    },
    {
     "name": "stdout",
     "output_type": "stream",
     "text": [
      "Top overlap: 0.5116279069767442, bottom overlap: 1.0\n",
      "Number of high overlap: 117762 and half overlap: 230157\n"
     ]
    }
   ],
   "source": [
    "if \"cache\" not in locals() or cache is None:\n",
    "    mcx, _, mcxdist, cache = get_minimal_covering_examples(allexamples, N=NN, step=NN//10, cache=True)\n",
    "else:\n",
    "    mcx, _, mcxdist = get_minimal_covering_examples(allexamples, N=NN, step=NN//10, cache=cache)  # , targetsizedist=allsizedist)"
   ]
  },
  {
   "cell_type": "code",
   "execution_count": 34,
   "metadata": {
    "pycharm": {
     "name": "#%%\n"
    }
   },
   "outputs": [
    {
     "name": "stderr",
     "output_type": "stream",
     "text": [
      "100%|██████████████████████████████████████████████████████████████████████████| 10000/10000 [00:01<00:00, 7562.58it/s]\n",
      "100%|███████████████████████████████████████████████████████████████████████████| 10000/10000 [00:22<00:00, 450.52it/s]\n",
      "100%|█████████████████████████████████████████████████████████████████████████| 10000/10000 [00:00<00:00, 68012.17it/s]\n"
     ]
    },
    {
     "name": "stdout",
     "output_type": "stream",
     "text": [
      "Number of examples: 10000\n",
      "Atom dist entropy: 3.619, coverage: 104\n",
      "Compound dist entropy: 12.479, coverage: 717125\n",
      "Average size: 41.067\n"
     ]
    }
   ],
   "source": [
    "mcxatom, mcxcomp, mcxsize = print_stats(mcx)\n",
    "#print(mcxsize.compute_chernoff_coeff(smoothendist(mcxsize), smoothendist(allsizedist)))"
   ]
  },
  {
   "cell_type": "code",
   "execution_count": 31,
   "metadata": {
    "pycharm": {
     "name": "#%%\n"
    }
   },
   "outputs": [
    {
     "name": "stderr",
     "output_type": "stream",
     "text": [
      "100%|██████████████████████████████████████████████████████████████████████████| 20000/20000 [00:02<00:00, 7554.02it/s]\n",
      "100%|███████████████████████████████████████████████████████████████████████████| 20000/20000 [00:39<00:00, 506.57it/s]\n",
      "100%|█████████████████████████████████████████████████████████████████████████| 20000/20000 [00:00<00:00, 67324.90it/s]\n"
     ]
    },
    {
     "name": "stdout",
     "output_type": "stream",
     "text": [
      "Number of examples: 20000\n",
      "Atom dist entropy: 3.606, coverage: 104\n",
      "Compound dist entropy: 12.595, coverage: 1012848\n",
      "Average size: 39.350\n"
     ]
    },
    {
     "ename": "NameError",
     "evalue": "name 'allsizedist' is not defined",
     "output_type": "error",
     "traceback": [
      "\u001b[1;31m---------------------------------------------------------------------------\u001b[0m",
      "\u001b[1;31mNameError\u001b[0m                                 Traceback (most recent call last)",
      "\u001b[1;32m~\\AppData\\Local\\Temp\\ipykernel_24692\\342968158.py\u001b[0m in \u001b[0;36m<module>\u001b[1;34m\u001b[0m\n\u001b[0;32m      1\u001b[0m \u001b[0mmcxatom\u001b[0m\u001b[1;33m,\u001b[0m \u001b[0mmcxcomp\u001b[0m\u001b[1;33m,\u001b[0m \u001b[0mmcxsize\u001b[0m \u001b[1;33m=\u001b[0m \u001b[0mprint_stats\u001b[0m\u001b[1;33m(\u001b[0m\u001b[0mmcx\u001b[0m\u001b[1;33m)\u001b[0m\u001b[1;33m\u001b[0m\u001b[1;33m\u001b[0m\u001b[0m\n\u001b[1;32m----> 2\u001b[1;33m \u001b[0mprint\u001b[0m\u001b[1;33m(\u001b[0m\u001b[0mrandsize\u001b[0m\u001b[1;33m.\u001b[0m\u001b[0mcompute_chernoff_coeff\u001b[0m\u001b[1;33m(\u001b[0m\u001b[0msmoothendist\u001b[0m\u001b[1;33m(\u001b[0m\u001b[0mmcxsize\u001b[0m\u001b[1;33m)\u001b[0m\u001b[1;33m,\u001b[0m \u001b[0msmoothendist\u001b[0m\u001b[1;33m(\u001b[0m\u001b[0mallsizedist\u001b[0m\u001b[1;33m)\u001b[0m\u001b[1;33m)\u001b[0m\u001b[1;33m)\u001b[0m\u001b[1;33m\u001b[0m\u001b[1;33m\u001b[0m\u001b[0m\n\u001b[0m",
      "\u001b[1;32m~\\AppData\\Local\\Temp\\ipykernel_24692\\2819707365.py\u001b[0m in \u001b[0;36msmoothendist\u001b[1;34m(dist, perc)\u001b[0m\n\u001b[0;32m      1\u001b[0m \u001b[1;32mdef\u001b[0m \u001b[0msmoothendist\u001b[0m\u001b[1;33m(\u001b[0m\u001b[0mdist\u001b[0m\u001b[1;33m,\u001b[0m \u001b[0mperc\u001b[0m\u001b[1;33m=\u001b[0m\u001b[1;36m0.05\u001b[0m\u001b[1;33m)\u001b[0m\u001b[1;33m:\u001b[0m\u001b[1;33m\u001b[0m\u001b[1;33m\u001b[0m\u001b[0m\n\u001b[0;32m      2\u001b[0m     \u001b[0mfd\u001b[0m \u001b[1;33m=\u001b[0m \u001b[0mFrequencyDistribution\u001b[0m\u001b[1;33m(\u001b[0m\u001b[1;33m)\u001b[0m\u001b[1;33m\u001b[0m\u001b[1;33m\u001b[0m\u001b[0m\n\u001b[1;32m----> 3\u001b[1;33m     \u001b[0msortedkeys\u001b[0m \u001b[1;33m=\u001b[0m \u001b[0msorted\u001b[0m\u001b[1;33m(\u001b[0m\u001b[0mallsizedist\u001b[0m\u001b[1;33m.\u001b[0m\u001b[0mkeys\u001b[0m\u001b[1;33m(\u001b[0m\u001b[1;33m)\u001b[0m\u001b[1;33m)\u001b[0m\u001b[1;33m\u001b[0m\u001b[1;33m\u001b[0m\u001b[0m\n\u001b[0m\u001b[0;32m      4\u001b[0m     \u001b[1;32mfor\u001b[0m \u001b[0mi\u001b[0m\u001b[1;33m,\u001b[0m \u001b[0mk\u001b[0m \u001b[1;32min\u001b[0m \u001b[0menumerate\u001b[0m\u001b[1;33m(\u001b[0m\u001b[0msortedkeys\u001b[0m\u001b[1;33m)\u001b[0m\u001b[1;33m:\u001b[0m\u001b[1;33m\u001b[0m\u001b[1;33m\u001b[0m\u001b[0m\n\u001b[0;32m      5\u001b[0m         \u001b[0mj\u001b[0m \u001b[1;33m=\u001b[0m \u001b[1;36m1\u001b[0m\u001b[1;33m\u001b[0m\u001b[1;33m\u001b[0m\u001b[0m\n",
      "\u001b[1;31mNameError\u001b[0m: name 'allsizedist' is not defined"
     ]
    }
   ],
   "source": [
    "mcxatom, mcxcomp, mcxsize = print_stats(mcx)\n",
    "print(randsize.compute_chernoff_coeff(smoothendist(mcxsize), smoothendist(allsizedist)))"
   ]
  },
  {
   "cell_type": "code",
   "execution_count": 35,
   "metadata": {
    "pycharm": {
     "name": "#%%\n"
    }
   },
   "outputs": [],
   "source": [
    "random.shuffle(allexamples)\n",
    "mcx_random = allexamples[:NN]"
   ]
  },
  {
   "cell_type": "code",
   "execution_count": 36,
   "metadata": {
    "pycharm": {
     "name": "#%%\n"
    }
   },
   "outputs": [
    {
     "name": "stderr",
     "output_type": "stream",
     "text": [
      "100%|██████████████████████████████████████████████████████████████████████████| 10000/10000 [00:01<00:00, 8566.96it/s]\n",
      "100%|███████████████████████████████████████████████████████████████████████████| 10000/10000 [00:10<00:00, 913.51it/s]\n",
      "100%|█████████████████████████████████████████████████████████████████████████| 10000/10000 [00:00<00:00, 84014.45it/s]\n"
     ]
    },
    {
     "name": "stdout",
     "output_type": "stream",
     "text": [
      "Number of examples: 10000\n",
      "Atom dist entropy: 3.467, coverage: 103\n",
      "Compound dist entropy: 11.352, coverage: 284365\n",
      "Average size: 32.085\n"
     ]
    },
    {
     "ename": "NameError",
     "evalue": "name 'allsizedist' is not defined",
     "output_type": "error",
     "traceback": [
      "\u001b[1;31m---------------------------------------------------------------------------\u001b[0m",
      "\u001b[1;31mNameError\u001b[0m                                 Traceback (most recent call last)",
      "\u001b[1;32m~\\AppData\\Local\\Temp\\ipykernel_24692\\170246328.py\u001b[0m in \u001b[0;36m<module>\u001b[1;34m\u001b[0m\n\u001b[0;32m      1\u001b[0m \u001b[0mrandatom\u001b[0m\u001b[1;33m,\u001b[0m \u001b[0mrandcomp\u001b[0m\u001b[1;33m,\u001b[0m \u001b[0mrandsize\u001b[0m \u001b[1;33m=\u001b[0m \u001b[0mprint_stats\u001b[0m\u001b[1;33m(\u001b[0m\u001b[0mmcx_random\u001b[0m\u001b[1;33m)\u001b[0m\u001b[1;33m\u001b[0m\u001b[1;33m\u001b[0m\u001b[0m\n\u001b[1;32m----> 2\u001b[1;33m \u001b[0mprint\u001b[0m\u001b[1;33m(\u001b[0m\u001b[0mrandsize\u001b[0m\u001b[1;33m.\u001b[0m\u001b[0mcompute_chernoff_coeff\u001b[0m\u001b[1;33m(\u001b[0m\u001b[0msmoothendist\u001b[0m\u001b[1;33m(\u001b[0m\u001b[0mrandsize\u001b[0m\u001b[1;33m)\u001b[0m\u001b[1;33m,\u001b[0m \u001b[0msmoothendist\u001b[0m\u001b[1;33m(\u001b[0m\u001b[0mallsizedist\u001b[0m\u001b[1;33m)\u001b[0m\u001b[1;33m)\u001b[0m\u001b[1;33m)\u001b[0m\u001b[1;33m\u001b[0m\u001b[1;33m\u001b[0m\u001b[0m\n\u001b[0m",
      "\u001b[1;32m~\\AppData\\Local\\Temp\\ipykernel_24692\\2819707365.py\u001b[0m in \u001b[0;36msmoothendist\u001b[1;34m(dist, perc)\u001b[0m\n\u001b[0;32m      1\u001b[0m \u001b[1;32mdef\u001b[0m \u001b[0msmoothendist\u001b[0m\u001b[1;33m(\u001b[0m\u001b[0mdist\u001b[0m\u001b[1;33m,\u001b[0m \u001b[0mperc\u001b[0m\u001b[1;33m=\u001b[0m\u001b[1;36m0.05\u001b[0m\u001b[1;33m)\u001b[0m\u001b[1;33m:\u001b[0m\u001b[1;33m\u001b[0m\u001b[1;33m\u001b[0m\u001b[0m\n\u001b[0;32m      2\u001b[0m     \u001b[0mfd\u001b[0m \u001b[1;33m=\u001b[0m \u001b[0mFrequencyDistribution\u001b[0m\u001b[1;33m(\u001b[0m\u001b[1;33m)\u001b[0m\u001b[1;33m\u001b[0m\u001b[1;33m\u001b[0m\u001b[0m\n\u001b[1;32m----> 3\u001b[1;33m     \u001b[0msortedkeys\u001b[0m \u001b[1;33m=\u001b[0m \u001b[0msorted\u001b[0m\u001b[1;33m(\u001b[0m\u001b[0mallsizedist\u001b[0m\u001b[1;33m.\u001b[0m\u001b[0mkeys\u001b[0m\u001b[1;33m(\u001b[0m\u001b[1;33m)\u001b[0m\u001b[1;33m)\u001b[0m\u001b[1;33m\u001b[0m\u001b[1;33m\u001b[0m\u001b[0m\n\u001b[0m\u001b[0;32m      4\u001b[0m     \u001b[1;32mfor\u001b[0m \u001b[0mi\u001b[0m\u001b[1;33m,\u001b[0m \u001b[0mk\u001b[0m \u001b[1;32min\u001b[0m \u001b[0menumerate\u001b[0m\u001b[1;33m(\u001b[0m\u001b[0msortedkeys\u001b[0m\u001b[1;33m)\u001b[0m\u001b[1;33m:\u001b[0m\u001b[1;33m\u001b[0m\u001b[1;33m\u001b[0m\u001b[0m\n\u001b[0;32m      5\u001b[0m         \u001b[0mj\u001b[0m \u001b[1;33m=\u001b[0m \u001b[1;36m1\u001b[0m\u001b[1;33m\u001b[0m\u001b[1;33m\u001b[0m\u001b[0m\n",
      "\u001b[1;31mNameError\u001b[0m: name 'allsizedist' is not defined"
     ]
    }
   ],
   "source": [
    "randatom, randcomp, randsize = print_stats(mcx_random)\n",
    "print(randsize.compute_chernoff_coeff(smoothendist(randsize), smoothendist(allsizedist)))"
   ]
  },
  {
   "cell_type": "code",
   "execution_count": null,
   "metadata": {
    "pycharm": {
     "name": "#%%\n"
    }
   },
   "outputs": [],
   "source": [
    "for k in sorted(allsizedist.keys()):\n",
    "    print(f\"{k} {allsizedist(k):.5f} - {randsize(k):.5f} - {mcxsize(k):.5f}\")"
   ]
  },
  {
   "cell_type": "code",
   "execution_count": null,
   "metadata": {
    "pycharm": {
     "name": "#%%\n"
    }
   },
   "outputs": [],
   "source": []
  }
 ],
 "metadata": {
  "kernelspec": {
   "display_name": "Python 3 (ipykernel)",
   "language": "python",
   "name": "python3"
  },
  "language_info": {
   "codemirror_mode": {
    "name": "ipython",
    "version": 3
   },
   "file_extension": ".py",
   "mimetype": "text/x-python",
   "name": "python",
   "nbconvert_exporter": "python",
   "pygments_lexer": "ipython3",
   "version": "3.9.7"
  }
 },
 "nbformat": 4,
 "nbformat_minor": 1
}
