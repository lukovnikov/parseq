{
 "cells": [
  {
   "cell_type": "code",
   "execution_count": 1,
   "metadata": {
    "pycharm": {
     "name": "#%%\n"
    }
   },
   "outputs": [],
   "source": [
    "%load_ext autoreload\n",
    "%autoreload 2"
   ]
  },
  {
   "cell_type": "code",
   "execution_count": null,
   "metadata": {
    "pycharm": {
     "name": "#%%\n"
    }
   },
   "outputs": [],
   "source": []
  },
  {
   "cell_type": "code",
   "execution_count": 2,
   "metadata": {
    "pycharm": {
     "name": "#%%\n"
    }
   },
   "outputs": [],
   "source": [
    "import json, math, random\n",
    "from typing import List, Tuple\n",
    "from nltk import Tree\n",
    "from tqdm import tqdm\n",
    "import numpy as np\n",
    "from parseq.datasets import CFQDatasetLoader\n",
    "from parseq.grammar import taglisp_to_tree, tree_size\n",
    "from parseq.scripts_resplit.resplit_cfq import DivergenceComputer, FrequencyDistribution"
   ]
  },
  {
   "cell_type": "code",
   "execution_count": 3,
   "metadata": {
    "pycharm": {
     "name": "#%%\n"
    }
   },
   "outputs": [
    {
     "name": "stdout",
     "output_type": "stream",
     "text": [
      "CFQDatasetLoader: make data\n",
      "CFQDatasetLoader: make data                                                                                  T: 0.0 sec\n",
      "loading split 'mcd1'\n",
      "doing 'train'\n"
     ]
    },
    {
     "name": "stderr",
     "output_type": "stream",
     "text": [
      "100%|██████████████████████████████████████████████████████████████████████████| 95743/95743 [00:22<00:00, 4296.82it/s]\n"
     ]
    },
    {
     "name": "stdout",
     "output_type": "stream",
     "text": [
      "doing 'test'\n"
     ]
    },
    {
     "name": "stderr",
     "output_type": "stream",
     "text": [
      "100%|██████████████████████████████████████████████████████████████████████████| 11968/11968 [00:03<00:00, 3657.90it/s]\n"
     ]
    },
    {
     "name": "stdout",
     "output_type": "stream",
     "text": [
      "doing 'oodvalid'\n"
     ]
    },
    {
     "name": "stderr",
     "output_type": "stream",
     "text": [
      "100%|██████████████████████████████████████████████████████████████████████████| 11968/11968 [00:03<00:00, 3633.56it/s]\n"
     ]
    },
    {
     "name": "stdout",
     "output_type": "stream",
     "text": [
      "doing 'unused'\n"
     ]
    },
    {
     "name": "stderr",
     "output_type": "stream",
     "text": [
      "100%|████████████████████████████████████████████████████████████████████████| 119678/119678 [00:32<00:00, 3716.37it/s]\n"
     ]
    }
   ],
   "source": [
    "# load cfq, including unused examples\n",
    "ds = CFQDatasetLoader().load(\"mcd1/modent\", validfrac=0, loadunused=True, keepids=True)"
   ]
  },
  {
   "cell_type": "code",
   "execution_count": 4,
   "metadata": {
    "pycharm": {
     "name": "#%%\n"
    }
   },
   "outputs": [
    {
     "name": "stderr",
     "output_type": "stream",
     "text": [
      "100%|████████████████████████████████████████████████████████████████████████| 239357/239357 [00:31<00:00, 7607.74it/s]\n"
     ]
    }
   ],
   "source": [
    "# load all examples from all splits into a single list while removing previous split information\n",
    "allexamples = [(x[0], x[1], taglisp_to_tree(x[2])) for x in tqdm(ds)]"
   ]
  },
  {
   "cell_type": "code",
   "execution_count": 5,
   "metadata": {
    "pycharm": {
     "name": "#%%\n"
    }
   },
   "outputs": [],
   "source": [
    "# compute all present compounds\n",
    "def print_stats(xs):\n",
    "    \"\"\" Input is list of examples of the form (id, nl, fltree) \"\"\"\n",
    "    dc = DivergenceComputer()\n",
    "    atomdist = dc.compute_atom_distribution(xs)\n",
    "    compdist = dc.compute_compound_distribution(xs)\n",
    "    sizedist = dc.compute_size_distribution(xs)\n",
    "    print(f\"Number of examples: {len(xs)}\")\n",
    "    print(f\"Atom dist entropy: {atomdist.entropy():.3f}, coverage: {len(atomdist)}\")\n",
    "    print(f\"Compound dist entropy: {compdist.entropy():.3f}, coverage: {len(compdist)}\")\n",
    "    print(f\"Average size: {sizedist.average():.3f}\")\n",
    "    return atomdist, compdist, sizedist"
   ]
  },
  {
   "cell_type": "code",
   "execution_count": 17,
   "metadata": {
    "pycharm": {
     "name": "#%%\n"
    }
   },
   "outputs": [
    {
     "name": "stderr",
     "output_type": "stream",
     "text": [
      "100%|████████████████████████████████████████████████████████████████████████| 239357/239357 [00:28<00:00, 8350.88it/s]\n",
      "100%|█████████████████████████████████████████████████████████████████████████| 239357/239357 [04:12<00:00, 949.13it/s]\n",
      "100%|███████████████████████████████████████████████████████████████████████| 239357/239357 [00:02<00:00, 87849.78it/s]\n"
     ]
    },
    {
     "name": "stdout",
     "output_type": "stream",
     "text": [
      "Number of examples: 239357\n",
      "Atom dist entropy: 3.465, coverage: 104\n",
      "Compound dist entropy: 11.777, coverage: 1624133\n",
      "Average size: 31.919\n"
     ]
    }
   ],
   "source": [
    "allatomdist, allcompdist, allsizedist = print_stats(allexamples)"
   ]
  },
  {
   "cell_type": "code",
   "execution_count": 6,
   "metadata": {
    "pycharm": {
     "name": "#%%\n"
    }
   },
   "outputs": [],
   "source": [
    "# get a set of examples that do not share any compounds\n",
    "def get_disjoint_examples(xs, dc=None):\n",
    "    dc = DivergenceComputer() if dc is None else dc\n",
    "    selected = []\n",
    "    remaining = []\n",
    "    presentcompounds = set()\n",
    "    coveredfc = FrequencyDistribution()\n",
    "    for example in tqdm(xs):\n",
    "        add = True\n",
    "        tree = example[1]\n",
    "        comps = dc.extract_compounds(tree)\n",
    "        if len(set(comps) & presentcompounds) == 0:\n",
    "            selected.append(example)\n",
    "            presentcompounds |= set(comps)\n",
    "            for comp in comps:\n",
    "                coveredfc[comp] += 1\n",
    "        else:\n",
    "            remaining.append(example)\n",
    "    return selected"
   ]
  },
  {
   "cell_type": "code",
   "execution_count": 7,
   "metadata": {
    "pycharm": {
     "name": "#%%\n"
    }
   },
   "outputs": [],
   "source": [
    "def get_covering_examples(xs, dc=None):\n",
    "    dc = DivergenceComputer() if dc is None else dc\n",
    "    selected = []\n",
    "    presentcompounds = set()\n",
    "    coveredfc = FrequencyDistribution()\n",
    "    for example in tqdm(xs):\n",
    "        add = True\n",
    "        tree = example[1]\n",
    "        comps = dc.extract_compounds(tree)\n",
    "        if len(set(comps) - presentcompounds) > 0:\n",
    "            selected.append(example)\n",
    "            presentcompounds |= set(comps)\n",
    "            for comp in comps:\n",
    "                coveredfc[comp] += 1\n",
    "    return selected"
   ]
  },
  {
   "cell_type": "code",
   "execution_count": 8,
   "metadata": {
    "pycharm": {
     "name": "#%%\n"
    }
   },
   "outputs": [],
   "source": [
    "if False:\n",
    "    dx = get_disjoint_examples(allexamples)\n",
    "    cx = get_covering_examples(allexamples)"
   ]
  },
  {
   "cell_type": "code",
   "execution_count": 9,
   "metadata": {
    "pycharm": {
     "name": "#%%\n"
    }
   },
   "outputs": [],
   "source": [
    "def smoothendist(dist, perc=0.05):\n",
    "    fd = FrequencyDistribution()\n",
    "    sortedkeys = sorted(allsizedist.keys())\n",
    "    for i, k in enumerate(sortedkeys):\n",
    "        j = 1\n",
    "        acc = dist(k)\n",
    "        div = 1\n",
    "        while True:\n",
    "            if i-j >= 0:\n",
    "                acc += dist(sortedkeys[i-j])\n",
    "                div += 1\n",
    "            if i+j < len(sortedkeys):\n",
    "                acc += dist(sortedkeys[i+j])\n",
    "                div += 1\n",
    "            j += 1\n",
    "            if acc >= perc:\n",
    "                break\n",
    "        fd[k] = acc/div\n",
    "    return fd"
   ]
  },
  {
   "cell_type": "code",
   "execution_count": 14,
   "metadata": {
    "pycharm": {
     "name": "#%%\n"
    }
   },
   "outputs": [],
   "source": [
    "def compute_overlap(dist, comps):  # how many of the compounds have already been observed?\n",
    "    overlap = 0\n",
    "    unoverlap = 0\n",
    "    total = 0\n",
    "    for comp in comps:\n",
    "        if comp in dist and dist[comp] > 0:\n",
    "            overlap += 1\n",
    "        else:\n",
    "            unoverlap += 1\n",
    "        total += 1\n",
    "    return overlap / total, unoverlap / total\n",
    "\n",
    "\n",
    "def get_minimal_covering_examples(xs, dc=None, N=10000, step=2000, cache=None, targetsizedist=None):\n",
    "    retcache = cache is True\n",
    "    \n",
    "    dc = DivergenceComputer() if dc is None else dc\n",
    "    \n",
    "    # find all compounds and build cache\n",
    "    if cache is None or cache is True or cache is False:\n",
    "        print(\"building compound cache\")\n",
    "        cache = {}\n",
    "        compounds = {}\n",
    "        lastid = 0\n",
    "        for example in tqdm(xs):\n",
    "            tree = example[2]\n",
    "            comps = dc.extract_compounds(tree)\n",
    "            cache[str(tree)] = []\n",
    "            cacheline = []\n",
    "            for comp in comps:\n",
    "                if comp not in compounds:\n",
    "                    compounds[comp] = lastid + 1\n",
    "                    lastid += 1\n",
    "                cacheline.append(compounds[comp])\n",
    "            cache[str(tree)] = cacheline\n",
    "    #             cache[str(tree)].append(compounds[comp])\n",
    "            \n",
    "        print(\"built cache\")\n",
    "            \n",
    "    print(\"randomly selecting initial examples\")\n",
    "    random.shuffle(xs)\n",
    "    NUMINIT = 200\n",
    "    selected = xs[:NUMINIT]\n",
    "    remaining = xs[NUMINIT:]\n",
    "    dxdist = FrequencyDistribution()\n",
    "    sizedist = FrequencyDistribution()\n",
    "    \n",
    "    for example in selected:\n",
    "        tree = example[2]\n",
    "        comps = cache[str(tree)]\n",
    "        for comp in comps:\n",
    "            dxdist[comp] += 1\n",
    "        sizedist[tree_size(tree)] += 1\n",
    "\n",
    "    dx, remaining = selected, remaining\n",
    "    # go over all examples and compute their overlaps with dxdist\n",
    "    print(f\"randomly chosen {len(dx)} examples\")\n",
    "    \n",
    "#     print(\"finding disjoint examples\")\n",
    "#     random.shuffle(xs)\n",
    "#     selected = []\n",
    "#     remaining = []\n",
    "#     presentcompounds = set()\n",
    "#     dxdist = FrequencyDistribution()\n",
    "#     sizedist = FrequencyDistribution()\n",
    "    \n",
    "#     for example in tqdm(xs):\n",
    "#         add = True\n",
    "#         tree = example[2]\n",
    "#         comps = cache[str(tree)]\n",
    "#         if len(set(comps) & presentcompounds) == 0:\n",
    "#             selected.append(example)\n",
    "#             presentcompounds |= set(comps)\n",
    "#             for comp in comps:\n",
    "#                 dxdist[comp] += 1\n",
    "#             sizedist[tree_size(tree)] += 1\n",
    "#         else:\n",
    "#             remaining.append(example)\n",
    "\n",
    "#     dx, remaining = selected, remaining\n",
    "#     # go over all examples and compute their overlaps with dxdist\n",
    "#     print(f\"found {len(dx)} disjoint examples\")\n",
    "    \n",
    "    if targetsizedist is not None:\n",
    "        targetsizedist = smoothendist(targetsizedist)\n",
    "    \n",
    "    print(\"iterating\")\n",
    "    iternr = 1\n",
    "    while True:\n",
    "        print(f\"iter {iternr}\")\n",
    "        iternr += 1\n",
    "        overlaps = []\n",
    "        unoverlaps = []\n",
    "        tsizes = []\n",
    "        for x in tqdm(remaining):\n",
    "            comps = cache[str(x[2])]\n",
    "            tsizes.append(tree_size(x[2]))\n",
    "            overlap, unoverlap = compute_overlap(dxdist, comps)\n",
    "            overlaps.append(overlap)\n",
    "            unoverlaps.append(unoverlap)\n",
    "        \n",
    "        # sort by overlap and select N best that overlap least\n",
    "        tosort = zip(remaining, overlaps, unoverlaps, tsizes)\n",
    "        remainingsorted = sorted(tosort, key=lambda x: -x[2])  # small overlap first\n",
    "        print(f\"Top overlap: {remainingsorted[0][1]}, bottom overlap: {remainingsorted[-1][1]}\")\n",
    "        numberwithlargestoverlap = 0\n",
    "        numberwithhalfoverlap = 0\n",
    "        for (i, x) in enumerate(remainingsorted[::-1]):\n",
    "            overlap = x[1]\n",
    "            if overlap >= 0.8:\n",
    "                numberwithlargestoverlap += 1\n",
    "            if overlap >= 0.5:\n",
    "                numberwithhalfoverlap += 1\n",
    "        print(f\"Number of high overlap: {numberwithlargestoverlap} and half overlap: {numberwithhalfoverlap}\")\n",
    "        #remainingsorted = [x[0] for x in remainingsorted]\n",
    "        _step = min(step, len(remainingsorted))\n",
    "        if targetsizedist is None:\n",
    "            selected, remaining = remainingsorted[:_step], remainingsorted[_step:]\n",
    "        else:\n",
    "            selected, remaining = [], []\n",
    "            smoothsizedist = smoothendist(sizedist)\n",
    "            for i, x in enumerate(remainingsorted):\n",
    "                xsize = x[-1]\n",
    "                if smoothsizedist[xsize] < targetsizedist[xsize]:\n",
    "                    selected.append(x)\n",
    "                    sizedist[xsize] += 1\n",
    "                    smoothsizedist = smoothendist(sizedist)\n",
    "                else:\n",
    "                    remaining.append(x)\n",
    "                if len(selected) >= step:\n",
    "                    remaining += remainingsorted[i+1:]\n",
    "                    break\n",
    "            assert(len(selected) + len(remaining) == len(remainingsorted))\n",
    "            \n",
    "        for x, xoverlap, xunoverlap, xsize in selected:\n",
    "            for comp in cache[str(x[2])]:\n",
    "                dxdist[comp] += 1\n",
    "        dx = dx + [x[0] for x in selected]\n",
    "        remaining = [x[0] for x in remaining]\n",
    "        \n",
    "        if len(dx) >= N:\n",
    "            dx = dx[:N]\n",
    "            remaining = remaining + dx[N:]\n",
    "            for x in dx[N:]:\n",
    "                for comp in cache[str(x[2])]:\n",
    "                    dxdist[comp] -= 1\n",
    "                if dxdist[comp] <= 0:\n",
    "                    del dxdist[comp]\n",
    "            break\n",
    "        \n",
    "        print(f\"Number of selected examples: {len(dx)}, number of covered compounds: {len(dxdist)}\")\n",
    "    \n",
    "    if retcache is True:\n",
    "        return dx, remaining, dxdist, cache\n",
    "    else:\n",
    "        return dx, remaining, dxdist"
   ]
  },
  {
   "cell_type": "code",
   "execution_count": 15,
   "metadata": {
    "pycharm": {
     "name": "#%%\n"
    }
   },
   "outputs": [],
   "source": [
    "NN = 50000"
   ]
  },
  {
   "cell_type": "code",
   "execution_count": 16,
   "metadata": {
    "pycharm": {
     "name": "#%%\n"
    }
   },
   "outputs": [
    {
     "name": "stdout",
     "output_type": "stream",
     "text": [
      "building compound cache\n"
     ]
    },
    {
     "name": "stderr",
     "output_type": "stream",
     "text": [
      "100%|█████████████████████████████████████████████████████████████████████████| 239357/239357 [05:02<00:00, 792.40it/s]\n"
     ]
    },
    {
     "name": "stdout",
     "output_type": "stream",
     "text": [
      "built cache\n",
      "randomly selecting initial examples\n",
      "randomly chosen 200 examples\n",
      "iterating\n",
      "iter 1\n"
     ]
    },
    {
     "name": "stderr",
     "output_type": "stream",
     "text": [
      "100%|████████████████████████████████████████████████████████████████████████| 239157/239157 [00:33<00:00, 7122.49it/s]\n"
     ]
    },
    {
     "name": "stdout",
     "output_type": "stream",
     "text": [
      "Top overlap: 0.0008628127696289905, bottom overlap: 1.0\n",
      "Number of high overlap: 11674 and half overlap: 64337\n",
      "Number of selected examples: 5200, number of covered compounds: 190894\n",
      "iter 2\n"
     ]
    },
    {
     "name": "stderr",
     "output_type": "stream",
     "text": [
      "100%|████████████████████████████████████████████████████████████████████████| 234157/234157 [00:32<00:00, 7197.66it/s]\n"
     ]
    },
    {
     "name": "stdout",
     "output_type": "stream",
     "text": [
      "Top overlap: 0.03691275167785235, bottom overlap: 1.0\n",
      "Number of high overlap: 25647 and half overlap: 103267\n",
      "Number of selected examples: 10200, number of covered compounds: 545602\n",
      "iter 3\n"
     ]
    },
    {
     "name": "stderr",
     "output_type": "stream",
     "text": [
      "100%|████████████████████████████████████████████████████████████████████████| 229157/229157 [00:32<00:00, 7141.28it/s]\n"
     ]
    },
    {
     "name": "stdout",
     "output_type": "stream",
     "text": [
      "Top overlap: 0.17391304347826086, bottom overlap: 1.0\n",
      "Number of high overlap: 88172 and half overlap: 210547\n",
      "Number of selected examples: 15200, number of covered compounds: 756309\n",
      "iter 4\n"
     ]
    },
    {
     "name": "stderr",
     "output_type": "stream",
     "text": [
      "100%|████████████████████████████████████████████████████████████████████████| 224157/224157 [00:30<00:00, 7245.30it/s]\n"
     ]
    },
    {
     "name": "stdout",
     "output_type": "stream",
     "text": [
      "Top overlap: 0.41304347826086957, bottom overlap: 1.0\n",
      "Number of high overlap: 130271 and half overlap: 223167\n",
      "Number of selected examples: 20200, number of covered compounds: 937802\n",
      "iter 5\n"
     ]
    },
    {
     "name": "stderr",
     "output_type": "stream",
     "text": [
      "100%|████████████████████████████████████████████████████████████████████████| 219157/219157 [00:30<00:00, 7215.34it/s]\n"
     ]
    },
    {
     "name": "stdout",
     "output_type": "stream",
     "text": [
      "Top overlap: 0.5658914728682171, bottom overlap: 1.0\n",
      "Number of high overlap: 171764 and half overlap: 219157\n",
      "Number of selected examples: 25200, number of covered compounds: 1061439\n",
      "iter 6\n"
     ]
    },
    {
     "name": "stderr",
     "output_type": "stream",
     "text": [
      "100%|████████████████████████████████████████████████████████████████████████| 214157/214157 [00:29<00:00, 7176.02it/s]\n"
     ]
    },
    {
     "name": "stdout",
     "output_type": "stream",
     "text": [
      "Top overlap: 0.6666666666666666, bottom overlap: 1.0\n",
      "Number of high overlap: 191298 and half overlap: 214157\n",
      "Number of selected examples: 30200, number of covered compounds: 1168540\n",
      "iter 7\n"
     ]
    },
    {
     "name": "stderr",
     "output_type": "stream",
     "text": [
      "100%|████████████████████████████████████████████████████████████████████████| 209157/209157 [00:29<00:00, 7182.50it/s]\n"
     ]
    },
    {
     "name": "stdout",
     "output_type": "stream",
     "text": [
      "Top overlap: 0.7317073170731707, bottom overlap: 1.0\n",
      "Number of high overlap: 201130 and half overlap: 209157\n",
      "Number of selected examples: 35200, number of covered compounds: 1266091\n",
      "iter 8\n"
     ]
    },
    {
     "name": "stderr",
     "output_type": "stream",
     "text": [
      "100%|████████████████████████████████████████████████████████████████████████| 204157/204157 [00:28<00:00, 7203.76it/s]\n"
     ]
    },
    {
     "name": "stdout",
     "output_type": "stream",
     "text": [
      "Top overlap: 0.7857142857142857, bottom overlap: 1.0\n",
      "Number of high overlap: 202975 and half overlap: 204157\n",
      "Number of selected examples: 40200, number of covered compounds: 1333300\n",
      "iter 9\n"
     ]
    },
    {
     "name": "stderr",
     "output_type": "stream",
     "text": [
      "100%|████████████████████████████████████████████████████████████████████████| 199157/199157 [00:27<00:00, 7216.44it/s]\n"
     ]
    },
    {
     "name": "stdout",
     "output_type": "stream",
     "text": [
      "Top overlap: 0.8253968253968254, bottom overlap: 1.0\n",
      "Number of high overlap: 199157 and half overlap: 199157\n",
      "Number of selected examples: 45200, number of covered compounds: 1388417\n",
      "iter 10\n"
     ]
    },
    {
     "name": "stderr",
     "output_type": "stream",
     "text": [
      "100%|████████████████████████████████████████████████████████████████████████| 194157/194157 [00:26<00:00, 7209.80it/s]\n"
     ]
    },
    {
     "name": "stdout",
     "output_type": "stream",
     "text": [
      "Top overlap: 0.8536585365853658, bottom overlap: 1.0\n",
      "Number of high overlap: 194157 and half overlap: 194157\n"
     ]
    }
   ],
   "source": [
    "if \"cache\" not in locals() or cache is None:\n",
    "    mcx, _, mcxdist, cache = get_minimal_covering_examples(allexamples, N=NN, step=NN//10, cache=True)\n",
    "else:\n",
    "    mcx, _, mcxdist = get_minimal_covering_examples(allexamples, N=NN, step=NN//10, cache=cache)  # , targetsizedist=allsizedist)"
   ]
  },
  {
   "cell_type": "code",
   "execution_count": 17,
   "metadata": {
    "pycharm": {
     "name": "#%%\n"
    }
   },
   "outputs": [
    {
     "name": "stderr",
     "output_type": "stream",
     "text": [
      "100%|██████████████████████████████████████████████████████████████████████████| 50000/50000 [00:06<00:00, 7914.78it/s]\n",
      "100%|███████████████████████████████████████████████████████████████████████████| 50000/50000 [01:24<00:00, 593.57it/s]\n",
      "100%|█████████████████████████████████████████████████████████████████████████| 50000/50000 [00:00<00:00, 73859.92it/s]\n"
     ]
    },
    {
     "name": "stdout",
     "output_type": "stream",
     "text": [
      "Number of examples: 50000\n",
      "Atom dist entropy: 3.579, coverage: 104\n",
      "Compound dist entropy: 12.700, coverage: 1434356\n",
      "Average size: 36.565\n"
     ]
    },
    {
     "ename": "NameError",
     "evalue": "name 'randsize' is not defined",
     "output_type": "error",
     "traceback": [
      "\u001b[1;31m---------------------------------------------------------------------------\u001b[0m",
      "\u001b[1;31mNameError\u001b[0m                                 Traceback (most recent call last)",
      "\u001b[1;32m~\\AppData\\Local\\Temp\\ipykernel_24692\\342968158.py\u001b[0m in \u001b[0;36m<module>\u001b[1;34m\u001b[0m\n\u001b[0;32m      1\u001b[0m \u001b[0mmcxatom\u001b[0m\u001b[1;33m,\u001b[0m \u001b[0mmcxcomp\u001b[0m\u001b[1;33m,\u001b[0m \u001b[0mmcxsize\u001b[0m \u001b[1;33m=\u001b[0m \u001b[0mprint_stats\u001b[0m\u001b[1;33m(\u001b[0m\u001b[0mmcx\u001b[0m\u001b[1;33m)\u001b[0m\u001b[1;33m\u001b[0m\u001b[1;33m\u001b[0m\u001b[0m\n\u001b[1;32m----> 2\u001b[1;33m \u001b[0mprint\u001b[0m\u001b[1;33m(\u001b[0m\u001b[0mrandsize\u001b[0m\u001b[1;33m.\u001b[0m\u001b[0mcompute_chernoff_coeff\u001b[0m\u001b[1;33m(\u001b[0m\u001b[0msmoothendist\u001b[0m\u001b[1;33m(\u001b[0m\u001b[0mmcxsize\u001b[0m\u001b[1;33m)\u001b[0m\u001b[1;33m,\u001b[0m \u001b[0msmoothendist\u001b[0m\u001b[1;33m(\u001b[0m\u001b[0mallsizedist\u001b[0m\u001b[1;33m)\u001b[0m\u001b[1;33m)\u001b[0m\u001b[1;33m)\u001b[0m\u001b[1;33m\u001b[0m\u001b[1;33m\u001b[0m\u001b[0m\n\u001b[0m",
      "\u001b[1;31mNameError\u001b[0m: name 'randsize' is not defined"
     ]
    }
   ],
   "source": [
    "mcxatom, mcxcomp, mcxsize = print_stats(mcx)\n",
    "print(randsize.compute_chernoff_coeff(smoothendist(mcxsize), smoothendist(allsizedist)))"
   ]
  },
  {
   "cell_type": "code",
   "execution_count": null,
   "metadata": {
    "pycharm": {
     "name": "#%%\n"
    }
   },
   "outputs": [],
   "source": [
    "mcxatom, mcxcomp, mcxsize = print_stats(mcx)\n",
    "print(randsize.compute_chernoff_coeff(smoothendist(mcxsize), smoothendist(allsizedist)))"
   ]
  },
  {
   "cell_type": "code",
   "execution_count": null,
   "metadata": {
    "pycharm": {
     "name": "#%%\n"
    }
   },
   "outputs": [],
   "source": [
    "random.shuffle(allexamples)\n",
    "mcx_random = allexamples[:NN]"
   ]
  },
  {
   "cell_type": "code",
   "execution_count": null,
   "metadata": {
    "pycharm": {
     "name": "#%%\n"
    }
   },
   "outputs": [],
   "source": [
    "randatom, randcomp, randsize = print_stats(mcx_random)\n",
    "print(randsize.compute_chernoff_coeff(smoothendist(randsize), smoothendist(allsizedist)))"
   ]
  },
  {
   "cell_type": "code",
   "execution_count": null,
   "metadata": {
    "pycharm": {
     "name": "#%%\n"
    }
   },
   "outputs": [],
   "source": [
    "for k in sorted(allsizedist.keys()):\n",
    "    print(f\"{k} {allsizedist(k):.5f} - {randsize(k):.5f} - {mcxsize(k):.5f}\")"
   ]
  },
  {
   "cell_type": "code",
   "execution_count": null,
   "metadata": {
    "pycharm": {
     "name": "#%%\n"
    }
   },
   "outputs": [],
   "source": []
  }
 ],
 "metadata": {
  "kernelspec": {
   "display_name": "Python 3 (ipykernel)",
   "language": "python",
   "name": "python3"
  },
  "language_info": {
   "codemirror_mode": {
    "name": "ipython",
    "version": 3
   },
   "file_extension": ".py",
   "mimetype": "text/x-python",
   "name": "python",
   "nbconvert_exporter": "python",
   "pygments_lexer": "ipython3",
   "version": "3.9.7"
  }
 },
 "nbformat": 4,
 "nbformat_minor": 1
}
