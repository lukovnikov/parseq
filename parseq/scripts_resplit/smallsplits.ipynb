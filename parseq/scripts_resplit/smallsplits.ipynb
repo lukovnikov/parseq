{
 "cells": [
  {
   "cell_type": "code",
   "execution_count": 1,
   "metadata": {
    "pycharm": {
     "name": "#%%\n"
    }
   },
   "outputs": [],
   "source": [
    "%load_ext autoreload\n",
    "%autoreload 2"
   ]
  },
  {
   "cell_type": "code",
   "execution_count": null,
   "metadata": {
    "pycharm": {
     "name": "#%%\n"
    }
   },
   "outputs": [],
   "source": []
  },
  {
   "cell_type": "code",
   "execution_count": 20,
   "metadata": {
    "pycharm": {
     "name": "#%%\n"
    }
   },
   "outputs": [],
   "source": [
    "import json, math, random\n",
    "from typing import List, Tuple\n",
    "from nltk import Tree\n",
    "from tqdm import tqdm\n",
    "import numpy as np\n",
    "from parseq.datasets import CFQDatasetLoader\n",
    "from parseq.grammar import taglisp_to_tree, tree_size, tree_to_taglisp\n",
    "from parseq.scripts_resplit.resplit_cfq import DivergenceComputer, FrequencyDistribution"
   ]
  },
  {
   "cell_type": "code",
   "execution_count": 3,
   "metadata": {
    "pycharm": {
     "name": "#%%\n"
    }
   },
   "outputs": [
    {
     "name": "stdout",
     "output_type": "stream",
     "text": [
      "CFQDatasetLoader: make data\n",
      "CFQDatasetLoader: make data in 0.0 sec\n",
      "loading split 'mcd1'\n",
      "doing 'train'\n"
     ]
    },
    {
     "name": "stderr",
     "output_type": "stream",
     "text": [
      "100%|██████████| 95743/95743 [00:25<00:00, 3683.50it/s]\n"
     ]
    },
    {
     "name": "stdout",
     "output_type": "stream",
     "text": [
      "doing 'test'\n"
     ]
    },
    {
     "name": "stderr",
     "output_type": "stream",
     "text": [
      "100%|██████████| 11968/11968 [00:03<00:00, 3136.37it/s]\n"
     ]
    },
    {
     "name": "stdout",
     "output_type": "stream",
     "text": [
      "doing 'oodvalid'\n"
     ]
    },
    {
     "name": "stderr",
     "output_type": "stream",
     "text": [
      "100%|██████████| 11968/11968 [00:03<00:00, 3118.81it/s]\n"
     ]
    },
    {
     "name": "stdout",
     "output_type": "stream",
     "text": [
      "doing 'unused'\n"
     ]
    },
    {
     "name": "stderr",
     "output_type": "stream",
     "text": [
      "100%|██████████| 119678/119678 [00:37<00:00, 3188.97it/s]\n"
     ]
    }
   ],
   "source": [
    "# load cfq, including unused examples\n",
    "ds = CFQDatasetLoader().load(\"mcd1/modent\", validfrac=0, loadunused=True, keepids=True)"
   ]
  },
  {
   "cell_type": "code",
   "execution_count": 54,
   "metadata": {
    "pycharm": {
     "name": "#%%\n"
    }
   },
   "outputs": [
    {
     "name": "stderr",
     "output_type": "stream",
     "text": [
      "100%|██████████| 239357/239357 [00:38<00:00, 6184.66it/s]\n"
     ]
    }
   ],
   "source": [
    "# load all examples from all splits into a single list while removing previous split information\n",
    "allexamples = [(x[0], x[1], taglisp_to_tree(x[2])) for x in tqdm(ds)]"
   ]
  },
  {
   "cell_type": "code",
   "execution_count": 5,
   "metadata": {
    "pycharm": {
     "name": "#%%\n"
    }
   },
   "outputs": [],
   "source": [
    "# compute all present compounds\n",
    "def print_stats(xs):\n",
    "    \"\"\" Input is list of examples of the form (id, nl, fltree) \"\"\"\n",
    "    dc = DivergenceComputer()\n",
    "    atomdist = dc.compute_atom_distribution(xs)\n",
    "    compdist = dc.compute_compound_distribution(xs)\n",
    "    sizedist = dc.compute_size_distribution(xs)\n",
    "    print(f\"Number of examples: {len(xs)}\")\n",
    "    print(f\"Atom dist entropy: {atomdist.entropy():.3f}, coverage: {len(atomdist)}\")\n",
    "    print(f\"Compound dist entropy: {compdist.entropy():.3f}, coverage: {len(compdist)}\")\n",
    "    print(f\"Average size: {sizedist.average():.3f}\")\n",
    "    return atomdist, compdist, sizedist"
   ]
  },
  {
   "cell_type": "code",
   "execution_count": 6,
   "metadata": {
    "pycharm": {
     "name": "#%%\n"
    }
   },
   "outputs": [
    {
     "name": "stderr",
     "output_type": "stream",
     "text": [
      "100%|██████████| 239357/239357 [00:32<00:00, 7304.65it/s]\n",
      "100%|██████████| 239357/239357 [04:25<00:00, 901.78it/s] \n",
      "100%|██████████| 239357/239357 [00:02<00:00, 88565.12it/s]\n"
     ]
    },
    {
     "name": "stdout",
     "output_type": "stream",
     "text": [
      "Number of examples: 239357\n",
      "Atom dist entropy: 3.465, coverage: 104\n",
      "Compound dist entropy: 11.777, coverage: 1624133\n",
      "Average size: 31.919\n"
     ]
    }
   ],
   "source": [
    "allatomdist, allcompdist, allsizedist = print_stats(allexamples)"
   ]
  },
  {
   "cell_type": "code",
   "execution_count": 7,
   "metadata": {
    "pycharm": {
     "name": "#%%\n"
    }
   },
   "outputs": [],
   "source": [
    "# get a set of examples that do not share any compounds\n",
    "def get_disjoint_examples(xs, dc=None):\n",
    "    dc = DivergenceComputer() if dc is None else dc\n",
    "    selected = []\n",
    "    remaining = []\n",
    "    presentcompounds = set()\n",
    "    coveredfc = FrequencyDistribution()\n",
    "    for example in tqdm(xs):\n",
    "        add = True\n",
    "        tree = example[1]\n",
    "        comps = dc.extract_compounds(tree)\n",
    "        if len(set(comps) & presentcompounds) == 0:\n",
    "            selected.append(example)\n",
    "            presentcompounds |= set(comps)\n",
    "            for comp in comps:\n",
    "                coveredfc[comp] += 1\n",
    "        else:\n",
    "            remaining.append(example)\n",
    "    return selected"
   ]
  },
  {
   "cell_type": "code",
   "execution_count": 8,
   "metadata": {
    "pycharm": {
     "name": "#%%\n"
    }
   },
   "outputs": [],
   "source": [
    "def get_covering_examples(xs, dc=None):\n",
    "    dc = DivergenceComputer() if dc is None else dc\n",
    "    selected = []\n",
    "    presentcompounds = set()\n",
    "    coveredfc = FrequencyDistribution()\n",
    "    for example in tqdm(xs):\n",
    "        add = True\n",
    "        tree = example[1]\n",
    "        comps = dc.extract_compounds(tree)\n",
    "        if len(set(comps) - presentcompounds) > 0:\n",
    "            selected.append(example)\n",
    "            presentcompounds |= set(comps)\n",
    "            for comp in comps:\n",
    "                coveredfc[comp] += 1\n",
    "    return selected"
   ]
  },
  {
   "cell_type": "code",
   "execution_count": 9,
   "metadata": {
    "pycharm": {
     "name": "#%%\n"
    }
   },
   "outputs": [],
   "source": [
    "if False:\n",
    "    dx = get_disjoint_examples(allexamples)\n",
    "    cx = get_covering_examples(allexamples)"
   ]
  },
  {
   "cell_type": "code",
   "execution_count": 10,
   "metadata": {
    "pycharm": {
     "name": "#%%\n"
    }
   },
   "outputs": [],
   "source": [
    "def smoothendist(dist, perc=0.05):\n",
    "    fd = FrequencyDistribution()\n",
    "    sortedkeys = sorted(allsizedist.keys())\n",
    "    for i, k in enumerate(sortedkeys):\n",
    "        j = 1\n",
    "        acc = dist(k)\n",
    "        div = 1\n",
    "        while True:\n",
    "            if i-j >= 0:\n",
    "                acc += dist(sortedkeys[i-j])\n",
    "                div += 1\n",
    "            if i+j < len(sortedkeys):\n",
    "                acc += dist(sortedkeys[i+j])\n",
    "                div += 1\n",
    "            j += 1\n",
    "            if acc >= perc:\n",
    "                break\n",
    "        fd[k] = acc/div\n",
    "    return fd"
   ]
  },
  {
   "cell_type": "code",
   "execution_count": 26,
   "metadata": {
    "pycharm": {
     "name": "#%%\n"
    }
   },
   "outputs": [],
   "source": [
    "def compute_overlap(dist, comps):  # how many of the compounds have already been observed?\n",
    "    overlap = 0\n",
    "    unoverlap = 0\n",
    "    total = 0\n",
    "    for comp in comps:\n",
    "        if comp in dist and dist[comp] > 0:\n",
    "            overlap += 1\n",
    "        else:\n",
    "            unoverlap += 1\n",
    "        total += 1\n",
    "    return overlap / total, unoverlap / total\n",
    "\n",
    "\n",
    "def get_minimal_covering_examples(xs, dc=None, N=10000, step=2000, cache=None, targetsizedist=None):\n",
    "    retcache = cache is True\n",
    "    \n",
    "    dc = DivergenceComputer() if dc is None else dc\n",
    "    \n",
    "    # find all compounds and build cache\n",
    "    if cache is None or cache is True or cache is False:\n",
    "        print(\"building compound cache\")\n",
    "        cache = {}\n",
    "        compounds = {}\n",
    "        lastid = 0\n",
    "        for example in tqdm(xs):\n",
    "            tree = example[2]\n",
    "            comps = dc.extract_compounds(tree)\n",
    "            cache[str(tree)] = []\n",
    "            cacheline = []\n",
    "            for comp in comps:\n",
    "                if comp not in compounds:\n",
    "                    compounds[comp] = lastid + 1\n",
    "                    lastid += 1\n",
    "                cacheline.append(compounds[comp])\n",
    "            cache[str(tree)] = cacheline\n",
    "    #             cache[str(tree)].append(compounds[comp])\n",
    "            \n",
    "        print(\"built cache\")\n",
    "            \n",
    "    print(\"randomly selecting initial examples\")\n",
    "    random.shuffle(xs)\n",
    "    NUMINIT = 100\n",
    "    selected = xs[:NUMINIT]\n",
    "    remaining = xs[NUMINIT:]\n",
    "    dxdist = FrequencyDistribution()\n",
    "    sizedist = FrequencyDistribution()\n",
    "    \n",
    "    for example in selected:\n",
    "        tree = example[2]\n",
    "        comps = cache[str(tree)]\n",
    "        for comp in comps:\n",
    "            dxdist[comp] += 1\n",
    "        sizedist[tree_size(tree)] += 1\n",
    "\n",
    "    dx, remaining = selected, remaining\n",
    "    # go over all examples and compute their overlaps with dxdist\n",
    "    print(f\"randomly chosen {len(dx)} examples\")\n",
    "    \n",
    "#     print(\"finding disjoint examples\")\n",
    "#     random.shuffle(xs)\n",
    "#     selected = []\n",
    "#     remaining = []\n",
    "#     presentcompounds = set()\n",
    "#     dxdist = FrequencyDistribution()\n",
    "#     sizedist = FrequencyDistribution()\n",
    "    \n",
    "#     for example in tqdm(xs):\n",
    "#         add = True\n",
    "#         tree = example[2]\n",
    "#         comps = cache[str(tree)]\n",
    "#         if len(set(comps) & presentcompounds) == 0:\n",
    "#             selected.append(example)\n",
    "#             presentcompounds |= set(comps)\n",
    "#             for comp in comps:\n",
    "#                 dxdist[comp] += 1\n",
    "#             sizedist[tree_size(tree)] += 1\n",
    "#         else:\n",
    "#             remaining.append(example)\n",
    "\n",
    "#     dx, remaining = selected, remaining\n",
    "#     # go over all examples and compute their overlaps with dxdist\n",
    "#     print(f\"found {len(dx)} disjoint examples\")\n",
    "    \n",
    "    if targetsizedist is not None:\n",
    "        targetsizedist = smoothendist(targetsizedist)\n",
    "    \n",
    "    print(\"iterating\")\n",
    "    iternr = 1\n",
    "    while True:\n",
    "        print(f\"iter {iternr}\")\n",
    "        iternr += 1\n",
    "        overlaps = []\n",
    "        unoverlaps = []\n",
    "        tsizes = []\n",
    "        for x in tqdm(remaining):\n",
    "            comps = cache[str(x[2])]\n",
    "            tsizes.append(tree_size(x[2]))\n",
    "            overlap, unoverlap = compute_overlap(dxdist, comps)\n",
    "            overlaps.append(overlap)\n",
    "            unoverlaps.append(unoverlap)\n",
    "        \n",
    "        # sort by overlap and select N best that overlap least\n",
    "        tosort = zip(remaining, overlaps, unoverlaps, tsizes)\n",
    "        remainingsorted = sorted(tosort, key=lambda x: -x[2])  # small overlap first\n",
    "        print(f\"Top overlap: {remainingsorted[0][1]}, bottom overlap: {remainingsorted[-1][1]}\")\n",
    "        numberwithlargestoverlap = 0\n",
    "        numberwithhalfoverlap = 0\n",
    "        for (i, x) in enumerate(remainingsorted[::-1]):\n",
    "            overlap = x[1]\n",
    "            if overlap >= 0.8:\n",
    "                numberwithlargestoverlap += 1\n",
    "            if overlap >= 0.5:\n",
    "                numberwithhalfoverlap += 1\n",
    "        print(f\"Number of high overlap: {numberwithlargestoverlap} and half overlap: {numberwithhalfoverlap}\")\n",
    "        #remainingsorted = [x[0] for x in remainingsorted]\n",
    "        _step = min(step, len(remainingsorted))\n",
    "        if targetsizedist is None:\n",
    "            selected, remaining = remainingsorted[:_step], remainingsorted[_step:]\n",
    "        else:\n",
    "            selected, remaining = [], []\n",
    "            smoothsizedist = smoothendist(sizedist)\n",
    "            for i, x in enumerate(remainingsorted):\n",
    "                xsize = x[-1]\n",
    "                if smoothsizedist[xsize] < targetsizedist[xsize]:\n",
    "                    selected.append(x)\n",
    "                    sizedist[xsize] += 1\n",
    "                    smoothsizedist = smoothendist(sizedist)\n",
    "                else:\n",
    "                    remaining.append(x)\n",
    "                if len(selected) >= step:\n",
    "                    remaining += remainingsorted[i+1:]\n",
    "                    break\n",
    "            assert(len(selected) + len(remaining) == len(remainingsorted))\n",
    "            \n",
    "        for x, xoverlap, xunoverlap, xsize in selected:\n",
    "            for comp in cache[str(x[2])]:\n",
    "                dxdist[comp] += 1\n",
    "        dx = dx + [x[0] for x in selected]\n",
    "        remaining = [x[0] for x in remaining]\n",
    "        \n",
    "        if len(dx) >= N:\n",
    "            dx = dx[:N]\n",
    "            remaining = remaining + dx[N:]\n",
    "            for x in dx[N:]:\n",
    "                for comp in cache[str(x[2])]:\n",
    "                    dxdist[comp] -= 1\n",
    "                if dxdist[comp] <= 0:\n",
    "                    del dxdist[comp]\n",
    "            break\n",
    "        \n",
    "        print(f\"Number of selected examples: {len(dx)}, number of covered compounds: {len(dxdist)}\")\n",
    "    \n",
    "    if retcache is True:\n",
    "        return dx, remaining, dxdist, cache\n",
    "    else:\n",
    "        return dx, remaining, dxdist"
   ]
  },
  {
   "cell_type": "code",
   "execution_count": 55,
   "metadata": {
    "pycharm": {
     "name": "#%%\n"
    }
   },
   "outputs": [],
   "source": [
    "NN = 4000"
   ]
  },
  {
   "cell_type": "code",
   "execution_count": 52,
   "metadata": {
    "pycharm": {
     "name": "#%%\n"
    }
   },
   "outputs": [
    {
     "name": "stdout",
     "output_type": "stream",
     "text": [
      "randomly selecting initial examples\n",
      "randomly chosen 100 examples\n",
      "iterating\n",
      "iter 1\n"
     ]
    },
    {
     "name": "stderr",
     "output_type": "stream",
     "text": [
      "100%|██████████| 239257/239257 [00:48<00:00, 4927.65it/s]\n"
     ]
    },
    {
     "name": "stdout",
     "output_type": "stream",
     "text": [
      "Top overlap: 0.0010131712259371835, bottom overlap: 1.0\n",
      "Number of high overlap: 7456 and half overlap: 41346\n",
      "Number of selected examples: 1100, number of covered compounds: 101698\n",
      "iter 2\n"
     ]
    },
    {
     "name": "stderr",
     "output_type": "stream",
     "text": [
      "100%|██████████| 238257/238257 [00:37<00:00, 6330.98it/s] \n"
     ]
    },
    {
     "name": "stdout",
     "output_type": "stream",
     "text": [
      "Top overlap: 0.010660980810234541, bottom overlap: 1.0\n",
      "Number of high overlap: 14655 and half overlap: 62085\n",
      "Number of selected examples: 2100, number of covered compounds: 167098\n",
      "iter 3\n"
     ]
    },
    {
     "name": "stderr",
     "output_type": "stream",
     "text": [
      "100%|██████████| 237257/237257 [00:37<00:00, 6255.18it/s] \n"
     ]
    },
    {
     "name": "stdout",
     "output_type": "stream",
     "text": [
      "Top overlap: 0.06493506493506493, bottom overlap: 1.0\n",
      "Number of high overlap: 22564 and half overlap: 103734\n",
      "Number of selected examples: 3100, number of covered compounds: 285487\n",
      "iter 4\n"
     ]
    },
    {
     "name": "stderr",
     "output_type": "stream",
     "text": [
      "100%|██████████| 236257/236257 [00:38<00:00, 6188.77it/s] \n"
     ]
    },
    {
     "name": "stdout",
     "output_type": "stream",
     "text": [
      "Top overlap: 0.13432835820895522, bottom overlap: 1.0\n",
      "Number of high overlap: 32472 and half overlap: 156214\n",
      "Number of selected examples: 4100, number of covered compounds: 371364\n",
      "iter 5\n"
     ]
    },
    {
     "name": "stderr",
     "output_type": "stream",
     "text": [
      "100%|██████████| 235257/235257 [00:37<00:00, 6224.09it/s] \n"
     ]
    },
    {
     "name": "stdout",
     "output_type": "stream",
     "text": [
      "Top overlap: 0.22857142857142856, bottom overlap: 1.0\n",
      "Number of high overlap: 43840 and half overlap: 196657\n",
      "Number of selected examples: 5100, number of covered compounds: 456761\n",
      "iter 6\n"
     ]
    },
    {
     "name": "stderr",
     "output_type": "stream",
     "text": [
      "100%|██████████| 234257/234257 [00:37<00:00, 6173.72it/s] \n"
     ]
    },
    {
     "name": "stdout",
     "output_type": "stream",
     "text": [
      "Top overlap: 0.3170731707317073, bottom overlap: 1.0\n",
      "Number of high overlap: 60846 and half overlap: 217592\n",
      "Number of selected examples: 6100, number of covered compounds: 516708\n",
      "iter 7\n"
     ]
    },
    {
     "name": "stderr",
     "output_type": "stream",
     "text": [
      "100%|██████████| 233257/233257 [00:38<00:00, 6114.98it/s] \n"
     ]
    },
    {
     "name": "stdout",
     "output_type": "stream",
     "text": [
      "Top overlap: 0.3798449612403101, bottom overlap: 1.0\n",
      "Number of high overlap: 76781 and half overlap: 225845\n",
      "Number of selected examples: 7100, number of covered compounds: 577326\n",
      "iter 8\n"
     ]
    },
    {
     "name": "stderr",
     "output_type": "stream",
     "text": [
      "100%|██████████| 232257/232257 [00:37<00:00, 6112.28it/s] \n"
     ]
    },
    {
     "name": "stdout",
     "output_type": "stream",
     "text": [
      "Top overlap: 0.42857142857142855, bottom overlap: 1.0\n",
      "Number of high overlap: 89325 and half overlap: 229466\n",
      "Number of selected examples: 8100, number of covered compounds: 627312\n",
      "iter 9\n"
     ]
    },
    {
     "name": "stderr",
     "output_type": "stream",
     "text": [
      "100%|██████████| 231257/231257 [00:38<00:00, 6054.43it/s] \n"
     ]
    },
    {
     "name": "stdout",
     "output_type": "stream",
     "text": [
      "Top overlap: 0.4675324675324675, bottom overlap: 1.0\n",
      "Number of high overlap: 103201 and half overlap: 230515\n",
      "Number of selected examples: 9100, number of covered compounds: 678778\n",
      "iter 10\n"
     ]
    },
    {
     "name": "stderr",
     "output_type": "stream",
     "text": [
      "100%|██████████| 230257/230257 [00:38<00:00, 6002.72it/s] \n"
     ]
    },
    {
     "name": "stdout",
     "output_type": "stream",
     "text": [
      "Top overlap: 0.5038759689922481, bottom overlap: 1.0\n",
      "Number of high overlap: 116612 and half overlap: 230257\n"
     ]
    }
   ],
   "source": [
    "if \"cache\" not in locals() or cache is None:\n",
    "    mcx, _, mcxdist, cache = get_minimal_covering_examples(allexamples, N=NN, step=NN//10, cache=True)\n",
    "else:\n",
    "    mcx, _, mcxdist = get_minimal_covering_examples(allexamples, N=NN, step=NN//10, cache=cache)  # , targetsizedist=allsizedist)"
   ]
  },
  {
   "cell_type": "code",
   "execution_count": 53,
   "metadata": {
    "pycharm": {
     "name": "#%%\n"
    }
   },
   "outputs": [
    {
     "name": "stderr",
     "output_type": "stream",
     "text": [
      "100%|██████████| 10000/10000 [00:01<00:00, 6311.68it/s]\n",
      "100%|██████████| 10000/10000 [00:24<00:00, 414.97it/s]\n",
      "100%|██████████| 10000/10000 [00:00<00:00, 65344.97it/s]\n"
     ]
    },
    {
     "name": "stdout",
     "output_type": "stream",
     "text": [
      "Number of examples: 10000\n",
      "Atom dist entropy: 3.612, coverage: 104\n",
      "Compound dist entropy: 12.561, coverage: 720561\n",
      "Average size: 41.561\n",
      "0.999000515552042\n"
     ]
    }
   ],
   "source": [
    "mcxatom, mcxcomp, mcxsize = print_stats(mcx)\n",
    "print(mcxsize.compute_chernoff_coeff(smoothendist(mcxsize), smoothendist(allsizedist)))"
   ]
  },
  {
   "cell_type": "code",
   "execution_count": null,
   "metadata": {},
   "outputs": [],
   "source": []
  },
  {
   "cell_type": "code",
   "execution_count": null,
   "outputs": [],
   "source": [
    "print(len(mcx))\n",
    "print(mcx[0])\n",
    "with open(f\"minicfq{len(mcx)}unsplit1.json\", \"w\") as f:\n",
    "    json.dump([(x[0], x[1], tree_to_taglisp(x[2])) for x in mcx], f)"
   ],
   "metadata": {
    "collapsed": false,
    "pycharm": {
     "name": "#%%\n"
    }
   }
  },
  {
   "cell_type": "code",
   "execution_count": null,
   "outputs": [],
   "source": [],
   "metadata": {
    "collapsed": false,
    "pycharm": {
     "name": "#%%\n"
    }
   }
  },
  {
   "cell_type": "code",
   "execution_count": 49,
   "metadata": {},
   "outputs": [
    {
     "name": "stdout",
     "output_type": "stream",
     "text": [
      "40000\n",
      "(113576, \"Were M1 , M2 , M3 , M4 , and M5 written by and executive produced by M0 's writer and star\", Tree('@R@', [Tree('@QUERY', [Tree('@SELECT', [Tree('count', [Tree('*', [])])]), Tree('@WHERE', [Tree('@COND', [Tree('?x0', []), Tree('ns:film.actor.film/ns:film.performance.film', []), Tree('m0', [])]), Tree('@COND', [Tree('?x0', []), Tree('ns:film.writer.film', []), Tree('m0', [])]), Tree('@COND', [Tree('m1', []), Tree('ns:film.film.executive_produced_by', []), Tree('?x0', [])]), Tree('@COND', [Tree('m1', []), Tree('ns:film.film.written_by', []), Tree('?x0', [])]), Tree('@COND', [Tree('m2', []), Tree('ns:film.film.executive_produced_by', []), Tree('?x0', [])]), Tree('@COND', [Tree('m2', []), Tree('ns:film.film.written_by', []), Tree('?x0', [])]), Tree('@COND', [Tree('m3', []), Tree('ns:film.film.executive_produced_by', []), Tree('?x0', [])]), Tree('@COND', [Tree('m3', []), Tree('ns:film.film.written_by', []), Tree('?x0', [])]), Tree('@COND', [Tree('m4', []), Tree('ns:film.film.executive_produced_by', []), Tree('?x0', [])]), Tree('@COND', [Tree('m4', []), Tree('ns:film.film.written_by', []), Tree('?x0', [])]), Tree('@COND', [Tree('m5', []), Tree('ns:film.film.executive_produced_by', []), Tree('?x0', [])]), Tree('@COND', [Tree('m5', []), Tree('ns:film.film.written_by', []), Tree('?x0', [])])])])]))\n"
     ]
    }
   ],
   "source": [
    "random.shuffle(allexamples)\n",
    "mcx_random = allexamples[:NN]"
   ]
  },
  {
   "cell_type": "code",
   "execution_count": null,
   "metadata": {},
   "outputs": [],
   "source": []
  },
  {
   "cell_type": "code",
   "execution_count": 47,
   "metadata": {
    "pycharm": {
     "name": "#%%\n"
    }
   },
   "outputs": [],
   "source": [
    "random.shuffle(allexamples)\n",
    "mcx_random = allexamples[:NN]"
   ]
  },
  {
   "cell_type": "code",
   "execution_count": 48,
   "metadata": {
    "pycharm": {
     "name": "#%%\n"
    }
   },
   "outputs": [
    {
     "name": "stderr",
     "output_type": "stream",
     "text": [
      "100%|██████████| 40000/40000 [00:05<00:00, 7134.88it/s]\n",
      "100%|██████████| 40000/40000 [00:45<00:00, 877.52it/s] \n",
      "100%|██████████| 40000/40000 [00:00<00:00, 82286.03it/s]\n"
     ]
    },
    {
     "name": "stdout",
     "output_type": "stream",
     "text": [
      "Number of examples: 40000\n",
      "Atom dist entropy: 3.464, coverage: 104\n",
      "Compound dist entropy: 11.617, coverage: 646092\n",
      "Average size: 31.891\n",
      "1.109906653330946\n"
     ]
    }
   ],
   "source": [
    "randatom, randcomp, randsize = print_stats(mcx_random)\n",
    "print(randsize.compute_chernoff_coeff(smoothendist(randsize), smoothendist(allsizedist)))"
   ]
  },
  {
   "cell_type": "code",
   "execution_count": null,
   "metadata": {
    "pycharm": {
     "name": "#%%\n"
    }
   },
   "outputs": [],
   "source": [
    "for k in sorted(allsizedist.keys()):\n",
    "    print(f\"{k} {allsizedist(k):.5f} - {randsize(k):.5f} - {mcxsize(k):.5f}\")"
   ]
  },
  {
   "cell_type": "code",
   "execution_count": null,
   "metadata": {
    "pycharm": {
     "name": "#%%\n"
    }
   },
   "outputs": [],
   "source": []
  }
 ],
 "metadata": {
  "kernelspec": {
   "display_name": "Python 3",
   "language": "python",
   "name": "python3"
  },
  "language_info": {
   "codemirror_mode": {
    "name": "ipython",
    "version": 3
   },
   "file_extension": ".py",
   "mimetype": "text/x-python",
   "name": "python",
   "nbconvert_exporter": "python",
   "pygments_lexer": "ipython3",
   "version": "3.6.12"
  }
 },
 "nbformat": 4,
 "nbformat_minor": 1
}