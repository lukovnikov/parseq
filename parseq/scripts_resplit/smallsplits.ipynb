{
 "cells": [
  {
   "cell_type": "code",
   "execution_count": 1,
   "metadata": {},
   "outputs": [],
   "source": [
    "%load_ext autoreload\n",
    "%autoreload 2"
   ]
  },
  {
   "cell_type": "code",
   "execution_count": 56,
   "metadata": {},
   "outputs": [],
   "source": [
    "import json, math, random\n",
    "from typing import List, Tuple\n",
    "from nltk import Tree\n",
    "from tqdm import tqdm\n",
    "from parseq.datasets import CFQDatasetLoader\n",
    "from parseq.grammar import taglisp_to_tree\n",
    "from parseq.scripts_resplit.resplit_cfq import DivergenceComputer, FrequencyDistribution"
   ]
  },
  {
   "cell_type": "code",
   "execution_count": 3,
   "metadata": {},
   "outputs": [
    {
     "name": "stdout",
     "output_type": "stream",
     "text": [
      "CFQDatasetLoader: make data\n",
      "CFQDatasetLoader: make data                                                                                  T: 0.0 sec\n",
      "loading split 'mcd1'\n",
      "doing 'train'\n"
     ]
    },
    {
     "name": "stderr",
     "output_type": "stream",
     "text": [
      "100%|██████████████████████████████████████████████████████████████████████████| 95743/95743 [00:22<00:00, 4280.39it/s]\n"
     ]
    },
    {
     "name": "stdout",
     "output_type": "stream",
     "text": [
      "doing 'test'\n"
     ]
    },
    {
     "name": "stderr",
     "output_type": "stream",
     "text": [
      "100%|██████████████████████████████████████████████████████████████████████████| 11968/11968 [00:03<00:00, 3655.73it/s]\n"
     ]
    },
    {
     "name": "stdout",
     "output_type": "stream",
     "text": [
      "doing 'oodvalid'\n"
     ]
    },
    {
     "name": "stderr",
     "output_type": "stream",
     "text": [
      "100%|██████████████████████████████████████████████████████████████████████████| 11968/11968 [00:03<00:00, 3641.02it/s]\n"
     ]
    },
    {
     "name": "stdout",
     "output_type": "stream",
     "text": [
      "doing 'unused'\n"
     ]
    },
    {
     "name": "stderr",
     "output_type": "stream",
     "text": [
      "100%|████████████████████████████████████████████████████████████████████████| 119678/119678 [00:32<00:00, 3715.95it/s]\n"
     ]
    }
   ],
   "source": [
    "# load cfq\n",
    "ds = CFQDatasetLoader().load(\"mcd1/modent\", validfrac=0, loadunused=True)"
   ]
  },
  {
   "cell_type": "code",
   "execution_count": 6,
   "metadata": {},
   "outputs": [
    {
     "name": "stderr",
     "output_type": "stream",
     "text": [
      "100%|████████████████████████████████████████████████████████████████████████| 239357/239357 [00:33<00:00, 7205.73it/s]\n"
     ]
    }
   ],
   "source": [
    "allexamples = [(x[0], taglisp_to_tree(x[1])) for x in tqdm(ds)]"
   ]
  },
  {
   "cell_type": "code",
   "execution_count": 7,
   "metadata": {},
   "outputs": [
    {
     "name": "stderr",
     "output_type": "stream",
     "text": [
      "100%|█████████████████████████████████████████████████████████████████████████| 239357/239357 [04:07<00:00, 968.17it/s]\n"
     ]
    }
   ],
   "source": [
    "# compute all present compounds\n",
    "dc = DivergenceComputer()\n",
    "compdist = dc.compute_compound_distribution(allexamples)"
   ]
  },
  {
   "cell_type": "code",
   "execution_count": 10,
   "metadata": {},
   "outputs": [
    {
     "data": {
      "text/plain": [
       "1621251"
      ]
     },
     "execution_count": 10,
     "metadata": {},
     "output_type": "execute_result"
    }
   ],
   "source": [
    "len(compdist)"
   ]
  },
  {
   "cell_type": "code",
   "execution_count": 18,
   "metadata": {},
   "outputs": [
    {
     "data": {
      "text/plain": [
       "11.978434648858228"
      ]
     },
     "execution_count": 18,
     "metadata": {},
     "output_type": "execute_result"
    }
   ],
   "source": [
    "compdist.entropy()"
   ]
  },
  {
   "cell_type": "code",
   "execution_count": 25,
   "metadata": {},
   "outputs": [],
   "source": [
    "# get a set of examples that do not share any compounds\n",
    "def get_disjoint_examples(xs, dc=None):\n",
    "    dc = DivergenceComputer() if dc is None else dc\n",
    "    selected = []\n",
    "    remaining = []\n",
    "    presentcompounds = set()\n",
    "    coveredfc = FrequencyDistribution()\n",
    "    for example in tqdm(xs):\n",
    "        add = True\n",
    "        tree = example[1]\n",
    "        comps = dc.extract_compounds(tree)\n",
    "        if len(set(comps) & presentcompounds) == 0:\n",
    "            selected.append(example)\n",
    "            presentcompounds |= set(comps)\n",
    "            for comp in comps:\n",
    "                coveredfc[comp] += 1\n",
    "        else:\n",
    "            remaining.append(example)\n",
    "    return selected"
   ]
  },
  {
   "cell_type": "code",
   "execution_count": 26,
   "metadata": {},
   "outputs": [],
   "source": [
    "def get_covering_examples(xs, dc=None):\n",
    "    dc = DivergenceComputer() if dc is None else dc\n",
    "    selected = []\n",
    "    presentcompounds = set()\n",
    "    coveredfc = FrequencyDistribution()\n",
    "    for example in tqdm(xs):\n",
    "        add = True\n",
    "        tree = example[1]\n",
    "        comps = dc.extract_compounds(tree)\n",
    "        if len(set(comps) - presentcompounds) > 0:\n",
    "            selected.append(example)\n",
    "            presentcompounds |= set(comps)\n",
    "            for comp in comps:\n",
    "                coveredfc[comp] += 1\n",
    "    return selected"
   ]
  },
  {
   "cell_type": "code",
   "execution_count": 20,
   "metadata": {},
   "outputs": [
    {
     "name": "stderr",
     "output_type": "stream",
     "text": [
      "100%|████████████████████████████████████████████████████████████████████████| 239357/239357 [03:50<00:00, 1039.30it/s]\n"
     ]
    }
   ],
   "source": [
    "dx, _ = get_disjoint_examples(allexamples)"
   ]
  },
  {
   "cell_type": "code",
   "execution_count": 22,
   "metadata": {},
   "outputs": [
    {
     "name": "stderr",
     "output_type": "stream",
     "text": [
      "100%|██████████████████████████████████████████████████████████████████████████████| 396/396 [00:00<00:00, 7856.95it/s]\n"
     ]
    }
   ],
   "source": [
    "dxdist = dc.compute_compound_distribution(dx)"
   ]
  },
  {
   "cell_type": "code",
   "execution_count": 28,
   "metadata": {},
   "outputs": [
    {
     "data": {
      "text/plain": [
       "(4052, 396)"
      ]
     },
     "execution_count": 28,
     "metadata": {},
     "output_type": "execute_result"
    }
   ],
   "source": [
    "len(dxdist), len(dx)"
   ]
  },
  {
   "cell_type": "code",
   "execution_count": 27,
   "metadata": {},
   "outputs": [
    {
     "name": "stderr",
     "output_type": "stream",
     "text": [
      "100%|█████████████████████████████████████████████████████████████████████████| 239357/239357 [04:03<00:00, 984.38it/s]\n"
     ]
    }
   ],
   "source": [
    "cx = get_covering_examples(allexamples)"
   ]
  },
  {
   "cell_type": "code",
   "execution_count": 29,
   "metadata": {},
   "outputs": [
    {
     "data": {
      "text/plain": [
       "108241"
      ]
     },
     "execution_count": 29,
     "metadata": {},
     "output_type": "execute_result"
    }
   ],
   "source": [
    "len(cx)"
   ]
  },
  {
   "cell_type": "code",
   "execution_count": 67,
   "metadata": {},
   "outputs": [],
   "source": [
    "def compute_overlap(dist, comps):\n",
    "    overlap = 0\n",
    "    total = 0\n",
    "    for comp in comps:\n",
    "        if comp in dist and dist[comp] > 0:\n",
    "            overlap += 1\n",
    "        total += 1\n",
    "    return overlap / total\n",
    "        \n",
    "def get_minimal_covering_examples(xs, dc=None, N=10000, step=2000, cache=None):\n",
    "    retcache = cache is True\n",
    "    \n",
    "    dc = DivergenceComputer() if dc is None else dc\n",
    "    \n",
    "    # find all compounds and build cache\n",
    "    if cache is None or cache is True or cache is False:\n",
    "        print(\"building compound cache\")\n",
    "        cache = {}\n",
    "        compounds = {}\n",
    "        lastid = 0\n",
    "        for example in tqdm(xs):\n",
    "            tree = example[1]\n",
    "            comps = dc.extract_compounds(tree)\n",
    "            cache[str(tree)] = []\n",
    "            cacheline = []\n",
    "            for comp in comps:\n",
    "                if comp not in compounds:\n",
    "                    compounds[comp] = lastid + 1\n",
    "                    lastid += 1\n",
    "                cacheline.append(compounds[comp])\n",
    "            cache[str(tree)] = cacheline\n",
    "    #             cache[str(tree)].append(compounds[comp])\n",
    "            \n",
    "        print(\"built cache\")\n",
    "            \n",
    "    print(\"finding disjoint examples\")\n",
    "    random.shuffle(allexamples)\n",
    "    selected = []\n",
    "    remaining = []\n",
    "    presentcompounds = set()\n",
    "    dxdist = FrequencyDistribution()\n",
    "            \n",
    "    for example in tqdm(xs):\n",
    "        add = True\n",
    "        tree = example[1]\n",
    "        comps = cache[str(tree)]\n",
    "        if len(set(comps) & presentcompounds) == 0:\n",
    "            selected.append(example)\n",
    "            presentcompounds |= set(comps)\n",
    "            for comp in comps:\n",
    "                dxdist[comp] += 1\n",
    "        else:\n",
    "            remaining.append(example)\n",
    "\n",
    "    dx, remaining = selected, remaining\n",
    "    # go over all examples and compute their overlaps with dxdist\n",
    "    print(f\"found {len(dx)} disjoint examples\")\n",
    "    \n",
    "    print(\"iterating\")\n",
    "    while True:\n",
    "        print(\"iter\")\n",
    "        overlaps = []\n",
    "        for x in tqdm(remaining):\n",
    "            comps = cache[str(x[1])]\n",
    "            overlap = compute_overlap(dxdist, comps)\n",
    "            overlaps.append(overlap)\n",
    "        \n",
    "        # sort by overlap and select N best that overlap least\n",
    "        tosort = zip(remaining, overlaps)\n",
    "        remainingsorted = sorted(tosort, key=lambda x: x[1])  # small overlap first\n",
    "        remainingsorted = [x for x, _ in remainingsorted]\n",
    "        _step = min(step, len(remainingsorted))\n",
    "        selected, remaining = remainingsorted[:_step], remainingsorted[_step:]\n",
    "        for x in selected:\n",
    "            for comp in cache[str(x[1])]:\n",
    "                dxdist[comp] += 1\n",
    "        dx = dx + selected\n",
    "        \n",
    "        if len(dx) >= N:\n",
    "            dx = dx[:N]\n",
    "            remaining = remaining + dx[N:]\n",
    "            for x in dx[N:]:\n",
    "                for comp in cache[str(x[1])]:\n",
    "                    dxdist[comp] -= 1\n",
    "            break\n",
    "    \n",
    "    if retcache is True:\n",
    "        return dx, remaining, dxdist, cache\n",
    "    else:\n",
    "        return dx, remaining, dxdist"
   ]
  },
  {
   "cell_type": "code",
   "execution_count": 68,
   "metadata": {},
   "outputs": [
    {
     "name": "stdout",
     "output_type": "stream",
     "text": [
      "building compound cache\n"
     ]
    },
    {
     "name": "stderr",
     "output_type": "stream",
     "text": [
      "100%|████████████████████████████████████████████████████████████████████████| 239357/239357 [5:38:57<00:00, 11.77it/s]\n"
     ]
    },
    {
     "name": "stdout",
     "output_type": "stream",
     "text": [
      "built cache\n",
      "finding disjoint examples\n"
     ]
    },
    {
     "name": "stderr",
     "output_type": "stream",
     "text": [
      "100%|████████████████████████████████████████████████████████████████████████| 239357/239357 [00:26<00:00, 9076.99it/s]\n"
     ]
    },
    {
     "name": "stdout",
     "output_type": "stream",
     "text": [
      "found 387 disjoint examples\n",
      "iterating\n",
      "iter\n"
     ]
    },
    {
     "name": "stderr",
     "output_type": "stream",
     "text": [
      "100%|████████████████████████████████████████████████████████████████████████| 238970/238970 [00:28<00:00, 8366.37it/s]\n"
     ]
    },
    {
     "name": "stdout",
     "output_type": "stream",
     "text": [
      "iter\n"
     ]
    },
    {
     "name": "stderr",
     "output_type": "stream",
     "text": [
      "100%|████████████████████████████████████████████████████████████████████████| 238470/238470 [00:28<00:00, 8316.05it/s]\n"
     ]
    },
    {
     "name": "stdout",
     "output_type": "stream",
     "text": [
      "iter\n"
     ]
    },
    {
     "name": "stderr",
     "output_type": "stream",
     "text": [
      "100%|████████████████████████████████████████████████████████████████████████| 237970/237970 [00:28<00:00, 8282.90it/s]\n"
     ]
    },
    {
     "name": "stdout",
     "output_type": "stream",
     "text": [
      "iter\n"
     ]
    },
    {
     "name": "stderr",
     "output_type": "stream",
     "text": [
      "100%|████████████████████████████████████████████████████████████████████████| 237470/237470 [00:28<00:00, 8237.01it/s]\n"
     ]
    }
   ],
   "source": [
    "# mcx, _, mcxdist, cache = get_minimal_covering_examples(allexamples, N=2000, step=500, cache=True)\n",
    "mcx, _, mcxdist = get_minimal_covering_examples(allexamples, N=2000, step=500, cache=cache)"
   ]
  },
  {
   "cell_type": "code",
   "execution_count": 63,
   "metadata": {},
   "outputs": [
    {
     "data": {
      "text/plain": [
       "1000"
      ]
     },
     "execution_count": 63,
     "metadata": {},
     "output_type": "execute_result"
    }
   ],
   "source": [
    "len(mcx)"
   ]
  },
  {
   "cell_type": "code",
   "execution_count": 64,
   "metadata": {},
   "outputs": [
    {
     "data": {
      "text/plain": [
       "(10.924063688115353, 116058)"
      ]
     },
     "execution_count": 64,
     "metadata": {},
     "output_type": "execute_result"
    }
   ],
   "source": [
    "mcxdist.entropy(), len(mcxdist)"
   ]
  },
  {
   "cell_type": "code",
   "execution_count": 58,
   "metadata": {},
   "outputs": [],
   "source": [
    "random.shuffle(allexamples)\n",
    "mcx_random = allexamples[:2000]"
   ]
  },
  {
   "cell_type": "code",
   "execution_count": 59,
   "metadata": {},
   "outputs": [
    {
     "name": "stderr",
     "output_type": "stream",
     "text": [
      "100%|████████████████████████████████████████████████████████████████████████████| 1000/1000 [00:00<00:00, 1027.52it/s]\n"
     ]
    }
   ],
   "source": [
    "mcx_random_dist = dc.compute_compound_distribution(mcx_random)"
   ]
  },
  {
   "cell_type": "code",
   "execution_count": 62,
   "metadata": {},
   "outputs": [
    {
     "data": {
      "text/plain": [
       "(10.475702730395478, 51134)"
      ]
     },
     "execution_count": 62,
     "metadata": {},
     "output_type": "execute_result"
    }
   ],
   "source": [
    "mcx_random_dist.entropy(), len(mcx_random_dist)"
   ]
  },
  {
   "cell_type": "code",
   "execution_count": null,
   "metadata": {},
   "outputs": [],
   "source": []
  }
 ],
 "metadata": {
  "kernelspec": {
   "display_name": "Python 3 (ipykernel)",
   "language": "python",
   "name": "python3"
  },
  "language_info": {
   "codemirror_mode": {
    "name": "ipython",
    "version": 3
   },
   "file_extension": ".py",
   "mimetype": "text/x-python",
   "name": "python",
   "nbconvert_exporter": "python",
   "pygments_lexer": "ipython3",
   "version": "3.9.7"
  }
 },
 "nbformat": 4,
 "nbformat_minor": 1
}