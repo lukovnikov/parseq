{
 "cells": [
  {
   "cell_type": "code",
   "execution_count": 1,
   "metadata": {},
   "outputs": [],
   "source": [
    "%load_ext autoreload\n",
    "%autoreload 2"
   ]
  },
  {
   "cell_type": "code",
   "execution_count": 2,
   "metadata": {},
   "outputs": [],
   "source": [
    "from parseq.datasets import CFQDatasetLoader\n",
    "from parseq.scripts_resplit.resplit_cfq import FrequencyDistribution, DivergenceComputer\n",
    "import random, json\n",
    "from typing import List\n",
    "from parseq.grammar import taglisp_to_tree\n",
    "from nltk import Tree\n",
    "from tqdm import tqdm"
   ]
  },
  {
   "cell_type": "code",
   "execution_count": null,
   "outputs": [],
   "source": [
    "ds = CFQDatasetLoader().load(split=\"mcd1/modent\", keepids=True)\n"
   ],
   "metadata": {
    "collapsed": false,
    "pycharm": {
     "name": "#%%\n"
    }
   }
  },
  {
   "cell_type": "code",
   "execution_count": null,
   "outputs": [],
   "source": [
    "xs = ds.examples\n",
    "random.shuffle(xs)"
   ],
   "metadata": {
    "collapsed": false,
    "pycharm": {
     "name": "#%%\n"
    }
   }
  },
  {
   "cell_type": "code",
   "execution_count": null,
   "outputs": [],
   "source": [
    "def compute_example_overlap(comps, dist):   # how many of the compounds have already been observed in the given dist\n",
    "    overlap = 0\n",
    "    unoverlap = 0\n",
    "    total = 0\n",
    "    for comp in comps:\n",
    "        if comp in dist and dist[comp] > 0:\n",
    "            overlap += 1\n",
    "        else:\n",
    "            unoverlap += 1\n",
    "        total += 1\n",
    "    return overlap / total, unoverlap / total\n",
    "\n",
    "\n",
    "def compute_example_stats(subsets, cds, dc=None):\n",
    "    print(\"Computing stats for all examples\")\n",
    "    stats = {}\n",
    "    cds = {k: v.tofreqs() for k, v in cds.items()}\n",
    "    for subset in subsets:\n",
    "        for example in tqdm(subset):\n",
    "            eid = example[0]\n",
    "            ecomp = dc.extract_compound_dist(example[2]).tofreqs()\n",
    "            # print(len(ecomp))\n",
    "            stats[eid] = (\n",
    "                FrequencyDistribution.compute_chernoff_coeff(cds[\"0\"], ecomp, alpha=0.01),\n",
    "                FrequencyDistribution.compute_chernoff_coeff(cds[\"1\"], ecomp, alpha=0.01),\n",
    "                FrequencyDistribution.compute_chernoff_coeff(cds[\"2\"], ecomp, alpha=0.01),\n",
    "                FrequencyDistribution.compute_chernoff_coeff(cds[\"0\"], ecomp, alpha=0.9),\n",
    "                FrequencyDistribution.compute_chernoff_coeff(cds[\"1\"], ecomp, alpha=0.9),\n",
    "                FrequencyDistribution.compute_chernoff_coeff(cds[\"2\"], ecomp, alpha=0.9),\n",
    "            )\n",
    "    return stats\n",
    "\n",
    "\n",
    "def make_mcd_splits(xs:List, sizes=(0.6, 0.2, 0.2), swapsize=10, iters=10):\n",
    "    assert len(sizes) in (3,)\n",
    "    # make random assignments and compute stats\n",
    "    print(\"making random assigments\")\n",
    "    xs = [(x[0], x[1], taglisp_to_tree(x[2]) if not isinstance(x[2], Tree) else x[2]) for x in xs]\n",
    "    random.shuffle(xs)\n",
    "    subsets = []\n",
    "    prev = 0\n",
    "    for i, s in enumerate(sizes):\n",
    "        if i < len(sizes):\n",
    "            c = int(round(s * len(xs))) + prev\n",
    "            subsets.append(xs[prev:c])\n",
    "            prev = c\n",
    "        else:\n",
    "            subsets.append(xs[prev:])\n",
    "            \n",
    "    print(\"Computing initial compound distributions and their divergences\")\n",
    "    cds = {}\n",
    "    dc = DivergenceComputer()\n",
    "    for i, subset in enumerate(subsets):\n",
    "        cds[str(i)] = dc.compute_compound_distribution(subset)\n",
    "    \n",
    "    divs = dc._compute_compound_divergences(cds)\n",
    "    print(\"Initial compound divergences\")\n",
    "    print(json.dumps(divs, indent=3))\n",
    "    \n",
    "    \"\"\"\n",
    "    print(subsets[0][0])\n",
    "    comps = dc.extract_compounds(taglisp_to_tree(subsets[0][0][2]))\n",
    "    print(compute_example_overlap(comps, cds[\"2\"]))\n",
    "    compdist = dc.extract_compound_dist(taglisp_to_tree(subsets[0][0][2]))\n",
    "    print(FrequencyDistribution.compute_chernoff_coeff(cds[\"2\"], compdist, alpha=0.1))\n",
    "    \"\"\"\n",
    "    \n",
    "    print(\"Iterating\")\n",
    "    # in every iteration, we find for each split the examples that would improve the divergence most and perform one swap\n",
    "    # remove from train set all compounds that are present in test-ood and ood2\n",
    "    # remove from ood2 all compounds that are present in test-ood\n",
    "    # ==> test-ood would contain entirely novel compounds that have not been trained on and have not been validated with\n",
    "    while iters > 0:\n",
    "        stats = compute_example_stats(subsets, cds, dc=dc)   # initial stats\n",
    "        \n",
    "        # train --> test-ood\n",
    "        examples = subsets[0]\n",
    "        scored = [(i, stats[examples[i][0]][2]) for i in range(len(examples))]\n",
    "        scored = sorted(scored, key=lambda x: x[1], reverse=True)\n",
    "        scored = [examples[i] for i, score in scored]\n",
    "        traintotest, traintotrain = scored[:swapsize], scored[swapsize:]\n",
    "        \n",
    "        # train -> ood2\n",
    "        examples = traintotrain\n",
    "        scored = [(i, stats[examples[i][0]][1]) for i in range(len(examples))]\n",
    "        scored = sorted(scored, key=lambda x: x[1], reverse=True)\n",
    "        scored = [examples[i] for i, score in scored]\n",
    "        traintoood2, traintotrain = scored[:swapsize], scored[swapsize:]\n",
    "        \n",
    "        # ood2 -> test-ood\n",
    "        examples = subsets[1]\n",
    "        scored = [(i, stats[examples[i][0]][2]) for i in range(len(examples))]\n",
    "        scored = sorted(scored, key=lambda x: x[1], reverse=True)\n",
    "        scored = [examples[i] for i, score in scored]\n",
    "        ood2totest, ood2toood2 = scored[:swapsize], scored[swapsize:]\n",
    "        \n",
    "        # ood2 -> train\n",
    "        examples = ood2toood2\n",
    "        scored = [(i, stats[examples[i][0]][3]) for i in range(len(examples))]\n",
    "        scored = sorted(scored, key=lambda x: x[1], reverse=True)\n",
    "        scored = [examples[i] for i, score in scored]\n",
    "        ood2totrain, ood2toood2 = scored[:swapsize], scored[swapsize:]\n",
    "        \n",
    "        # test-ood --> train\n",
    "        examples = subsets[2]\n",
    "        scored = [(i, stats[examples[i][0]][3]) for i in range(len(examples))]\n",
    "        scored = sorted(scored, key=lambda x: x[1], reverse=True)\n",
    "        scored = [examples[i] for i, score in scored]\n",
    "        testtotrain, testtotest = scored[:swapsize], scored[swapsize:]\n",
    "        \n",
    "        # test-ood --> ood2\n",
    "        examples = testtotest\n",
    "        scored = [(i, stats[examples[i][0]][4]) for i in range(len(examples))]\n",
    "        scored = sorted(scored, key=lambda x: x[1], reverse=True)\n",
    "        scored = [examples[i] for i, score in scored]\n",
    "        testtoood2, testtotest = scored[:swapsize], scored[swapsize:]\n",
    "        \n",
    "        subsets = [traintotrain + ood2totrain + testtotrain, \n",
    "                   ood2toood2 + traintoood2 + testtoood2,\n",
    "                   testtotest + traintotest + ood2totest]\n",
    "        \n",
    "        \n",
    "        # updating compound distribution and computing divergences\n",
    "        print(\"updating compound distributions and computing divergences\")\n",
    "        cds = {}\n",
    "        for i, subset in enumerate(subsets):\n",
    "            cds[str(i)] = dc.compute_compound_distribution(subset)\n",
    "        divs = dc._compute_compound_divergences(cds)\n",
    "        print(json.dumps(divs, indent=3))\n",
    "        \n",
    "        iters -= 1\n",
    "    \n",
    "            \n",
    "    return cds"
   ],
   "metadata": {
    "collapsed": false,
    "pycharm": {
     "name": "#%%\n"
    }
   }
  },
  {
   "cell_type": "code",
   "execution_count": null,
   "outputs": [],
   "source": [
    "dss = make_mcd_splits(xs[:1000])"
   ],
   "metadata": {
    "collapsed": false,
    "pycharm": {
     "name": "#%%\n"
    }
   }
  },
  {
   "cell_type": "code",
   "execution_count": null,
   "outputs": [],
   "source": [
    "### len(dss[0]), len(dss[1]), len(dss[2])"
   ],
   "metadata": {
    "collapsed": false,
    "pycharm": {
     "name": "#%%\n"
    }
   }
  },
  {
   "cell_type": "code",
   "execution_count": null,
   "outputs": [],
   "source": [
    "dss[0]._counts"
   ],
   "metadata": {
    "collapsed": false,
    "pycharm": {
     "name": "#%%\n"
    }
   }
  },
  {
   "cell_type": "code",
   "execution_count": null,
   "outputs": [],
   "source": [
    "0.00001 ** 0.01"
   ],
   "metadata": {
    "collapsed": false,
    "pycharm": {
     "name": "#%%\n"
    }
   }
  },
  {
   "cell_type": "code",
   "execution_count": 3,
   "metadata": {
    "pycharm": {
     "name": "#%%\n"
    }
   },
   "outputs": [
    {
     "name": "stdout",
     "output_type": "stream",
     "text": [
      "CFQDatasetLoader: make data\n",
      "CFQDatasetLoader: make data in 0.0 sec\n",
      "loading split 'mcd1'\n",
      "splitting off a random 10% of 'train' for 'iidvalid' using seed 42\n",
      "doing 'train'\n"
     ]
    },
    {
     "name": "stderr",
     "output_type": "stream",
     "text": [
      "100%|█████████████████████████████████████████████████████████████████████████████████████████████████████████████████████████████| 86169/86169 [00:22<00:00, 3887.74it/s]\n"
     ]
    },
    {
     "name": "stdout",
     "output_type": "stream",
     "text": [
      "doing 'test'\n"
     ]
    },
    {
     "name": "stderr",
     "output_type": "stream",
     "text": [
      "100%|█████████████████████████████████████████████████████████████████████████████████████████████████████████████████████████████| 11968/11968 [00:03<00:00, 3327.70it/s]\n"
     ]
    },
    {
     "name": "stdout",
     "output_type": "stream",
     "text": [
      "doing 'iidvalid'\n"
     ]
    },
    {
     "name": "stderr",
     "output_type": "stream",
     "text": [
      "100%|███████████████████████████████████████████████████████████████████████████████████████████████████████████████████████████████| 9574/9574 [00:02<00:00, 3951.28it/s]\n"
     ]
    },
    {
     "name": "stdout",
     "output_type": "stream",
     "text": [
      "doing 'oodvalid'\n"
     ]
    },
    {
     "name": "stderr",
     "output_type": "stream",
     "text": [
      "100%|█████████████████████████████████████████████████████████████████████████████████████████████████████████████████████████████| 11968/11968 [00:03<00:00, 3317.26it/s]\n"
     ]
    }
   ],
   "source": [
    "0.00001 ** 0.01"
   ]
  },
  {
   "cell_type": "code",
   "execution_count": 4,
   "metadata": {},
   "outputs": [],
   "source": [
    "xs = ds.examples\n",
    "random.shuffle(xs)"
   ]
  },
  {
   "cell_type": "code",
   "execution_count": 12,
   "metadata": {},
   "outputs": [],
   "source": [
    "def compute_example_overlap(comps, dist):   # how many of the compounds have already been observed in the given dist\n",
    "    overlap = 0\n",
    "    unoverlap = 0\n",
    "    total = 0\n",
    "    for comp in comps:\n",
    "        if comp in dist and dist[comp] > 0:\n",
    "            overlap += 1\n",
    "        else:\n",
    "            unoverlap += 1\n",
    "        total += 1\n",
    "    return overlap / total, unoverlap / total\n",
    "\n",
    "\n",
    "def compute_example_stats(subsets, cds, dc=None):\n",
    "    print(\"Computing stats for all examples\")\n",
    "    stats = {}\n",
    "    cds = {k: v.tofreqs() for k, v in cds.items()}\n",
    "    for subset in subsets:\n",
    "        for example in tqdm(subset):\n",
    "            eid = example[0]\n",
    "            ecomp = dc.extract_compound_dist(example[2]).tofreqs()\n",
    "            # print(len(ecomp))\n",
    "            stats[eid] = (\n",
    "                FrequencyDistribution.compute_chernoff_coeff(cds[\"0\"], ecomp, alpha=0.01),\n",
    "                FrequencyDistribution.compute_chernoff_coeff(cds[\"1\"], ecomp, alpha=0.01),\n",
    "                FrequencyDistribution.compute_chernoff_coeff(cds[\"2\"], ecomp, alpha=0.01),\n",
    "                FrequencyDistribution.compute_chernoff_coeff(cds[\"0\"], ecomp, alpha=0.9),\n",
    "                FrequencyDistribution.compute_chernoff_coeff(cds[\"1\"], ecomp, alpha=0.9),\n",
    "                FrequencyDistribution.compute_chernoff_coeff(cds[\"2\"], ecomp, alpha=0.9),\n",
    "            )\n",
    "    return stats\n",
    "\n",
    "\n",
    "def make_mcd_splits(xs:List, sizes=(0.6, 0.2, 0.2), swapsize=10, iters=10):\n",
    "    assert len(sizes) in (3,)\n",
    "    # make random assignments and compute stats\n",
    "    print(\"making random assigments\")\n",
    "    xs = [(x[0], x[1], taglisp_to_tree(x[2]) if not isinstance(x[2], Tree) else x[2]) for x in xs]\n",
    "    random.shuffle(xs)\n",
    "    subsets = []\n",
    "    prev = 0\n",
    "    for i, s in enumerate(sizes):\n",
    "        if i < len(sizes):\n",
    "            c = int(round(s * len(xs))) + prev\n",
    "            subsets.append(xs[prev:c])\n",
    "            prev = c\n",
    "        else:\n",
    "            subsets.append(xs[prev:])\n",
    "            \n",
    "    print(\"Computing initial compound distributions and their divergences\")\n",
    "    cds = {}\n",
    "    dc = DivergenceComputer()\n",
    "    for i, subset in enumerate(subsets):\n",
    "        cds[str(i)] = dc.compute_compound_distribution(subset)\n",
    "    \n",
    "    divs = dc._compute_compound_divergences(cds)\n",
    "    print(\"Initial compound divergences\")\n",
    "    print(json.dumps(divs, indent=3))\n",
    "    \n",
    "    \"\"\"\n",
    "    print(subsets[0][0])\n",
    "    comps = dc.extract_compounds(taglisp_to_tree(subsets[0][0][2]))\n",
    "    print(compute_example_overlap(comps, cds[\"2\"]))\n",
    "    compdist = dc.extract_compound_dist(taglisp_to_tree(subsets[0][0][2]))\n",
    "    print(FrequencyDistribution.compute_chernoff_coeff(cds[\"2\"], compdist, alpha=0.1))\n",
    "    \"\"\"\n",
    "    \n",
    "    print(\"Iterating\")\n",
    "    # in every iteration, we find for each split the examples that would improve the divergence most and perform one swap\n",
    "    # remove from train set all compounds that are present in test-ood and ood2\n",
    "    # remove from ood2 all compounds that are present in test-ood\n",
    "    # ==> test-ood would contain entirely novel compounds that have not been trained on and have not been validated with\n",
    "    while iters > 0:\n",
    "        stats = compute_example_stats(subsets, cds, dc=dc)   # initial stats\n",
    "        \n",
    "        # train --> test-ood\n",
    "        examples = subsets[0]\n",
    "        scored = [(i, stats[examples[i][0]][2]) for i in range(len(examples))]\n",
    "        scored = sorted(scored, key=lambda x: x[1], reverse=True)\n",
    "        scored = [examples[i] for i, score in scored]\n",
    "        traintotest, traintotrain = scored[:swapsize], scored[swapsize:]\n",
    "        \n",
    "        # train -> ood2\n",
    "        examples = traintotrain\n",
    "        scored = [(i, stats[examples[i][0]][1]) for i in range(len(examples))]\n",
    "        scored = sorted(scored, key=lambda x: x[1], reverse=True)\n",
    "        scored = [examples[i] for i, score in scored]\n",
    "        traintoood2, traintotrain = scored[:swapsize], scored[swapsize:]\n",
    "        \n",
    "        # ood2 -> test-ood\n",
    "        examples = subsets[1]\n",
    "        scored = [(i, stats[examples[i][0]][2]) for i in range(len(examples))]\n",
    "        scored = sorted(scored, key=lambda x: x[1], reverse=True)\n",
    "        scored = [examples[i] for i, score in scored]\n",
    "        ood2totest, ood2toood2 = scored[:swapsize], scored[swapsize:]\n",
    "        \n",
    "        # ood2 -> train\n",
    "        examples = ood2toood2\n",
    "        scored = [(i, stats[examples[i][0]][3]) for i in range(len(examples))]\n",
    "        scored = sorted(scored, key=lambda x: x[1], reverse=True)\n",
    "        scored = [examples[i] for i, score in scored]\n",
    "        ood2totrain, ood2toood2 = scored[:swapsize], scored[swapsize:]\n",
    "        \n",
    "        # test-ood --> train\n",
    "        examples = subsets[2]\n",
    "        scored = [(i, stats[examples[i][0]][3]) for i in range(len(examples))]\n",
    "        scored = sorted(scored, key=lambda x: x[1], reverse=True)\n",
    "        scored = [examples[i] for i, score in scored]\n",
    "        testtotrain, testtotest = scored[:swapsize], scored[swapsize:]\n",
    "        \n",
    "        # test-ood --> ood2\n",
    "        examples = testtotest\n",
    "        scored = [(i, stats[examples[i][0]][4]) for i in range(len(examples))]\n",
    "        scored = sorted(scored, key=lambda x: x[1], reverse=True)\n",
    "        scored = [examples[i] for i, score in scored]\n",
    "        testtoood2, testtotest = scored[:swapsize], scored[swapsize:]\n",
    "        \n",
    "        subsets = [traintotrain + ood2totrain + testtotrain, \n",
    "                   ood2toood2 + traintoood2 + testtoood2,\n",
    "                   testtotest + traintotest + ood2totest]\n",
    "        \n",
    "        \n",
    "        # updating compound distribution and computing divergences\n",
    "        print(\"updating compound distributions and computing divergences\")\n",
    "        cds = {}\n",
    "        for i, subset in enumerate(subsets):\n",
    "            cds[str(i)] = dc.compute_compound_distribution(subset)\n",
    "        divs = dc._compute_compound_divergences(cds)\n",
    "        print(json.dumps(divs, indent=3))\n",
    "        \n",
    "        iters -= 1\n",
    "    \n",
    "            \n",
    "    return cds"
   ]
  },
  {
   "cell_type": "code",
   "execution_count": 13,
   "metadata": {},
   "outputs": [
    {
     "name": "stdout",
     "output_type": "stream",
     "text": [
      "making random assigments\n",
      "Computing initial compound distributions and their divergences\n"
     ]
    },
    {
     "name": "stderr",
     "output_type": "stream",
     "text": [
      "100%|█████████████████████████████████████████████████████████████████████████████████████████████████████████████████████████████████| 600/600 [00:00<00:00, 1049.27it/s]\n",
      "100%|█████████████████████████████████████████████████████████████████████████████████████████████████████████████████████████████████| 200/200 [00:00<00:00, 1030.90it/s]\n",
      "100%|█████████████████████████████████████████████████████████████████████████████████████████████████████████████████████████████████| 200/200 [00:00<00:00, 1129.10it/s]\n"
     ]
    },
    {
     "name": "stdout",
     "output_type": "stream",
     "text": [
      "Initial compound divergences\n",
      "{\n",
      "   \"0-0\": -3.9124259387790516e-13,\n",
      "   \"0-1\": 0.5250916339795171,\n",
      "   \"0-2\": 0.555126373303761,\n",
      "   \"1-0\": 0.6578991159015115,\n",
      "   \"1-1\": 9.481304630298837e-14,\n",
      "   \"1-2\": 0.6901829090683067,\n",
      "   \"2-0\": 0.6580363095261349,\n",
      "   \"2-1\": 0.665918151138407,\n",
      "   \"2-2\": -2.327027459614328e-13\n",
      "}\n",
      "Iterating\n",
      "Computing stats for all examples\n"
     ]
    },
    {
     "name": "stderr",
     "output_type": "stream",
     "text": [
      "100%|██████████████████████████████████████████████████████████████████████████████████████████████████████████████████████████████████| 600/600 [00:00<00:00, 859.86it/s]\n",
      "100%|█████████████████████████████████████████████████████████████████████████████████████████████████████████████████████████████████| 200/200 [00:00<00:00, 1045.74it/s]\n",
      "100%|██████████████████████████████████████████████████████████████████████████████████████████████████████████████████████████████████| 200/200 [00:00<00:00, 921.46it/s]\n"
     ]
    },
    {
     "name": "stdout",
     "output_type": "stream",
     "text": [
      "updating compound distributions and computing divergences\n"
     ]
    },
    {
     "name": "stderr",
     "output_type": "stream",
     "text": [
      "100%|██████████████████████████████████████████████████████████████████████████████████████████████████████████████████████████████████| 600/600 [00:00<00:00, 955.84it/s]\n",
      "100%|█████████████████████████████████████████████████████████████████████████████████████████████████████████████████████████████████| 200/200 [00:00<00:00, 1398.45it/s]\n",
      "100%|█████████████████████████████████████████████████████████████████████████████████████████████████████████████████████████████████| 200/200 [00:00<00:00, 1505.32it/s]\n"
     ]
    },
    {
     "name": "stdout",
     "output_type": "stream",
     "text": [
      "{\n",
      "   \"0-0\": -7.984723993104126e-13,\n",
      "   \"0-1\": 0.5933692292301183,\n",
      "   \"0-2\": 0.5704133748292788,\n",
      "   \"1-0\": 0.7497407377708445,\n",
      "   \"1-1\": -1.4921397450962104e-13,\n",
      "   \"1-2\": 0.7391748118694375,\n",
      "   \"2-0\": 0.7194688091533743,\n",
      "   \"2-1\": 0.7446125736025857,\n",
      "   \"2-2\": -1.254552017826427e-13\n",
      "}\n",
      "Computing stats for all examples\n"
     ]
    },
    {
     "name": "stderr",
     "output_type": "stream",
     "text": [
      "100%|██████████████████████████████████████████████████████████████████████████████████████████████████████████████████████████████████| 600/600 [00:00<00:00, 783.59it/s]\n",
      "100%|█████████████████████████████████████████████████████████████████████████████████████████████████████████████████████████████████| 200/200 [00:00<00:00, 1180.50it/s]\n",
      "100%|█████████████████████████████████████████████████████████████████████████████████████████████████████████████████████████████████| 200/200 [00:00<00:00, 1239.07it/s]\n"
     ]
    },
    {
     "name": "stdout",
     "output_type": "stream",
     "text": [
      "updating compound distributions and computing divergences\n"
     ]
    },
    {
     "name": "stderr",
     "output_type": "stream",
     "text": [
      "100%|██████████████████████████████████████████████████████████████████████████████████████████████████████████████████████████████████| 600/600 [00:00<00:00, 910.83it/s]\n",
      "100%|█████████████████████████████████████████████████████████████████████████████████████████████████████████████████████████████████| 200/200 [00:00<00:00, 1547.63it/s]\n",
      "100%|█████████████████████████████████████████████████████████████████████████████████████████████████████████████████████████████████| 200/200 [00:00<00:00, 1642.26it/s]\n"
     ]
    },
    {
     "name": "stdout",
     "output_type": "stream",
     "text": [
      "{\n",
      "   \"0-0\": -4.445332990599127e-13,\n",
      "   \"0-1\": 0.6348843433836008,\n",
      "   \"0-2\": 0.5609010201611504,\n",
      "   \"1-0\": 0.8115173127683935,\n",
      "   \"1-1\": 2.1960211427085596e-13,\n",
      "   \"1-2\": 0.7683368388097226,\n",
      "   \"2-0\": 0.7362369690387771,\n",
      "   \"2-1\": 0.7794318778137026,\n",
      "   \"2-2\": 1.496580637194711e-13\n",
      "}\n",
      "Computing stats for all examples\n"
     ]
    },
    {
     "name": "stderr",
     "output_type": "stream",
     "text": [
      "100%|██████████████████████████████████████████████████████████████████████████████████████████████████████████████████████████████████| 600/600 [00:00<00:00, 751.89it/s]\n",
      "100%|█████████████████████████████████████████████████████████████████████████████████████████████████████████████████████████████████| 200/200 [00:00<00:00, 1289.77it/s]\n",
      "100%|█████████████████████████████████████████████████████████████████████████████████████████████████████████████████████████████████| 200/200 [00:00<00:00, 1343.99it/s]\n"
     ]
    },
    {
     "name": "stdout",
     "output_type": "stream",
     "text": [
      "updating compound distributions and computing divergences\n"
     ]
    },
    {
     "name": "stderr",
     "output_type": "stream",
     "text": [
      "100%|██████████████████████████████████████████████████████████████████████████████████████████████████████████████████████████████████| 600/600 [00:00<00:00, 944.13it/s]\n",
      "100%|█████████████████████████████████████████████████████████████████████████████████████████████████████████████████████████████████| 200/200 [00:00<00:00, 1600.99it/s]\n",
      "100%|█████████████████████████████████████████████████████████████████████████████████████████████████████████████████████████████████| 200/200 [00:00<00:00, 1597.62it/s]\n"
     ]
    },
    {
     "name": "stdout",
     "output_type": "stream",
     "text": [
      "{\n",
      "   \"0-0\": -1.6076029396572267e-13,\n",
      "   \"0-1\": 0.6549130709216793,\n",
      "   \"0-2\": 0.5136351838865231,\n",
      "   \"1-0\": 0.8240538857566662,\n",
      "   \"1-1\": -1.7763568394002505e-14,\n",
      "   \"1-2\": 0.8052819155700657,\n",
      "   \"2-0\": 0.7560957392549554,\n",
      "   \"2-1\": 0.8115467971611872,\n",
      "   \"2-2\": -1.1124434706744069e-13\n",
      "}\n",
      "Computing stats for all examples\n"
     ]
    },
    {
     "name": "stderr",
     "output_type": "stream",
     "text": [
      "100%|██████████████████████████████████████████████████████████████████████████████████████████████████████████████████████████████████| 600/600 [00:00<00:00, 772.61it/s]\n",
      "100%|█████████████████████████████████████████████████████████████████████████████████████████████████████████████████████████████████| 200/200 [00:00<00:00, 1242.47it/s]\n",
      "100%|█████████████████████████████████████████████████████████████████████████████████████████████████████████████████████████████████| 200/200 [00:00<00:00, 1343.69it/s]\n"
     ]
    },
    {
     "name": "stdout",
     "output_type": "stream",
     "text": [
      "updating compound distributions and computing divergences\n"
     ]
    },
    {
     "name": "stderr",
     "output_type": "stream",
     "text": [
      "100%|██████████████████████████████████████████████████████████████████████████████████████████████████████████████████████████████████| 600/600 [00:00<00:00, 904.00it/s]\n",
      "100%|█████████████████████████████████████████████████████████████████████████████████████████████████████████████████████████████████| 200/200 [00:00<00:00, 1683.61it/s]\n",
      "100%|█████████████████████████████████████████████████████████████████████████████████████████████████████████████████████████████████| 200/200 [00:00<00:00, 1713.56it/s]\n"
     ]
    },
    {
     "name": "stdout",
     "output_type": "stream",
     "text": [
      "{\n",
      "   \"0-0\": -3.2240876635114546e-13,\n",
      "   \"0-1\": 0.65984230351862,\n",
      "   \"0-2\": 0.5472492056373799,\n",
      "   \"1-0\": 0.8276367014390724,\n",
      "   \"1-1\": -1.3167245072054357e-13,\n",
      "   \"1-2\": 0.8055922105502843,\n",
      "   \"2-0\": 0.7606939241337667,\n",
      "   \"2-1\": 0.8166970919018188,\n",
      "   \"2-2\": -3.108624468950438e-14\n",
      "}\n",
      "Computing stats for all examples\n"
     ]
    },
    {
     "name": "stderr",
     "output_type": "stream",
     "text": [
      "100%|██████████████████████████████████████████████████████████████████████████████████████████████████████████████████████████████████| 600/600 [00:00<00:00, 699.74it/s]\n",
      "100%|█████████████████████████████████████████████████████████████████████████████████████████████████████████████████████████████████| 200/200 [00:00<00:00, 1291.80it/s]\n",
      "100%|█████████████████████████████████████████████████████████████████████████████████████████████████████████████████████████████████| 200/200 [00:00<00:00, 1352.11it/s]\n"
     ]
    },
    {
     "name": "stdout",
     "output_type": "stream",
     "text": [
      "updating compound distributions and computing divergences\n"
     ]
    },
    {
     "name": "stderr",
     "output_type": "stream",
     "text": [
      "100%|██████████████████████████████████████████████████████████████████████████████████████████████████████████████████████████████████| 600/600 [00:00<00:00, 934.47it/s]\n",
      "100%|█████████████████████████████████████████████████████████████████████████████████████████████████████████████████████████████████| 200/200 [00:00<00:00, 1495.09it/s]\n",
      "100%|█████████████████████████████████████████████████████████████████████████████████████████████████████████████████████████████████| 200/200 [00:00<00:00, 1658.94it/s]\n"
     ]
    },
    {
     "name": "stdout",
     "output_type": "stream",
     "text": [
      "{\n",
      "   \"0-0\": 9.703349235223868e-14,\n",
      "   \"0-1\": 0.662546196158652,\n",
      "   \"0-2\": 0.5400803498157041,\n",
      "   \"1-0\": 0.833845108429601,\n",
      "   \"1-1\": 2.3314683517128287e-14,\n",
      "   \"1-2\": 0.8122647721294249,\n",
      "   \"2-0\": 0.7680963164785753,\n",
      "   \"2-1\": 0.8153892404422602,\n",
      "   \"2-2\": -9.969802761133906e-14\n",
      "}\n",
      "Computing stats for all examples\n"
     ]
    },
    {
     "name": "stderr",
     "output_type": "stream",
     "text": [
      "100%|██████████████████████████████████████████████████████████████████████████████████████████████████████████████████████████████████| 600/600 [00:00<00:00, 752.40it/s]\n",
      "100%|█████████████████████████████████████████████████████████████████████████████████████████████████████████████████████████████████| 200/200 [00:00<00:00, 1305.78it/s]\n",
      "100%|█████████████████████████████████████████████████████████████████████████████████████████████████████████████████████████████████| 200/200 [00:00<00:00, 1355.62it/s]\n"
     ]
    },
    {
     "name": "stdout",
     "output_type": "stream",
     "text": [
      "updating compound distributions and computing divergences\n"
     ]
    },
    {
     "name": "stderr",
     "output_type": "stream",
     "text": [
      "100%|██████████████████████████████████████████████████████████████████████████████████████████████████████████████████████████████████| 600/600 [00:00<00:00, 907.63it/s]\n",
      "100%|█████████████████████████████████████████████████████████████████████████████████████████████████████████████████████████████████| 200/200 [00:00<00:00, 1567.83it/s]\n",
      "100%|█████████████████████████████████████████████████████████████████████████████████████████████████████████████████████████████████| 200/200 [00:00<00:00, 1660.71it/s]\n"
     ]
    },
    {
     "name": "stdout",
     "output_type": "stream",
     "text": [
      "{\n",
      "   \"0-0\": 1.1224354778960333e-13,\n",
      "   \"0-1\": 0.6613271190890007,\n",
      "   \"0-2\": 0.5480130545157214,\n",
      "   \"1-0\": 0.8341496123240327,\n",
      "   \"1-1\": 1.6142642778049776e-13,\n",
      "   \"1-2\": 0.8061483263160267,\n",
      "   \"2-0\": 0.7604498800504997,\n",
      "   \"2-1\": 0.8084972135230023,\n",
      "   \"2-2\": -1.5898393712632242e-13\n",
      "}\n",
      "Computing stats for all examples\n"
     ]
    },
    {
     "name": "stderr",
     "output_type": "stream",
     "text": [
      "100%|██████████████████████████████████████████████████████████████████████████████████████████████████████████████████████████████████| 600/600 [00:00<00:00, 753.81it/s]\n",
      "100%|█████████████████████████████████████████████████████████████████████████████████████████████████████████████████████████████████| 200/200 [00:00<00:00, 1367.99it/s]\n",
      "100%|█████████████████████████████████████████████████████████████████████████████████████████████████████████████████████████████████| 200/200 [00:00<00:00, 1403.29it/s]\n"
     ]
    },
    {
     "name": "stdout",
     "output_type": "stream",
     "text": [
      "updating compound distributions and computing divergences\n"
     ]
    },
    {
     "name": "stderr",
     "output_type": "stream",
     "text": [
      "100%|██████████████████████████████████████████████████████████████████████████████████████████████████████████████████████████████████| 600/600 [00:00<00:00, 906.04it/s]\n",
      "100%|█████████████████████████████████████████████████████████████████████████████████████████████████████████████████████████████████| 200/200 [00:00<00:00, 1596.88it/s]\n",
      "100%|█████████████████████████████████████████████████████████████████████████████████████████████████████████████████████████████████| 200/200 [00:00<00:00, 1652.73it/s]\n"
     ]
    },
    {
     "name": "stdout",
     "output_type": "stream",
     "text": [
      "{\n",
      "   \"0-0\": 1.0014211682118912e-13,\n",
      "   \"0-1\": 0.6661797194972137,\n",
      "   \"0-2\": 0.5370706514176466,\n",
      "   \"1-0\": 0.8417304203292475,\n",
      "   \"1-1\": 4.007905118896815e-14,\n",
      "   \"1-2\": 0.8114222536712478,\n",
      "   \"2-0\": 0.7701890374252388,\n",
      "   \"2-1\": 0.8014776193103039,\n",
      "   \"2-2\": -6.23945339839338e-14\n",
      "}\n",
      "Computing stats for all examples\n"
     ]
    },
    {
     "name": "stderr",
     "output_type": "stream",
     "text": [
      "100%|██████████████████████████████████████████████████████████████████████████████████████████████████████████████████████████████████| 600/600 [00:00<00:00, 776.70it/s]\n",
      "100%|█████████████████████████████████████████████████████████████████████████████████████████████████████████████████████████████████| 200/200 [00:00<00:00, 1353.32it/s]\n",
      "100%|█████████████████████████████████████████████████████████████████████████████████████████████████████████████████████████████████| 200/200 [00:00<00:00, 1190.09it/s]\n"
     ]
    },
    {
     "name": "stdout",
     "output_type": "stream",
     "text": [
      "updating compound distributions and computing divergences\n"
     ]
    },
    {
     "name": "stderr",
     "output_type": "stream",
     "text": [
      "100%|██████████████████████████████████████████████████████████████████████████████████████████████████████████████████████████████████| 600/600 [00:00<00:00, 921.95it/s]\n",
      "100%|█████████████████████████████████████████████████████████████████████████████████████████████████████████████████████████████████| 200/200 [00:00<00:00, 1587.67it/s]\n",
      "100%|█████████████████████████████████████████████████████████████████████████████████████████████████████████████████████████████████| 200/200 [00:00<00:00, 1625.74it/s]\n"
     ]
    },
    {
     "name": "stdout",
     "output_type": "stream",
     "text": [
      "{\n",
      "   \"0-0\": -6.743494651573201e-13,\n",
      "   \"0-1\": 0.6576267285356832,\n",
      "   \"0-2\": 0.5432897026139809,\n",
      "   \"1-0\": 0.8450457192881349,\n",
      "   \"1-1\": -1.0547118733938987e-13,\n",
      "   \"1-2\": 0.7912624153050901,\n",
      "   \"2-0\": 0.7661073081447632,\n",
      "   \"2-1\": 0.7999523950863328,\n",
      "   \"2-2\": 1.191269305422793e-13\n",
      "}\n",
      "Computing stats for all examples\n"
     ]
    },
    {
     "name": "stderr",
     "output_type": "stream",
     "text": [
      "100%|██████████████████████████████████████████████████████████████████████████████████████████████████████████████████████████████████| 600/600 [00:00<00:00, 749.25it/s]\n",
      "100%|█████████████████████████████████████████████████████████████████████████████████████████████████████████████████████████████████| 200/200 [00:00<00:00, 1415.03it/s]\n",
      "100%|█████████████████████████████████████████████████████████████████████████████████████████████████████████████████████████████████| 200/200 [00:00<00:00, 1292.88it/s]\n"
     ]
    },
    {
     "name": "stdout",
     "output_type": "stream",
     "text": [
      "updating compound distributions and computing divergences\n"
     ]
    },
    {
     "name": "stderr",
     "output_type": "stream",
     "text": [
      "100%|██████████████████████████████████████████████████████████████████████████████████████████████████████████████████████████████████| 600/600 [00:00<00:00, 849.30it/s]\n",
      "100%|█████████████████████████████████████████████████████████████████████████████████████████████████████████████████████████████████| 200/200 [00:00<00:00, 1745.84it/s]\n",
      "100%|█████████████████████████████████████████████████████████████████████████████████████████████████████████████████████████████████| 200/200 [00:00<00:00, 1516.16it/s]\n"
     ]
    },
    {
     "name": "stdout",
     "output_type": "stream",
     "text": [
      "{\n",
      "   \"0-0\": 2.667865928174251e-13,\n",
      "   \"0-1\": 0.6575852822672847,\n",
      "   \"0-2\": 0.5375946508122367,\n",
      "   \"1-0\": 0.8567379827178419,\n",
      "   \"1-1\": 1.2445600106048005e-13,\n",
      "   \"1-2\": 0.8101163716336874,\n",
      "   \"2-0\": 0.7734075170099721,\n",
      "   \"2-1\": 0.7866545206448482,\n",
      "   \"2-2\": 5.81756864903582e-14\n",
      "}\n",
      "Computing stats for all examples\n"
     ]
    },
    {
     "name": "stderr",
     "output_type": "stream",
     "text": [
      "100%|██████████████████████████████████████████████████████████████████████████████████████████████████████████████████████████████████| 600/600 [00:00<00:00, 731.24it/s]\n",
      "100%|█████████████████████████████████████████████████████████████████████████████████████████████████████████████████████████████████| 200/200 [00:00<00:00, 1482.80it/s]\n",
      "100%|█████████████████████████████████████████████████████████████████████████████████████████████████████████████████████████████████| 200/200 [00:00<00:00, 1317.98it/s]\n"
     ]
    },
    {
     "name": "stdout",
     "output_type": "stream",
     "text": [
      "updating compound distributions and computing divergences\n"
     ]
    },
    {
     "name": "stderr",
     "output_type": "stream",
     "text": [
      "100%|██████████████████████████████████████████████████████████████████████████████████████████████████████████████████████████████████| 600/600 [00:00<00:00, 917.32it/s]\n",
      "100%|█████████████████████████████████████████████████████████████████████████████████████████████████████████████████████████████████| 200/200 [00:00<00:00, 1884.94it/s]\n",
      "100%|█████████████████████████████████████████████████████████████████████████████████████████████████████████████████████████████████| 200/200 [00:00<00:00, 1673.69it/s]\n"
     ]
    },
    {
     "name": "stdout",
     "output_type": "stream",
     "text": [
      "{\n",
      "   \"0-0\": 1.9517720772910252e-13,\n",
      "   \"0-1\": 0.6721809373543337,\n",
      "   \"0-2\": 0.5430507244363834,\n",
      "   \"1-0\": 0.8636224263672824,\n",
      "   \"1-1\": -8.859579736508749e-14,\n",
      "   \"1-2\": 0.8013676581095405,\n",
      "   \"2-0\": 0.7683812155658005,\n",
      "   \"2-1\": 0.7950097182180946,\n",
      "   \"2-2\": 8.79296635503124e-14\n",
      "}\n"
     ]
    }
   ],
   "source": [
    "dss = make_mcd_splits(xs[:1000])"
   ]
  },
  {
   "cell_type": "code",
   "execution_count": 9,
   "metadata": {},
   "outputs": [],
   "source": [
    "### len(dss[0]), len(dss[1]), len(dss[2])"
   ]
  },
  {
   "cell_type": "code",
   "execution_count": 10,
   "metadata": {},
   "outputs": [
    {
     "ename": "KeyError",
     "evalue": "0",
     "output_type": "error",
     "traceback": [
      "\u001B[0;31m---------------------------------------------------------------------------\u001B[0m",
      "\u001B[0;31mKeyError\u001B[0m                                  Traceback (most recent call last)",
      "\u001B[0;32m/tmp/ipykernel_3563332/3105752673.py\u001B[0m in \u001B[0;36m<module>\u001B[0;34m\u001B[0m\n\u001B[0;32m----> 1\u001B[0;31m \u001B[0mdss\u001B[0m\u001B[0;34m[\u001B[0m\u001B[0;36m0\u001B[0m\u001B[0;34m]\u001B[0m\u001B[0;34m.\u001B[0m\u001B[0m_counts\u001B[0m\u001B[0;34m\u001B[0m\u001B[0;34m\u001B[0m\u001B[0m\n\u001B[0m",
      "\u001B[0;31mKeyError\u001B[0m: 0"
     ]
    }
   ],
   "source": [
    "dss[0]._counts"
   ]
  },
  {
   "cell_type": "code",
   "execution_count": 193,
   "metadata": {},
   "outputs": [
    {
     "data": {
      "text/plain": [
       "0.8912509381337456"
      ]
     },
     "execution_count": 193,
     "metadata": {},
     "output_type": "execute_result"
    }
   ],
   "source": [
    "0.00001 ** 0.01"
   ]
  }
 ],
 "metadata": {
  "kernelspec": {
   "display_name": "Python 3 (ipykernel)",
   "language": "python",
   "name": "python3"
  },
  "language_info": {
   "codemirror_mode": {
    "name": "ipython",
    "version": 3
   },
   "file_extension": ".py",
   "mimetype": "text/x-python",
   "name": "python",
   "nbconvert_exporter": "python",
   "pygments_lexer": "ipython3",
   "version": "3.9.7"
  }
 },
 "nbformat": 4,
 "nbformat_minor": 1
}