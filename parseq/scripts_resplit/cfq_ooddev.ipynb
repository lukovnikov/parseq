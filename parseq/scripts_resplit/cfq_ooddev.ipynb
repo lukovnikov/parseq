{
 "cells": [
  {
   "cell_type": "code",
   "execution_count": 1,
   "metadata": {
    "collapsed": true
   },
   "outputs": [],
   "source": [
    "import json\n",
    "from typing import List, Tuple\n",
    "from nltk import Tree\n",
    "from tqdm import tqdm\n",
    "from parseq.datasets import CFQDatasetLoader\n",
    "from parseq.grammar import taglisp_to_tree\n",
    "from parseq.scripts_resplit.resplit_cfq import DivergenceComputer"
   ]
  },
  {
   "cell_type": "code",
   "execution_count": 2,
   "outputs": [
    {
     "name": "stdout",
     "output_type": "stream",
     "text": [
      "CFQDatasetLoader: make data\n",
      "CFQDatasetLoader: make data in 0.0 sec\n",
      "loading split 'mcd1'\n",
      "doing 'train'\n",
      "doing 'test'\n",
      "doing 'oodvalid'\n",
      "doing 'unused'\n"
     ]
    },
    {
     "name": "stderr",
     "output_type": "stream",
     "text": [
      "100%|██████████| 95743/95743 [00:26<00:00, 3639.20it/s]\n",
      "100%|██████████| 11968/11968 [00:03<00:00, 3127.37it/s]\n",
      "100%|██████████| 11968/11968 [00:03<00:00, 3120.59it/s]\n",
      "100%|██████████| 119678/119678 [00:37<00:00, 3178.92it/s]\n"
     ]
    }
   ],
   "source": [
    "ds = CFQDatasetLoader().load(\"mcd1/modent\", validfrac=0, loadunused=True)"
   ],
   "metadata": {
    "collapsed": false,
    "pycharm": {
     "name": "#%%\n"
    }
   }
  },
  {
   "cell_type": "code",
   "execution_count": 3,
   "outputs": [],
   "source": [
    "dc = DivergenceComputer()"
   ],
   "metadata": {
    "collapsed": false,
    "pycharm": {
     "name": "#%%\n"
    }
   }
  },
  {
   "cell_type": "code",
   "execution_count": 4,
   "outputs": [
    {
     "name": "stderr",
     "output_type": "stream",
     "text": [
      "100%|██████████| 239357/239357 [00:40<00:00, 5881.41it/s]\n"
     ]
    },
    {
     "name": "stdout",
     "output_type": "stream",
     "text": [
      "{\n",
      "   \"train-train\": 0.0,\n",
      "   \"train-test\": 0.03824614256979564,\n",
      "   \"train-oodvalid\": 0.038364187269557926,\n",
      "   \"train-unused\": 0.014322402198022166,\n",
      "   \"test-train\": 0.038246142569795416,\n",
      "   \"test-test\": -4.440892098500626e-16,\n",
      "   \"test-oodvalid\": 9.497392817781058e-05,\n",
      "   \"test-unused\": 0.00961599334917751,\n",
      "   \"oodvalid-train\": 0.03836418726955815,\n",
      "   \"oodvalid-test\": 9.497392817769956e-05,\n",
      "   \"oodvalid-oodvalid\": 1.1102230246251565e-16,\n",
      "   \"oodvalid-unused\": 0.009726062600495133,\n",
      "   \"unused-train\": 0.014322402198022166,\n",
      "   \"unused-test\": 0.009615993349177399,\n",
      "   \"unused-oodvalid\": 0.009726062600495133,\n",
      "   \"unused-unused\": 5.551115123125783e-16\n",
      "}\n"
     ]
    }
   ],
   "source": [
    "atom_dists = dc.compute_atom_distributions(ds)\n",
    "print(json.dumps(dc._compute_atom_divergences(atom_dists), indent=3))"
   ],
   "metadata": {
    "collapsed": false,
    "pycharm": {
     "name": "#%%\n"
    }
   }
  },
  {
   "cell_type": "code",
   "execution_count": null,
   "outputs": [
    {
     "name": "stderr",
     "output_type": "stream",
     "text": [
      " 63%|██████▎   | 151547/239357 [02:00<00:53, 1634.39it/s]"
     ]
    }
   ],
   "source": [
    "comp_dists = dc.compute_compound_distributions(ds)\n",
    "print(json.dumps(dc._compute_compound_divergences(comp_dists), indent=3))"
   ],
   "metadata": {
    "collapsed": false,
    "pycharm": {
     "name": "#%%\n",
     "is_executing": true
    }
   }
  },
  {
   "cell_type": "code",
   "execution_count": null,
   "outputs": [],
   "source": [
    "def get_dist_similarity(x, dist):\n",
    "    score = 0\n",
    "    for xe in x:\n",
    "        score += dist[xe] if xe in dist else 0\n",
    "    return score\n",
    "\n",
    "\n",
    "def diff_dists(a, b):\n",
    "    diff = {}\n",
    "    for k in set(a.keys()) | set(b.keys()):\n",
    "        a_k = a[k] if k in a else 0.\n",
    "        b_k = b[k] if k in b else 0.\n",
    "        diff[k] = a_k - b_k\n",
    "    return diff\n",
    "\n",
    "\n",
    "def filter_mcd(source:List[Tuple[str,Tree]], otheratoms, othercomps, N=10000,\n",
    "               dc=None, coeffa=1, coeffb=1, coeffatom=0.1):\n",
    "    \"\"\"\n",
    "    :param source:      a list of examples from which to pick, in format (input, output)\n",
    "    :param otheratoms:  atom distributions of other splits\n",
    "    :param othercomps:  compound distributions of other splits\n",
    "    :param N:           how many examples to retain in selection from source\n",
    "    :return:   MCD selection of examples from source wrt all other distributions\n",
    "\n",
    "    ideally, the training set shouldn't contain any compound from new selection\n",
    "    and the new selection shouldn't contain any compound from test\n",
    "    \"\"\"\n",
    "    assert len(source) > N\n",
    "    assert len(otheratoms) == len(othercomps)\n",
    "    trainatoms, testatoms = otheratoms\n",
    "    traincomps, testcomps = othercomps\n",
    "    exstats = []\n",
    "    for x in tqdm(source):\n",
    "        xatoms = dc.extract_atoms(x[1])\n",
    "        xcomps = dc.extract_compounds(x[1])\n",
    "        exstats.append((get_dist_similarity(xcomps, traincomps),\n",
    "                        get_dist_similarity(xcomps, testcomps),\n",
    "                        -get_dist_similarity(xatoms, trainatoms),\n",
    "                        -get_dist_similarity(xatoms, testatoms),\n",
    "                        len(xcomps)))\n",
    "    # select top-N examples with least overlap with train and test as starting point\n",
    "    scores = [(i, coeffa*a + coeffb*b + coeffatom*c + coeffatom*d) for (i, (a, b, c, d, e)) in enumerate(exstats)]\n",
    "    sortedscores = sorted(scores, key=lambda x: x[1])\n",
    "    retids = [i for i, s in sortedscores[:N]]\n",
    "    ret = [(source[i][0], source[i][1], \"newsplit\") for i in retids]\n",
    "\n",
    "    # startatomdist = dc.compute_atom_distributions(ret)[\"newsplit\"]\n",
    "    # diffatomdisttrain = diff_dists(trainatoms, startatomdist)\n",
    "    # diffatomdisttest = diff_dists(testatoms, startatomdist)\n",
    "    #\n",
    "    # for x in tqdm(source):\n",
    "    #     xatoms = dc.extract_atoms(x[1])\n",
    "    #     xcomps = dc.extract_compounds(x[1])\n",
    "    #     exstats.append((get_dist_similarity(xcomps, traincomps),\n",
    "    #                     get_dist_similarity(xcomps, testcomps),\n",
    "    #                     get_dist_similarity(xatoms, diffatomdisttrain),\n",
    "    #                     get_dist_similarity(xatoms, diffatomdisttest),\n",
    "    #                     len(xcomps)))\n",
    "    #\n",
    "    # scores = [(i, coeffa*a + coeffb*b + coeffatom*c + coeffatom*d) for (i, (a, b, c, d, e)) in enumerate(exstats)]\n",
    "    # sortedscores = sorted(scores, key=lambda x: x[1])\n",
    "    # retids = [i for i, s in sortedscores[:N]]\n",
    "    # ret = [(source[i][0], source[i][1], \"newsplit\") for i in retids]\n",
    "    return ret"
   ],
   "metadata": {
    "collapsed": false,
    "pycharm": {
     "name": "#%%\n",
     "is_executing": true
    }
   }
  },
  {
   "cell_type": "code",
   "execution_count": null,
   "outputs": [],
   "source": [
    "unused = [(ex[0], taglisp_to_tree(ex[1])) for ex in ds if ex[2] == \"unused\"]\n",
    "len(unused)"
   ],
   "metadata": {
    "collapsed": false,
    "pycharm": {
     "name": "#%%\n",
     "is_executing": true
    }
   }
  },
  {
   "cell_type": "code",
   "execution_count": null,
   "outputs": [],
   "source": [
    "newsplit = filter_mcd(unused, [atom_dists[\"train\"], atom_dists[\"test\"]], [comp_dists[\"train\"], comp_dists[\"test\"]], dc=dc)"
   ],
   "metadata": {
    "collapsed": false,
    "pycharm": {
     "name": "#%%\n",
     "is_executing": true
    }
   }
  },
  {
   "cell_type": "code",
   "execution_count": null,
   "outputs": [],
   "source": [
    "newsplit_atomdist = dc.compute_atom_distributions(newsplit)[\"newsplit\"]\n",
    "newsplit_compdist = dc.compute_compound_distributions(newsplit)[\"newsplit\"]\n",
    "_atom_dists = {k: v for k, v in atom_dists.items()}\n",
    "_atom_dists[\"newsplit\"] = newsplit_atomdist\n",
    "_comp_dists = {k: v for k, v in comp_dists.items()}\n",
    "_comp_dists[\"newsplit\"] = newsplit_compdist\n",
    "print(json.dumps(dc._compute_atom_divergences(_atom_dists), indent=3))\n",
    "print(json.dumps(dc._compute_compound_divergences(_comp_dists), indent=3))"
   ],
   "metadata": {
    "collapsed": false,
    "pycharm": {
     "name": "#%%\n",
     "is_executing": true
    }
   }
  },
  {
   "cell_type": "code",
   "execution_count": 17,
   "outputs": [
    {
     "data": {
      "text/plain": "('Was a cinematographer a cinematographer of M0',\n Tree('@R@', [Tree('@QUERY', [Tree('@SELECT', [Tree('count', [Tree('*', [])])]), Tree('@WHERE', [Tree('@COND', [Tree('?x0', []), Tree('ns:film.cinematographer.film', []), Tree('m0', [])])])])]),\n 'newsplit')"
     },
     "execution_count": 17,
     "metadata": {},
     "output_type": "execute_result"
    }
   ],
   "source": [
    "newsplit[0]"
   ],
   "metadata": {
    "collapsed": false,
    "pycharm": {
     "name": "#%%\n"
    }
   }
  },
  {
   "cell_type": "code",
   "execution_count": 18,
   "outputs": [
    {
     "name": "stdout",
     "output_type": "stream",
     "text": [
      "0.3260013575831957\n",
      "0.4138321990765277\n",
      "0.08228389965015814\n"
     ]
    }
   ],
   "source": [
    "# test some chernoff coefficients\n",
    "a = {\"a\": 0.0, \"b\": 0.0, \"c\": 0.5, \"d\": 0.49, \"e\": 0.01}\n",
    "b = {\"a\": 0.2, \"b\": 0.2, \"c\": 0.2, \"d\": 0.2, \"e\": 0.2}\n",
    "print(1-dc.compute_chernoff_coeff(a, b))\n",
    "print(1-dc.compute_chernoff_coeff(a, b, 0.1))\n",
    "print(1-dc.compute_chernoff_coeff(b, a, 0.1))"
   ],
   "metadata": {
    "collapsed": false,
    "pycharm": {
     "name": "#%%\n"
    }
   }
  },
  {
   "cell_type": "code",
   "execution_count": 19,
   "outputs": [
    {
     "name": "stdout",
     "output_type": "stream",
     "text": [
      "5\n",
      "104\n",
      "100\n",
      "101\n"
     ]
    }
   ],
   "source": [
    "print(len(_atom_dists))\n",
    "print(len(_atom_dists[\"train\"]))\n",
    "print(len(_atom_dists[\"test\"]))\n",
    "print(len(_atom_dists[\"newsplit\"]))"
   ],
   "metadata": {
    "collapsed": false,
    "pycharm": {
     "name": "#%%\n"
    }
   }
  },
  {
   "cell_type": "code",
   "execution_count": 20,
   "outputs": [
    {
     "name": "stdout",
     "output_type": "stream",
     "text": [
      "dict_keys(['(* )', '(count ARG1)', '(@SELECT ARG1)', '(?x0 )', '(a )', '(ns:people.person )', '(@COND ARG1 ARG2 ARG3)', '(ns:influence.influence_node.influenced )', '(m1 )', '(m2 )', '(ns:people.person.spouse_s/ns:people.marriage.spouse )', '(ns:fictional_universe.fictional_character.married_to/ns:fictional_universe.marriage_of_fictional_characters.spouses )', '(@OR ARG*)', '(?x1 )', '(ns:film.cinematographer )', '(!= )', '(filter ARG1 ARG2 ARG3)', '(@WHERE ARG*)', '(@QUERY ARG ARG)', '(@R@ ARG1)', '(ns:influence.influence_node.influenced_by )', '(m0 )', '(ns:people.person.sibling_s/ns:people.sibling_relationship.sibling )', '(ns:fictional_universe.fictional_character.siblings/ns:fictional_universe.sibling_relationship_of_fictional_characters.siblings )', '(ns:people.person.gender )', '(ns:m.05zppz )', '(ns:film.film.directed_by )', '(m3 )', '(m4 )', '(ns:film.film.written_by )', '(distinct )', '(@SELECT ARG1 ARG2)', '(ns:organization.organization.founders )', '(ns:film.actor.film/ns:film.performance.film )', '(ns:film.film_costumer_designer.costume_design_for_film )', '(ns:film.producer.film )', '(ns:film.production_company.films )', '(ns:film.writer.film )', '(ns:film.film )', '(ns:film.film.executive_produced_by )', '(ns:people.person.employment_history/ns:business.employment_tenure.company )', '(ns:film.film_art_director )', '(ns:business.employer )', '(ns:film.director.film )', '(ns:film.actor.film/ns:film.performance.character )', '(ns:film.producer )', '(m5 )', '(m6 )', '(ns:people.person.children )', '(ns:fictional_universe.fictional_character.children )', '(ns:organization.organization.child/ns:organization.organization_relationship.child )', '(ns:people.person.parents )', '(ns:fictional_universe.fictional_character.parents )', '(ns:organization.organization.parent/ns:organization.organization_relationship.parent )', '(ns:film.film.distributors/ns:film.film_film_distributor_relationship.distributor )', '(ns:film.film.produced_by )', '(ns:film.film.production_companies )', '(ns:film.actor )', '(ns:business.employer.employees/ns:business.employment_tenure.person )', '(ns:film.editor.film )', '(ns:film.writer )', '(ns:people.person.nationality )', '(ns:m.0f8l9c )', '(ns:film.producer.films_executive_produced )', '(ns:film.director )', '(?x2 )', '(ns:m.06mkj )', '(ns:film.film.edited_by )', '(ns:film.film.prequel )', '(ns:organization.organization_founder.organizations_founded )', '(ns:m.0b90_r )', '(ns:m.09c7w0 )', '(ns:m.03rjj )', '(ns:m.0d0vqn )', '(ns:film.editor )', '(ns:film.film.sequel )', '(ns:film.cinematographer.film )', '(ns:film.film.starring/ns:film.performance.actor )', '(ns:film.production_company )', '(ns:m.02zsn )', '(ns:film.film_art_director.films_art_directed )', '(ns:m.0d060g )', '(ns:organization.organization.companies_acquired/ns:business.acquisition.company_acquired )', '(ns:m.0345h )', '(^ns:people.person.gender )', '(ns:film.film_costumer_designer )', '(?x3 )', '(ns:film.film_distributor.films_distributed/ns:film.film_film_distributor_relationship.film )', '(ns:m.03_3d )', '(ns:m.07ssc )', '(ns:fictional_universe.fictional_character )', '(ns:m.059j2 )', '(ns:film.film_distributor )', '(ns:organization.organization.acquired_by/ns:business.acquisition.acquiring_company )', '(ns:m.0d05w3 )', '(^ns:people.person.nationality )', '(ns:film.film.film_art_direction_by )', '(m7 )', '(m8 )', '(?x4 )', '(ns:film.film.cinematography )', '(ns:film.film.costume_design_by )', '(m9 )', '(?x5 )'])\n"
     ]
    }
   ],
   "source": [
    "print(atom_dists[\"train\"].keys())\n"
   ],
   "metadata": {
    "collapsed": false,
    "pycharm": {
     "name": "#%%\n"
    }
   }
  },
  {
   "cell_type": "code",
   "execution_count": null,
   "outputs": [],
   "source": [],
   "metadata": {
    "collapsed": false,
    "pycharm": {
     "name": "#%%\n"
    }
   }
  }
 ],
 "metadata": {
  "kernelspec": {
   "display_name": "Python 3",
   "language": "python",
   "name": "python3"
  },
  "language_info": {
   "codemirror_mode": {
    "name": "ipython",
    "version": 2
   },
   "file_extension": ".py",
   "mimetype": "text/x-python",
   "name": "python",
   "nbconvert_exporter": "python",
   "pygments_lexer": "ipython2",
   "version": "2.7.6"
  }
 },
 "nbformat": 4,
 "nbformat_minor": 0
}