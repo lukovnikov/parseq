{
 "cells": [
  {
   "cell_type": "code",
   "execution_count": 1,
   "metadata": {},
   "outputs": [],
   "source": [
    "%load_ext autoreload\n",
    "%autoreload 2"
   ]
  },
  {
   "cell_type": "code",
   "execution_count": 2,
   "metadata": {},
   "outputs": [],
   "source": [
    "import json\n",
    "from typing import List, Tuple\n",
    "from nltk import Tree\n",
    "from tqdm import tqdm\n",
    "from parseq.datasets import CFQDatasetLoader\n",
    "from parseq.grammar import taglisp_to_tree\n",
    "from parseq.scripts_resplit.resplit_cfq import DivergenceComputer, FrequencyDistribution"
   ]
  },
  {
   "cell_type": "code",
   "execution_count": 72,
   "metadata": {
    "pycharm": {
     "name": "#%%\n"
    }
   },
   "outputs": [
    {
     "name": "stdout",
     "output_type": "stream",
     "text": [
      "CFQDatasetLoader: make data\n",
      "CFQDatasetLoader: make data in 0.0 sec\n",
      "loading split 'mcd2'\n",
      "doing 'train'\n"
     ]
    },
    {
     "name": "stderr",
     "output_type": "stream",
     "text": [
      "100%|██████████| 95743/95743 [00:28<00:00, 3403.79it/s]\n"
     ]
    },
    {
     "name": "stdout",
     "output_type": "stream",
     "text": [
      "doing 'test'\n"
     ]
    },
    {
     "name": "stderr",
     "output_type": "stream",
     "text": [
      "100%|██████████| 11968/11968 [00:03<00:00, 3144.63it/s]\n"
     ]
    },
    {
     "name": "stdout",
     "output_type": "stream",
     "text": [
      "doing 'oodvalid'\n"
     ]
    },
    {
     "name": "stderr",
     "output_type": "stream",
     "text": [
      "100%|██████████| 11968/11968 [00:03<00:00, 3105.45it/s]\n"
     ]
    },
    {
     "name": "stdout",
     "output_type": "stream",
     "text": [
      "doing 'unused'\n"
     ]
    },
    {
     "name": "stderr",
     "output_type": "stream",
     "text": [
      "100%|██████████| 119678/119678 [00:36<00:00, 3264.78it/s]\n"
     ]
    }
   ],
   "source": [
    "ds = CFQDatasetLoader().load(\"mcd2/modent\", validfrac=0, loadunused=True, keepids=True)"
   ]
  },
  {
   "cell_type": "code",
   "execution_count": 73,
   "metadata": {
    "pycharm": {
     "name": "#%%\n"
    }
   },
   "outputs": [],
   "source": [
    "dc = DivergenceComputer()"
   ]
  },
  {
   "cell_type": "code",
   "execution_count": 74,
   "metadata": {
    "pycharm": {
     "name": "#%%\n"
    }
   },
   "outputs": [
    {
     "name": "stderr",
     "output_type": "stream",
     "text": [
      "100%|██████████| 239357/239357 [01:03<00:00, 3747.19it/s]\n"
     ]
    },
    {
     "name": "stdout",
     "output_type": "stream",
     "text": [
      "{\n",
      "   \"train-train\": -4.440892098500626e-16,\n",
      "   \"train-test\": 0.03132730435620745,\n",
      "   \"train-oodvalid\": 0.032651238914194525,\n",
      "   \"train-unused\": 0.013494024085208722,\n",
      "   \"test-train\": 0.03132730435620745,\n",
      "   \"test-test\": 1.1102230246251565e-16,\n",
      "   \"test-oodvalid\": 8.113859177327765e-05,\n",
      "   \"test-unused\": 0.009930059865293162,\n",
      "   \"oodvalid-train\": 0.032651238914194525,\n",
      "   \"oodvalid-test\": 8.113859177327765e-05,\n",
      "   \"oodvalid-oodvalid\": 6.661338147750939e-16,\n",
      "   \"oodvalid-unused\": 0.010216209565831913,\n",
      "   \"unused-train\": 0.013494024085208722,\n",
      "   \"unused-test\": 0.009930059865293162,\n",
      "   \"unused-oodvalid\": 0.010216209565831913,\n",
      "   \"unused-unused\": 0.0\n",
      "}\n"
     ]
    }
   ],
   "source": [
    "atom_dists = dc.compute_atom_distributions(ds)\n",
    "print(json.dumps(dc._compute_atom_divergences(atom_dists), indent=3))"
   ]
  },
  {
   "cell_type": "code",
   "execution_count": 75,
   "metadata": {
    "pycharm": {
     "name": "#%%\n"
    }
   },
   "outputs": [
    {
     "name": "stderr",
     "output_type": "stream",
     "text": [
      "100%|██████████| 239357/239357 [05:09<00:00, 772.66it/s] \n"
     ]
    },
    {
     "name": "stdout",
     "output_type": "stream",
     "text": [
      "{\n",
      "   \"train-train\": -1.683875261448975e-11,\n",
      "   \"train-test\": 0.758667704027568,\n",
      "   \"train-oodvalid\": 0.7638965664114622,\n",
      "   \"train-unused\": 0.43624495310010625,\n",
      "   \"test-train\": 0.8416811283686769,\n",
      "   \"test-test\": 1.9746426715983034e-12,\n",
      "   \"test-oodvalid\": 0.036111881760164444,\n",
      "   \"test-unused\": 0.539074523247199,\n",
      "   \"oodvalid-train\": 0.8559611826719928,\n",
      "   \"oodvalid-test\": 0.036735899422104645,\n",
      "   \"oodvalid-oodvalid\": -2.3783197633520103e-12,\n",
      "   \"oodvalid-unused\": 0.5455467425533544,\n",
      "   \"unused-train\": 0.24168319294906182,\n",
      "   \"unused-test\": 0.24042062960405308,\n",
      "   \"unused-oodvalid\": 0.24247465818209646,\n",
      "   \"unused-unused\": -1.1156631174458198e-11\n",
      "}\n"
     ]
    }
   ],
   "source": [
    "comp_dists = dc.compute_compound_distributions(ds)\n",
    "print(json.dumps(dc._compute_compound_divergences(comp_dists), indent=3))"
   ]
  },
  {
   "cell_type": "code",
   "execution_count": 76,
   "metadata": {
    "pycharm": {
     "name": "#%%\n"
    }
   },
   "outputs": [
    {
     "name": "stderr",
     "output_type": "stream",
     "text": [
      "100%|██████████| 239357/239357 [00:17<00:00, 13529.69it/s] \n"
     ]
    },
    {
     "data": {
      "text/plain": [
       "119678"
      ]
     },
     "execution_count": 76,
     "metadata": {},
     "output_type": "execute_result"
    }
   ],
   "source": [
    "unused = [(ex[0], ex[1], taglisp_to_tree(ex[2])) for ex in tqdm(ds) if ex[3] == \"unused\"]\n",
    "len(unused)"
   ]
  },
  {
   "cell_type": "code",
   "execution_count": 77,
   "metadata": {},
   "outputs": [],
   "source": [
    "\n",
    "def get_dist_similarity(x, dist):\n",
    "    if isinstance(dist, FrequencyDistribution):\n",
    "        dist = dist.tofreqs()\n",
    "    score = 0\n",
    "    for xe in x:\n",
    "        score += dist[xe] if xe in dist else 0\n",
    "    score = score / max(1e-6, len(x))\n",
    "    return score\n",
    "\n",
    "\n",
    "def compute_approx_chernoff_change(comps, traindist:FrequencyDistribution, testdist:FrequencyDistribution, alpha=0.1):\n",
    "    validchange = 0   # \"\" \"\" if assigned to valid\n",
    "    for comp in comps:\n",
    "        validchange += (((validdist[comp] + 1)/(validdist.total + 1)) ** alpha - validdist(comp) ** alpha) * (testdist(comp) ** (1-alpha))\n",
    "        validchange += (traindist(comp) ** alpha) * (((validdist[comp] + 1)/(validdist.total+1)) ** (1-alpha) - validdist(comp) ** (1-alpha))\n",
    "    return validchange\n",
    "\n",
    "\n",
    "def filter_mcd(source:List[Tuple[str,Tree]], otheratoms, othercomps, N=10000,\n",
    "               dc=None, coeffa=1., coeffb=30):\n",
    "    \"\"\"\n",
    "    :param source:      a list of examples from which to pick, in format (input, output)\n",
    "    :param otheratoms:  atom distributions of other splits\n",
    "    :param othercomps:  compound distributions of other splits\n",
    "    :param N:           how many examples to retain in selection from source\n",
    "    :return:   MCD selection of examples from source wrt all other distributions\n",
    "\n",
    "    ideally, the training set shouldn't contain any compound from new selection\n",
    "    and the new selection shouldn't contain any compound from test\n",
    "    \"\"\"\n",
    "    assert len(source) > N\n",
    "    assert len(otheratoms) == len(othercomps)\n",
    "    \n",
    "    trainatoms, testatoms = otheratoms\n",
    "    traincomps, testcomps = othercomps\n",
    "    traincomps = traincomps.tofreqs()\n",
    "    testcomps = testcomps.tofreqs()\n",
    "    \n",
    "    print(\"creating selection\")\n",
    "    exstats = []\n",
    "    i = 0\n",
    "    for x in tqdm(source):\n",
    "        xatoms = dc.extract_atoms(x[2])\n",
    "        # xcomps = dc.extract_compounds(x[1])\n",
    "        xcomps = dc.extract_compound_dist(x[2])\n",
    "        exstats.append((dc.compute_chernoff_coeff(traincomps, xcomps, alpha=0.1),\n",
    "                        dc.compute_chernoff_coeff(xcomps, testcomps, alpha=0.1),\n",
    "                        len(xcomps)))\n",
    "        if i < 10:\n",
    "            print(exstats[i])\n",
    "        i += 1\n",
    "        \n",
    "    # select top-N examples with least overlap with train and test as starting point\n",
    "    scores = [(i, coeffa*a + coeffb*b) for (i, (a, b, e)) in enumerate(exstats)]\n",
    "    sortedscores = sorted(scores, key=lambda x: x[1])\n",
    "    retids = [i for i, s in sortedscores[:N]]\n",
    "    \n",
    "    ret = []\n",
    "    for i in retids:\n",
    "        a = source[i]\n",
    "        a = tuple(a) + (\"ood2valid\",)\n",
    "        ret.append(a)\n",
    "    return ret"
   ]
  },
  {
   "cell_type": "code",
   "execution_count": 82,
   "metadata": {
    "pycharm": {
     "is_executing": true,
     "name": "#%%\n"
    },
    "scrolled": true
   },
   "outputs": [
    {
     "name": "stdout",
     "output_type": "stream",
     "text": [
      "creating selection\n"
     ]
    },
    {
     "name": "stderr",
     "output_type": "stream",
     "text": [
      "\r",
      "  0%|          | 0/119678 [00:00<?, ?it/s]"
     ]
    },
    {
     "name": "stdout",
     "output_type": "stream",
     "text": [
      "(0.3624525468472961, 0.010353082164249223, 25)\n",
      "(0.29354997078939765, 0.0342733987796785, 92)\n",
      "(0.4150774803690949, 0.010463744666323679, 14)\n",
      "(0.4193266485927801, 0.010470226809788645, 14)\n",
      "(0.3183205232745508, 0.009676378868546689, 175)\n",
      "(0.33514769883684786, 0.029944597224404304, 92)\n",
      "(0.22132164961200074, 0.03517247177141252, 129)\n",
      "(0.12597774206850776, 0.005929634621680035, 231)\n",
      "(0.3497406860779779, 0.007685187673286987, 92)\n",
      "(0.41634117744268523, 0.009150716341189438, 6)\n"
     ]
    },
    {
     "name": "stderr",
     "output_type": "stream",
     "text": [
      "100%|██████████| 119678/119678 [02:33<00:00, 780.15it/s] \n"
     ]
    }
   ],
   "source": [
    "newsplit = filter_mcd(unused, [atom_dists[\"train\"], atom_dists[\"test\"]], [comp_dists[\"train\"], comp_dists[\"test\"]], dc=dc, \n",
    "                      coeffb=15)"
   ]
  },
  {
   "cell_type": "code",
   "execution_count": 83,
   "metadata": {},
   "outputs": [
    {
     "name": "stderr",
     "output_type": "stream",
     "text": [
      "100%|██████████| 10000/10000 [00:01<00:00, 6838.40it/s]\n",
      "100%|██████████| 10000/10000 [00:19<00:00, 518.58it/s]\n"
     ]
    },
    {
     "name": "stdout",
     "output_type": "stream",
     "text": [
      "{\n",
      "   \"train-train\": -4.440892098500626e-16,\n",
      "   \"train-test\": 0.03132730435620745,\n",
      "   \"train-oodvalid\": 0.032651238914194525,\n",
      "   \"train-unused\": 0.013494024085208722,\n",
      "   \"train-ood2valid\": 0.04098440132340175,\n",
      "   \"test-train\": 0.03132730435620745,\n",
      "   \"test-test\": 1.1102230246251565e-16,\n",
      "   \"test-oodvalid\": 8.113859177327765e-05,\n",
      "   \"test-unused\": 0.009930059865293162,\n",
      "   \"test-ood2valid\": 0.04030324226695947,\n",
      "   \"oodvalid-train\": 0.032651238914194525,\n",
      "   \"oodvalid-test\": 8.113859177327765e-05,\n",
      "   \"oodvalid-oodvalid\": 6.661338147750939e-16,\n",
      "   \"oodvalid-unused\": 0.010216209565831913,\n",
      "   \"oodvalid-ood2valid\": 0.041031038560354616,\n",
      "   \"unused-train\": 0.013494024085208722,\n",
      "   \"unused-test\": 0.009930059865293162,\n",
      "   \"unused-oodvalid\": 0.010216209565831913,\n",
      "   \"unused-unused\": 0.0,\n",
      "   \"unused-ood2valid\": 0.031082935641014386,\n",
      "   \"ood2valid-train\": 0.04098440132340175,\n",
      "   \"ood2valid-test\": 0.04030324226695947,\n",
      "   \"ood2valid-oodvalid\": 0.041031038560354616,\n",
      "   \"ood2valid-unused\": 0.031082935641014386,\n",
      "   \"ood2valid-ood2valid\": -2.220446049250313e-16\n",
      "}\n",
      "{\n",
      "   \"train-train\": -1.683875261448975e-11,\n",
      "   \"train-test\": 0.758667704027568,\n",
      "   \"train-oodvalid\": 0.7638965664114622,\n",
      "   \"train-unused\": 0.43624495310010625,\n",
      "   \"train-ood2valid\": 0.786774462057925,\n",
      "   \"test-train\": 0.8416811283686769,\n",
      "   \"test-test\": 1.9746426715983034e-12,\n",
      "   \"test-oodvalid\": 0.036111881760164444,\n",
      "   \"test-unused\": 0.539074523247199,\n",
      "   \"test-ood2valid\": 0.7762038425816352,\n",
      "   \"oodvalid-train\": 0.8559611826719928,\n",
      "   \"oodvalid-test\": 0.036735899422104645,\n",
      "   \"oodvalid-oodvalid\": -2.3783197633520103e-12,\n",
      "   \"oodvalid-unused\": 0.5455467425533544,\n",
      "   \"oodvalid-ood2valid\": 0.779856591959251,\n",
      "   \"unused-train\": 0.24168319294906182,\n",
      "   \"unused-test\": 0.24042062960405308,\n",
      "   \"unused-oodvalid\": 0.24247465818209646,\n",
      "   \"unused-unused\": -1.1156631174458198e-11,\n",
      "   \"unused-ood2valid\": 0.12162644024875524,\n",
      "   \"ood2valid-train\": 0.7127593811321311,\n",
      "   \"ood2valid-test\": 0.648786283926242,\n",
      "   \"ood2valid-oodvalid\": 0.652397121626365,\n",
      "   \"ood2valid-unused\": 0.45072593843993336,\n",
      "   \"ood2valid-ood2valid\": 4.18376444599744e-12\n",
      "}\n"
     ]
    }
   ],
   "source": [
    "newsplit_atomdist = dc.compute_atom_distribution(newsplit)\n",
    "newsplit_compdist = dc.compute_compound_distribution(newsplit)\n",
    "_atom_dists = {k: v for k, v in atom_dists.items()}\n",
    "_atom_dists[\"ood2valid\"] = newsplit_atomdist\n",
    "_comp_dists = {k: v for k, v in comp_dists.items()}\n",
    "_comp_dists[\"ood2valid\"] = newsplit_compdist\n",
    "print(json.dumps(dc._compute_atom_divergences(_atom_dists), indent=3))\n",
    "print(json.dumps(dc._compute_compound_divergences(_comp_dists), indent=3))"
   ]
  },
  {
   "cell_type": "code",
   "execution_count": null,
   "outputs": [],
   "source": [
    "newsplit_atomdist = dc.compute_atom_distribution(newsplit)\n",
    "newsplit_compdist = dc.compute_compound_distribution(newsplit)\n",
    "_atom_dists = {k: v for k, v in atom_dists.items()}\n",
    "_atom_dists[\"ood2valid\"] = newsplit_atomdist\n",
    "_comp_dists = {k: v for k, v in comp_dists.items()}\n",
    "_comp_dists[\"ood2valid\"] = newsplit_compdist\n",
    "print(json.dumps(dc._compute_atom_divergences(_atom_dists), indent=3))\n",
    "print(json.dumps(dc._compute_compound_divergences(_comp_dists), indent=3))"
   ],
   "metadata": {
    "collapsed": false,
    "pycharm": {
     "name": "#%%\n"
    }
   }
  },
  {
   "cell_type": "code",
   "execution_count": 53,
   "metadata": {
    "pycharm": {
     "name": "#%%\n"
    },
    "scrolled": false
   },
   "outputs": [
    {
     "name": "stderr",
     "output_type": "stream",
     "text": [
      "100%|██████████| 10000/10000 [00:01<00:00, 6810.45it/s]\n",
      "100%|██████████| 10000/10000 [00:18<00:00, 532.44it/s]\n"
     ]
    },
    {
     "name": "stdout",
     "output_type": "stream",
     "text": [
      "{\n",
      "   \"train-train\": 0.0,\n",
      "   \"train-test\": 0.03824614256979553,\n",
      "   \"train-oodvalid\": 0.03836418726955826,\n",
      "   \"train-unused\": 0.014322402198022943,\n",
      "   \"train-ood2valid\": 0.06018251423648202,\n",
      "   \"test-train\": 0.03824614256979553,\n",
      "   \"test-test\": 0.0,\n",
      "   \"test-oodvalid\": 9.497392817769956e-05,\n",
      "   \"test-unused\": 0.009615993349177065,\n",
      "   \"test-ood2valid\": 0.047546806189623925,\n",
      "   \"oodvalid-train\": 0.03836418726955826,\n",
      "   \"oodvalid-test\": 9.497392817769956e-05,\n",
      "   \"oodvalid-oodvalid\": -2.220446049250313e-16,\n",
      "   \"oodvalid-unused\": 0.009726062600495133,\n",
      "   \"oodvalid-ood2valid\": 0.04781899274421708,\n",
      "   \"unused-train\": 0.014322402198022943,\n",
      "   \"unused-test\": 0.009615993349177065,\n",
      "   \"unused-oodvalid\": 0.009726062600495133,\n",
      "   \"unused-unused\": 2.220446049250313e-16,\n",
      "   \"unused-ood2valid\": 0.034586211770803454,\n",
      "   \"ood2valid-train\": 0.06018251423648202,\n",
      "   \"ood2valid-test\": 0.047546806189623925,\n",
      "   \"ood2valid-oodvalid\": 0.04781899274421708,\n",
      "   \"ood2valid-unused\": 0.034586211770803454,\n",
      "   \"ood2valid-ood2valid\": 2.220446049250313e-16\n",
      "}\n",
      "{\n",
      "   \"train-train\": -2.0840440484448663e-11,\n",
      "   \"train-test\": 0.7061454320548228,\n",
      "   \"train-oodvalid\": 0.7111304368329532,\n",
      "   \"train-unused\": 0.3396651000257963,\n",
      "   \"train-ood2valid\": 0.7227124256913056,\n",
      "   \"test-train\": 0.7254483398162695,\n",
      "   \"test-test\": 3.4514613389546867e-12,\n",
      "   \"test-oodvalid\": 0.039717652911116286,\n",
      "   \"test-unused\": 0.5678503732597882,\n",
      "   \"test-ood2valid\": 0.6755679816151587,\n",
      "   \"oodvalid-train\": 0.7240922762177477,\n",
      "   \"oodvalid-test\": 0.040512550603140296,\n",
      "   \"oodvalid-oodvalid\": 2.5137669723562794e-12,\n",
      "   \"oodvalid-unused\": 0.5655776006575582,\n",
      "   \"oodvalid-ood2valid\": 0.6734027548543187,\n",
      "   \"unused-train\": 0.19357920253960026,\n",
      "   \"unused-test\": 0.2489570548277924,\n",
      "   \"unused-oodvalid\": 0.2526906906093459,\n",
      "   \"unused-unused\": 1.047306685819649e-11,\n",
      "   \"unused-ood2valid\": 0.13442230083252527,\n",
      "   \"ood2valid-train\": 0.644194078705149,\n",
      "   \"ood2valid-test\": 0.674166699393721,\n",
      "   \"ood2valid-oodvalid\": 0.6729876218386037,\n",
      "   \"ood2valid-unused\": 0.5233303506269337,\n",
      "   \"ood2valid-ood2valid\": 4.774292072795561e-12\n",
      "}\n"
     ]
    }
   ],
   "source": [
    "for k in set(_atom_dists[\"train\"].elements()) | set(_atom_dists[\"test\"].elements()) | set(_atom_dists[\"newsplit\"].elements()):\n",
    "    print(f\"{k}: {_atom_dists['train'](k):.5f} - {_atom_dists['test'](k):.5f} - {_atom_dists['newsplit'](k):.5f}\")"
   ]
  },
  {
   "cell_type": "code",
   "execution_count": 11,
   "metadata": {
    "pycharm": {
     "name": "#%%\n"
    }
   },
   "outputs": [
    {
     "name": "stdout",
     "output_type": "stream",
     "text": [
      "(ns:film.film.edited_by ): 0.01024 - 0.00673 - 0.01000\n",
      "(ns:m.06mkj ): 0.00086 - 0.00062 - 0.00065\n",
      "(ns:film.film_distributor.films_distributed/ns:film.film_film_distributor_relationship.film ): 0.00075 - 0.00084 - 0.00130\n",
      "(ns:m.0d0vqn ): 0.00076 - 0.00066 - 0.00053\n",
      "(?x4 ): 0.00013 - 0.00000 - 0.00022\n",
      "(ns:people.person.sibling_s/ns:people.sibling_relationship.sibling ): 0.00333 - 0.00241 - 0.00082\n",
      "(ns:film.film ): 0.00268 - 0.00185 - 0.00157\n",
      "(ns:film.production_company.films ): 0.00338 - 0.00940 - 0.00388\n",
      "(ns:film.production_company ): 0.00076 - 0.00053 - 0.00102\n",
      "(m8 ): 0.00001 - 0.00003 - 0.00048\n",
      "(ns:fictional_universe.fictional_character ): 0.00095 - 0.00058 - 0.00051\n",
      "(ns:business.employer.employees/ns:business.employment_tenure.person ): 0.00303 - 0.00198 - 0.00726\n",
      "(ns:film.actor.film/ns:film.performance.film ): 0.00253 - 0.00564 - 0.00365\n",
      "(ns:film.writer.film ): 0.00375 - 0.01221 - 0.00547\n",
      "(ns:film.film.sequel ): 0.00083 - 0.00112 - 0.00120\n",
      "(?x5 ): 0.00001 - 0.00000 - 0.00002\n",
      "(ns:people.person.gender ): 0.00430 - 0.00322 - 0.00257\n",
      "(ns:m.059j2 ): 0.00069 - 0.00057 - 0.00048\n",
      "(ns:people.person.parents ): 0.00250 - 0.00180 - 0.00168\n",
      "(ns:people.person ): 0.00591 - 0.00372 - 0.00149\n",
      "(m2 ): 0.03110 - 0.03281 - 0.04080\n",
      "(ns:m.0345h ): 0.00070 - 0.00064 - 0.00068\n",
      "(ns:business.employer ): 0.00084 - 0.00055 - 0.00126\n",
      "(ns:organization.organization.child/ns:organization.organization_relationship.child ): 0.00259 - 0.00197 - 0.00171\n",
      "(ns:film.film_costumer_designer.costume_design_for_film ): 0.00175 - 0.00188 - 0.00098\n",
      "(ns:film.film.costume_design_by ): 0.00001 - 0.00000 - 0.00001\n",
      "(m9 ): 0.00000 - 0.00000 - 0.00000\n",
      "(ns:film.writer ): 0.00190 - 0.00133 - 0.00128\n",
      "(ns:m.09c7w0 ): 0.00066 - 0.00053 - 0.00049\n",
      "(!= ): 0.01132 - 0.00948 - 0.01107\n",
      "(@SELECT ARG1): 0.01862 - 0.01786 - 0.02122\n",
      "(ns:organization.organization.founders ): 0.00469 - 0.00182 - 0.00403\n",
      "(ns:people.person.children ): 0.00259 - 0.00197 - 0.00171\n",
      "(ns:film.director.film ): 0.00335 - 0.01363 - 0.00549\n",
      "(ns:influence.influence_node.influenced ): 0.00413 - 0.00389 - 0.00984\n",
      "(^ns:people.person.gender ): 0.00029 - 0.00009 - 0.00011\n",
      "(* ): 0.01862 - 0.01786 - 0.02122\n",
      "(m5 ): 0.00418 - 0.00643 - 0.02489\n",
      "(m3 ): 0.01785 - 0.02426 - 0.03468\n",
      "(ns:film.film.executive_produced_by ): 0.01080 - 0.00435 - 0.01027\n",
      "(m0 ): 0.02055 - 0.04557 - 0.05740\n",
      "(ns:influence.influence_node.influenced_by ): 0.00827 - 0.00807 - 0.00843\n",
      "(^ns:people.person.nationality ): 0.00044 - 0.00032 - 0.00044\n",
      "(ns:m.0f8l9c ): 0.00104 - 0.00082 - 0.00080\n",
      "(ns:film.actor ): 0.00182 - 0.00120 - 0.00109\n",
      "(ns:film.film.production_companies ): 0.01043 - 0.00433 - 0.00631\n",
      "(ns:m.0b90_r ): 0.00081 - 0.00061 - 0.00053\n",
      "(ns:film.film_distributor ): 0.00077 - 0.00051 - 0.00109\n",
      "(ns:people.person.nationality ): 0.00995 - 0.00823 - 0.00761\n",
      "(@QUERY ARG ARG): 0.03293 - 0.02927 - 0.02423\n",
      "(@WHERE ARG*): 0.03293 - 0.02927 - 0.02423\n",
      "(ns:m.0d05w3 ): 0.00080 - 0.00066 - 0.00055\n",
      "(ns:film.film_art_director ): 0.00146 - 0.00102 - 0.00077\n",
      "(?x0 ): 0.14023 - 0.18152 - 0.05348\n",
      "(m4 ): 0.00905 - 0.01275 - 0.03135\n",
      "(ns:film.film.film_art_direction_by ): 0.00003 - 0.00000 - 0.00001\n",
      "(ns:organization.organization_founder.organizations_founded ): 0.00363 - 0.00647 - 0.00655\n",
      "(ns:fictional_universe.fictional_character.parents ): 0.00250 - 0.00180 - 0.00168\n",
      "(ns:film.film.produced_by ): 0.01043 - 0.00433 - 0.00631\n",
      "(ns:m.03_3d ): 0.00084 - 0.00072 - 0.00064\n",
      "(ns:film.film.prequel ): 0.00077 - 0.00102 - 0.00117\n",
      "(ns:film.producer.films_executive_produced ): 0.00348 - 0.00968 - 0.00311\n",
      "(ns:fictional_universe.fictional_character.siblings/ns:fictional_universe.sibling_relationship_of_fictional_characters.siblings ): 0.00333 - 0.00241 - 0.00082\n",
      "(m7 ): 0.00034 - 0.00083 - 0.01056\n",
      "(ns:film.film.written_by ): 0.00872 - 0.00735 - 0.01666\n",
      "(ns:film.film.cinematography ): 0.00002 - 0.00000 - 0.00001\n",
      "(m6 ): 0.00160 - 0.00293 - 0.01977\n",
      "(ns:m.0d060g ): 0.00094 - 0.00090 - 0.00074\n",
      "(ns:organization.organization.acquired_by/ns:business.acquisition.acquiring_company ): 0.00093 - 0.00136 - 0.00292\n",
      "(ns:m.02zsn ): 0.00223 - 0.00160 - 0.00126\n",
      "(count ARG1): 0.01862 - 0.01786 - 0.02122\n",
      "(distinct ): 0.01432 - 0.01142 - 0.00301\n",
      "(ns:m.05zppz ): 0.00207 - 0.00162 - 0.00131\n",
      "(ns:film.actor.film/ns:film.performance.character ): 0.00182 - 0.00202 - 0.00243\n",
      "(ns:film.film_costumer_designer ): 0.00143 - 0.00101 - 0.00086\n",
      "(ns:organization.organization.companies_acquired/ns:business.acquisition.company_acquired ): 0.00065 - 0.00080 - 0.00509\n",
      "(@OR ARG*): 0.03023 - 0.02699 - 0.02465\n",
      "(?x3 ): 0.00153 - 0.00000 - 0.00179\n",
      "(ns:film.editor ): 0.00188 - 0.00133 - 0.00113\n",
      "(ns:film.film.directed_by ): 0.01060 - 0.00669 - 0.01104\n",
      "(ns:film.cinematographer ): 0.00181 - 0.00114 - 0.00107\n",
      "(?x2 ): 0.01320 - 0.00004 - 0.01027\n",
      "(ns:film.film.starring/ns:film.performance.actor ): 0.00227 - 0.00057 - 0.00363\n",
      "(ns:fictional_universe.fictional_character.children ): 0.00259 - 0.00197 - 0.00171\n",
      "(ns:m.07ssc ): 0.00089 - 0.00076 - 0.00075\n",
      "(a ): 0.02641 - 0.01768 - 0.01591\n",
      "(ns:film.cinematographer.film ): 0.00222 - 0.00442 - 0.00181\n",
      "(m1 ): 0.04192 - 0.04315 - 0.06748\n",
      "(@COND ARG1 ARG2 ARG3): 0.17288 - 0.18217 - 0.18942\n",
      "(ns:film.film.distributors/ns:film.film_film_distributor_relationship.distributor ): 0.00186 - 0.00063 - 0.00225\n",
      "(ns:film.director ): 0.00193 - 0.00120 - 0.00120\n",
      "(ns:film.film_art_director.films_art_directed ): 0.00193 - 0.00269 - 0.00154\n",
      "(ns:film.producer.film ): 0.00338 - 0.00940 - 0.00388\n",
      "(ns:film.editor.film ): 0.00383 - 0.01270 - 0.00594\n",
      "(@R@ ARG1): 0.03293 - 0.02927 - 0.02423\n",
      "(@SELECT ARG1 ARG2): 0.01432 - 0.01142 - 0.00301\n",
      "(ns:m.03rjj ): 0.00094 - 0.00074 - 0.00075\n",
      "(ns:fictional_universe.fictional_character.married_to/ns:fictional_universe.marriage_of_fictional_characters.spouses ): 0.00800 - 0.00708 - 0.01024\n",
      "(ns:people.person.spouse_s/ns:people.marriage.spouse ): 0.00800 - 0.00708 - 0.01024\n",
      "(filter ARG1 ARG2 ARG3): 0.01132 - 0.00948 - 0.01107\n",
      "(?x1 ): 0.06039 - 0.01527 - 0.02472\n",
      "(ns:people.person.employment_history/ns:business.employment_tenure.company ): 0.00436 - 0.00706 - 0.00604\n",
      "(ns:film.producer ): 0.00227 - 0.00172 - 0.00158\n",
      "(ns:organization.organization.parent/ns:organization.organization_relationship.parent ): 0.00250 - 0.00180 - 0.00168\n"
     ]
    }
   ],
   "source": [
    "for k in set(_atom_dists[\"train\"].elements()) | set(_atom_dists[\"test\"].elements()) | set(_atom_dists[\"newsplit\"].elements()):\n",
    "    print(f\"{k}: {_atom_dists['train'](k):.5f} - {_atom_dists['test'](k):.5f} - {_atom_dists['newsplit'](k):.5f}\")"
   ]
  },
  {
   "cell_type": "code",
   "execution_count": 19,
   "metadata": {},
   "outputs": [],
   "source": [
    "def print_overlaps(dists):\n",
    "    collections = dict()\n",
    "    for k, v in dists.items():\n",
    "        collections[k] = set(v.keys())\n",
    "    ks = list(dists.keys())\n",
    "    for i in range(len(ks)):\n",
    "        fromname = ks[i]\n",
    "        fromatoms = collections[ks[i]]\n",
    "        for j in range(i, len(ks)):\n",
    "            toname = ks[j]\n",
    "            toatoms = collections[ks[j]]\n",
    "            print(f\"Overlap {fromname},{toname}: {len(fromatoms & toatoms)} / ({len(fromatoms)}, {len(toatoms)})\")"
   ]
  },
  {
   "cell_type": "code",
   "execution_count": 22,
   "metadata": {},
   "outputs": [
    {
     "name": "stdout",
     "output_type": "stream",
     "text": [
      "Overlap train,train: 104 / (104, 104)\n",
      "Overlap train,test: 100 / (104, 100)\n",
      "Overlap train,oodvalid: 101 / (104, 101)\n",
      "Overlap train,unused: 104 / (104, 104)\n",
      "Overlap train,newsplit: 103 / (104, 103)\n",
      "Overlap test,test: 100 / (100, 100)\n",
      "Overlap test,oodvalid: 100 / (100, 101)\n",
      "Overlap test,unused: 100 / (100, 104)\n",
      "Overlap test,newsplit: 99 / (100, 103)\n",
      "Overlap oodvalid,oodvalid: 101 / (101, 101)\n",
      "Overlap oodvalid,unused: 101 / (101, 104)\n",
      "Overlap oodvalid,newsplit: 100 / (101, 103)\n",
      "Overlap unused,unused: 104 / (104, 104)\n",
      "Overlap unused,newsplit: 103 / (104, 103)\n",
      "Overlap newsplit,newsplit: 103 / (103, 103)\n",
      "Overlap train,train: 844862 / (844862, 844862)\n",
      "Overlap train,test: 19393 / (844862, 133039)\n",
      "Overlap train,oodvalid: 18578 / (844862, 132884)\n",
      "Overlap train,unused: 291419 / (844862, 1013197)\n",
      "Overlap train,newsplit: 109322 / (844862, 364795)\n",
      "Overlap test,test: 133039 / (133039, 133039)\n",
      "Overlap test,oodvalid: 93300 / (133039, 132884)\n",
      "Overlap test,unused: 95259 / (133039, 1013197)\n",
      "Overlap test,newsplit: 14540 / (133039, 364795)\n",
      "Overlap oodvalid,oodvalid: 132884 / (132884, 132884)\n",
      "Overlap oodvalid,unused: 95482 / (132884, 1013197)\n",
      "Overlap oodvalid,newsplit: 14611 / (132884, 364795)\n",
      "Overlap unused,unused: 1013197 / (1013197, 1013197)\n",
      "Overlap unused,newsplit: 364795 / (1013197, 364795)\n",
      "Overlap newsplit,newsplit: 364795 / (364795, 364795)\n"
     ]
    }
   ],
   "source": [
    "print_overlaps(_atom_dists)\n",
    "print_overlaps(_comp_dists)"
   ]
  },
  {
   "cell_type": "code",
   "execution_count": 46,
   "metadata": {},
   "outputs": [],
   "source": [
    "def filter_traindata(traindata, testdata, newdevdata, N=10000):\n",
    "    newcompdist = dc.compute_compound_distribution(newdevdata).tofreqs()\n",
    "    testdist = dc.compute_compound_distribution(testdata).tofreqs()\n",
    "        \n",
    "    scores = []\n",
    "    for i, x in enumerate(tqdm(traindata)):\n",
    "        xcomps = dc.extract_compounds(x[1])\n",
    "        scores.append((i, get_dist_similarity(xcomps, newcompdist) - get_dist_similarity(xcomps, testdist)))\n",
    "        \n",
    "    sortedscores = sorted(scores, key=lambda x: x[1], reverse=True)\n",
    "    retids = [i for i, s in sortedscores[N:]]\n",
    "    ret = [(traindata[i][0], traindata[i][1], \"newtrain\") for i in retids]\n",
    "    return ret"
   ]
  },
  {
   "cell_type": "code",
   "execution_count": 47,
   "metadata": {},
   "outputs": [
    {
     "name": "stderr",
     "output_type": "stream",
     "text": [
      "100%|███████████████████████████████████████████████████████████████████████| 239357/239357 [00:12<00:00, 18744.58it/s]\n",
      "100%|██████████████████████████████████████████████████████████████████████| 239357/239357 [00:01<00:00, 149562.97it/s]\n",
      "100%|███████████████████████████████████████████████████████████████████████| 10000/10000 [00:00<00:00, 1428091.25it/s]\n",
      "100%|███████████████████████████████████████████████████████████████████████████| 10000/10000 [00:25<00:00, 399.05it/s]\n",
      "100%|███████████████████████████████████████████████████████████████████████████| 11968/11968 [00:17<00:00, 666.47it/s]\n",
      "100%|██████████████████████████████████████████████████████████████████████████| 95743/95743 [01:23<00:00, 1151.01it/s]\n"
     ]
    }
   ],
   "source": [
    "traindata = [(ex[0], taglisp_to_tree(ex[1])) for ex in tqdm(ds) if ex[2] == \"train\"]\n",
    "testdata = [(ex[0], taglisp_to_tree(ex[1])) for ex in tqdm(ds) if ex[2] == \"test\"]\n",
    "newdevdata = [(ex[0], ex[1]) for ex in tqdm(newsplit)]\n",
    "newtrain = filter_traindata(traindata, testdata, newdevdata)"
   ]
  },
  {
   "cell_type": "code",
   "execution_count": 48,
   "metadata": {},
   "outputs": [
    {
     "name": "stderr",
     "output_type": "stream",
     "text": [
      "100%|██████████████████████████████████████████████████████████████████████████| 85743/85743 [00:10<00:00, 8572.47it/s]\n",
      "100%|██████████████████████████████████████████████████████████████████████████| 85743/85743 [01:21<00:00, 1050.25it/s]\n"
     ]
    },
    {
     "name": "stdout",
     "output_type": "stream",
     "text": [
      "{\n",
      "   \"train-train\": -4.440892098500626e-16,\n",
      "   \"train-test\": 0.03132730435620734,\n",
      "   \"train-oodvalid\": 0.032651238914194414,\n",
      "   \"train-unused\": 0.01349402408520839,\n",
      "   \"train-newsplit\": 0.05231157711172296,\n",
      "   \"train-newtrain\": 0.00030947563155736546,\n",
      "   \"test-train\": 0.03132730435620712,\n",
      "   \"test-test\": 3.3306690738754696e-16,\n",
      "   \"test-oodvalid\": 8.113859177349969e-05,\n",
      "   \"test-unused\": 0.009930059865293495,\n",
      "   \"test-newsplit\": 0.054593072694224976,\n",
      "   \"test-newtrain\": 0.03393804863415539,\n",
      "   \"oodvalid-train\": 0.032651238914194414,\n",
      "   \"oodvalid-test\": 8.113859177349969e-05,\n",
      "   \"oodvalid-oodvalid\": 3.3306690738754696e-16,\n",
      "   \"oodvalid-unused\": 0.010216209565832135,\n",
      "   \"oodvalid-newsplit\": 0.05506934688627341,\n",
      "   \"oodvalid-newtrain\": 0.03529685053183662,\n",
      "   \"unused-train\": 0.01349402408520839,\n",
      "   \"unused-test\": 0.009930059865293495,\n",
      "   \"unused-oodvalid\": 0.010216209565832135,\n",
      "   \"unused-unused\": 3.3306690738754696e-16,\n",
      "   \"unused-newsplit\": 0.044862260862684744,\n",
      "   \"unused-newtrain\": 0.014987110492609035,\n",
      "   \"newsplit-train\": 0.05231157711172296,\n",
      "   \"newsplit-test\": 0.05459307269422509,\n",
      "   \"newsplit-oodvalid\": 0.05506934688627341,\n",
      "   \"newsplit-unused\": 0.044862260862684966,\n",
      "   \"newsplit-newsplit\": -4.440892098500626e-16,\n",
      "   \"newsplit-newtrain\": 0.05729184074195437,\n",
      "   \"newtrain-train\": 0.00030947563155725444,\n",
      "   \"newtrain-test\": 0.03393804863415539,\n",
      "   \"newtrain-oodvalid\": 0.03529685053183651,\n",
      "   \"newtrain-unused\": 0.014987110492609035,\n",
      "   \"newtrain-newsplit\": 0.05729184074195437,\n",
      "   \"newtrain-newtrain\": -2.220446049250313e-16\n",
      "}\n",
      "{\n",
      "   \"train-train\": -2.4316326729945104e-11,\n",
      "   \"train-test\": 0.7923141736785184,\n",
      "   \"train-oodvalid\": 0.797141424992299,\n",
      "   \"train-unused\": 0.46498649480267107,\n",
      "   \"train-newsplit\": 0.6922748662696521,\n",
      "   \"train-newtrain\": 0.0027178129228242476,\n",
      "   \"test-train\": 0.8781217068537167,\n",
      "   \"test-test\": -1.1481926520673369e-12,\n",
      "   \"test-oodvalid\": 0.038122192098329566,\n",
      "   \"test-unused\": 0.5672632863989677,\n",
      "   \"test-newsplit\": 0.927461318838058,\n",
      "   \"test-newtrain\": 0.8757835351073494,\n",
      "   \"oodvalid-train\": 0.8916881663414968,\n",
      "   \"oodvalid-test\": 0.038850923233816004,\n",
      "   \"oodvalid-oodvalid\": -3.1916691511924e-12,\n",
      "   \"oodvalid-unused\": 0.5736357839844285,\n",
      "   \"oodvalid-newsplit\": 0.9283269684202771,\n",
      "   \"oodvalid-newtrain\": 0.8898157438188146,\n",
      "   \"unused-train\": 0.25837681512584665,\n",
      "   \"unused-test\": 0.25220776724684346,\n",
      "   \"unused-oodvalid\": 0.25408092646422964,\n",
      "   \"unused-unused\": -8.233858039830011e-12,\n",
      "   \"unused-newsplit\": 0.12124631631381466,\n",
      "   \"unused-newtrain\": 0.2645103699660184,\n",
      "   \"newsplit-train\": 0.7329985188713475,\n",
      "   \"newsplit-test\": 0.8522579048217902,\n",
      "   \"newsplit-oodvalid\": 0.8456596424425252,\n",
      "   \"newsplit-unused\": 0.5543823782369663,\n",
      "   \"newsplit-newsplit\": 4.079070414775288e-12,\n",
      "   \"newsplit-newtrain\": 0.7626153745638657,\n",
      "   \"newtrain-train\": 0.01617167470114622,\n",
      "   \"newtrain-test\": 0.7935024604867184,\n",
      "   \"newtrain-oodvalid\": 0.7982938861702079,\n",
      "   \"newtrain-unused\": 0.4979037753281207,\n",
      "   \"newtrain-newsplit\": 0.8153622924662655,\n",
      "   \"newtrain-newtrain\": -8.422595954016288e-12\n",
      "}\n"
     ]
    }
   ],
   "source": [
    "newtrain_atomdist = dc.compute_atom_distribution(newtrain)\n",
    "newtrain_compdist = dc.compute_compound_distribution(newtrain)\n",
    "__atom_dists = {k: v for k, v in _atom_dists.items()}\n",
    "__atom_dists[\"newtrain\"] = newtrain_atomdist\n",
    "__comp_dists = {k: v for k, v in _comp_dists.items()}\n",
    "__comp_dists[\"newtrain\"] = newtrain_compdist\n",
    "print(json.dumps(dc._compute_atom_divergences(__atom_dists), indent=3))\n",
    "print(json.dumps(dc._compute_compound_divergences(__comp_dists), indent=3))"
   ]
  },
  {
   "cell_type": "code",
   "execution_count": 49,
   "metadata": {},
   "outputs": [
    {
     "name": "stdout",
     "output_type": "stream",
     "text": [
      "Overlap train,train: 104 / (104, 104)\n",
      "Overlap train,test: 100 / (104, 100)\n",
      "Overlap train,oodvalid: 101 / (104, 101)\n",
      "Overlap train,unused: 104 / (104, 104)\n",
      "Overlap train,newsplit: 103 / (104, 103)\n",
      "Overlap train,newtrain: 104 / (104, 104)\n",
      "Overlap test,test: 100 / (100, 100)\n",
      "Overlap test,oodvalid: 100 / (100, 101)\n",
      "Overlap test,unused: 100 / (100, 104)\n",
      "Overlap test,newsplit: 99 / (100, 103)\n",
      "Overlap test,newtrain: 100 / (100, 104)\n",
      "Overlap oodvalid,oodvalid: 101 / (101, 101)\n",
      "Overlap oodvalid,unused: 101 / (101, 104)\n",
      "Overlap oodvalid,newsplit: 100 / (101, 103)\n",
      "Overlap oodvalid,newtrain: 101 / (101, 104)\n",
      "Overlap unused,unused: 104 / (104, 104)\n",
      "Overlap unused,newsplit: 103 / (104, 103)\n",
      "Overlap unused,newtrain: 104 / (104, 104)\n",
      "Overlap newsplit,newsplit: 103 / (103, 103)\n",
      "Overlap newsplit,newtrain: 103 / (103, 104)\n",
      "Overlap newtrain,newtrain: 104 / (104, 104)\n",
      "Overlap train,train: 844862 / (844862, 844862)\n",
      "Overlap train,test: 19393 / (844862, 133039)\n",
      "Overlap train,oodvalid: 18578 / (844862, 132884)\n",
      "Overlap train,unused: 291419 / (844862, 1013197)\n",
      "Overlap train,newsplit: 109322 / (844862, 364795)\n",
      "Overlap train,newtrain: 813887 / (844862, 813887)\n",
      "Overlap test,test: 133039 / (133039, 133039)\n",
      "Overlap test,oodvalid: 93300 / (133039, 132884)\n",
      "Overlap test,unused: 95259 / (133039, 1013197)\n",
      "Overlap test,newsplit: 14540 / (133039, 364795)\n",
      "Overlap test,newtrain: 18884 / (133039, 813887)\n",
      "Overlap oodvalid,oodvalid: 132884 / (132884, 132884)\n",
      "Overlap oodvalid,unused: 95482 / (132884, 1013197)\n",
      "Overlap oodvalid,newsplit: 14611 / (132884, 364795)\n",
      "Overlap oodvalid,newtrain: 18119 / (132884, 813887)\n",
      "Overlap unused,unused: 1013197 / (1013197, 1013197)\n",
      "Overlap unused,newsplit: 364795 / (1013197, 364795)\n",
      "Overlap unused,newtrain: 274268 / (1013197, 813887)\n",
      "Overlap newsplit,newsplit: 364795 / (364795, 364795)\n",
      "Overlap newsplit,newtrain: 94327 / (364795, 813887)\n",
      "Overlap newtrain,newtrain: 813887 / (813887, 813887)\n"
     ]
    }
   ],
   "source": [
    "print_overlaps(__atom_dists)\n",
    "print_overlaps(__comp_dists)"
   ]
  },
  {
   "cell_type": "code",
   "execution_count": null,
   "metadata": {},
   "outputs": [],
   "source": []
  },
  {
   "cell_type": "code",
   "execution_count": null,
   "metadata": {},
   "outputs": [],
   "source": []
  },
  {
   "cell_type": "code",
   "execution_count": null,
   "metadata": {},
   "outputs": [],
   "source": []
  },
  {
   "cell_type": "code",
   "execution_count": null,
   "metadata": {},
   "outputs": [],
   "source": []
  },
  {
   "cell_type": "code",
   "execution_count": 18,
   "metadata": {
    "pycharm": {
     "name": "#%%\n"
    }
   },
   "outputs": [
    {
     "name": "stdout",
     "output_type": "stream",
     "text": [
      "0.3260013575831957\n",
      "0.4138321990765277\n",
      "0.08228389965015814\n"
     ]
    }
   ],
   "source": [
    "# test some chernoff coefficients\n",
    "a = {\"a\": 0.0, \"b\": 0.0, \"c\": 0.5, \"d\": 0.49, \"e\": 0.01}\n",
    "b = {\"a\": 0.2, \"b\": 0.2, \"c\": 0.2, \"d\": 0.2, \"e\": 0.2}\n",
    "print(1-dc.compute_chernoff_coeff(a, b))\n",
    "print(1-dc.compute_chernoff_coeff(a, b, 0.1))\n",
    "print(1-dc.compute_chernoff_coeff(b, a, 0.1))"
   ]
  },
  {
   "cell_type": "code",
   "execution_count": 19,
   "metadata": {
    "pycharm": {
     "name": "#%%\n"
    }
   },
   "outputs": [
    {
     "name": "stdout",
     "output_type": "stream",
     "text": [
      "5\n",
      "104\n",
      "100\n",
      "101\n"
     ]
    }
   ],
   "source": [
    "print(len(_atom_dists))\n",
    "print(len(_atom_dists[\"train\"]))\n",
    "print(len(_atom_dists[\"test\"]))\n",
    "print(len(_atom_dists[\"newsplit\"]))"
   ]
  },
  {
   "cell_type": "code",
   "execution_count": 20,
   "metadata": {
    "pycharm": {
     "name": "#%%\n"
    }
   },
   "outputs": [
    {
     "name": "stdout",
     "output_type": "stream",
     "text": [
      "dict_keys(['(* )', '(count ARG1)', '(@SELECT ARG1)', '(?x0 )', '(a )', '(ns:people.person )', '(@COND ARG1 ARG2 ARG3)', '(ns:influence.influence_node.influenced )', '(m1 )', '(m2 )', '(ns:people.person.spouse_s/ns:people.marriage.spouse )', '(ns:fictional_universe.fictional_character.married_to/ns:fictional_universe.marriage_of_fictional_characters.spouses )', '(@OR ARG*)', '(?x1 )', '(ns:film.cinematographer )', '(!= )', '(filter ARG1 ARG2 ARG3)', '(@WHERE ARG*)', '(@QUERY ARG ARG)', '(@R@ ARG1)', '(ns:influence.influence_node.influenced_by )', '(m0 )', '(ns:people.person.sibling_s/ns:people.sibling_relationship.sibling )', '(ns:fictional_universe.fictional_character.siblings/ns:fictional_universe.sibling_relationship_of_fictional_characters.siblings )', '(ns:people.person.gender )', '(ns:m.05zppz )', '(ns:film.film.directed_by )', '(m3 )', '(m4 )', '(ns:film.film.written_by )', '(distinct )', '(@SELECT ARG1 ARG2)', '(ns:organization.organization.founders )', '(ns:film.actor.film/ns:film.performance.film )', '(ns:film.film_costumer_designer.costume_design_for_film )', '(ns:film.producer.film )', '(ns:film.production_company.films )', '(ns:film.writer.film )', '(ns:film.film )', '(ns:film.film.executive_produced_by )', '(ns:people.person.employment_history/ns:business.employment_tenure.company )', '(ns:film.film_art_director )', '(ns:business.employer )', '(ns:film.director.film )', '(ns:film.actor.film/ns:film.performance.character )', '(ns:film.producer )', '(m5 )', '(m6 )', '(ns:people.person.children )', '(ns:fictional_universe.fictional_character.children )', '(ns:organization.organization.child/ns:organization.organization_relationship.child )', '(ns:people.person.parents )', '(ns:fictional_universe.fictional_character.parents )', '(ns:organization.organization.parent/ns:organization.organization_relationship.parent )', '(ns:film.film.distributors/ns:film.film_film_distributor_relationship.distributor )', '(ns:film.film.produced_by )', '(ns:film.film.production_companies )', '(ns:film.actor )', '(ns:business.employer.employees/ns:business.employment_tenure.person )', '(ns:film.editor.film )', '(ns:film.writer )', '(ns:people.person.nationality )', '(ns:m.0f8l9c )', '(ns:film.producer.films_executive_produced )', '(ns:film.director )', '(?x2 )', '(ns:m.06mkj )', '(ns:film.film.edited_by )', '(ns:film.film.prequel )', '(ns:organization.organization_founder.organizations_founded )', '(ns:m.0b90_r )', '(ns:m.09c7w0 )', '(ns:m.03rjj )', '(ns:m.0d0vqn )', '(ns:film.editor )', '(ns:film.film.sequel )', '(ns:film.cinematographer.film )', '(ns:film.film.starring/ns:film.performance.actor )', '(ns:film.production_company )', '(ns:m.02zsn )', '(ns:film.film_art_director.films_art_directed )', '(ns:m.0d060g )', '(ns:organization.organization.companies_acquired/ns:business.acquisition.company_acquired )', '(ns:m.0345h )', '(^ns:people.person.gender )', '(ns:film.film_costumer_designer )', '(?x3 )', '(ns:film.film_distributor.films_distributed/ns:film.film_film_distributor_relationship.film )', '(ns:m.03_3d )', '(ns:m.07ssc )', '(ns:fictional_universe.fictional_character )', '(ns:m.059j2 )', '(ns:film.film_distributor )', '(ns:organization.organization.acquired_by/ns:business.acquisition.acquiring_company )', '(ns:m.0d05w3 )', '(^ns:people.person.nationality )', '(ns:film.film.film_art_direction_by )', '(m7 )', '(m8 )', '(?x4 )', '(ns:film.film.cinematography )', '(ns:film.film.costume_design_by )', '(m9 )', '(?x5 )'])\n"
     ]
    }
   ],
   "source": [
    "print(atom_dists[\"train\"].keys())\n"
   ]
  },
  {
   "cell_type": "code",
   "execution_count": 14,
   "metadata": {
    "pycharm": {
     "name": "#%%\n"
    }
   },
   "outputs": [
    {
     "data": {
      "text/plain": [
       "667613"
      ]
     },
     "execution_count": 14,
     "metadata": {},
     "output_type": "execute_result"
    }
   ],
   "source": [
    "len(comp_dists[\"train\"])"
   ]
  },
  {
   "cell_type": "code",
   "execution_count": 15,
   "metadata": {},
   "outputs": [
    {
     "data": {
      "text/plain": [
       "40000000000"
      ]
     },
     "execution_count": 15,
     "metadata": {},
     "output_type": "execute_result"
    }
   ],
   "source": [
    "200000*200000 "
   ]
  },
  {
   "cell_type": "code",
   "execution_count": 16,
   "metadata": {},
   "outputs": [],
   "source": [
    "import numpy as np"
   ]
  },
  {
   "cell_type": "code",
   "execution_count": 18,
   "metadata": {},
   "outputs": [
    {
     "ename": "MemoryError",
     "evalue": "Unable to allocate 74.5 GiB for an array with shape (200000, 200000) and data type int16",
     "output_type": "error",
     "traceback": [
      "\u001B[1;31m---------------------------------------------------------------------------\u001B[0m",
      "\u001B[1;31mMemoryError\u001B[0m                               Traceback (most recent call last)",
      "\u001B[1;32m~\\AppData\\Local\\Temp/ipykernel_43368/3963731470.py\u001B[0m in \u001B[0;36m<module>\u001B[1;34m\u001B[0m\n\u001B[1;32m----> 1\u001B[1;33m \u001B[0mnp\u001B[0m\u001B[1;33m.\u001B[0m\u001B[0mzeros\u001B[0m\u001B[1;33m(\u001B[0m\u001B[1;33m(\u001B[0m\u001B[1;36m200000\u001B[0m\u001B[1;33m,\u001B[0m \u001B[1;36m200000\u001B[0m\u001B[1;33m)\u001B[0m\u001B[1;33m,\u001B[0m \u001B[0mdtype\u001B[0m\u001B[1;33m=\u001B[0m\u001B[1;34m\"int16\"\u001B[0m\u001B[1;33m)\u001B[0m\u001B[1;33m\u001B[0m\u001B[1;33m\u001B[0m\u001B[0m\n\u001B[0m",
      "\u001B[1;31mMemoryError\u001B[0m: Unable to allocate 74.5 GiB for an array with shape (200000, 200000) and data type int16"
     ]
    }
   ],
   "source": []
  },
  {
   "cell_type": "code",
   "execution_count": null,
   "metadata": {},
   "outputs": [],
   "source": []
  }
 ],
 "metadata": {
  "kernelspec": {
   "display_name": "Python 3",
   "language": "python",
   "name": "python3"
  },
  "language_info": {
   "codemirror_mode": {
    "name": "ipython",
    "version": 3
   },
   "file_extension": ".py",
   "mimetype": "text/x-python",
   "name": "python",
   "nbconvert_exporter": "python",
   "pygments_lexer": "ipython3",
   "version": "3.6.12"
  }
 },
 "nbformat": 4,
 "nbformat_minor": 1
}